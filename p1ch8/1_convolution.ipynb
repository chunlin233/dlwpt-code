{
 "cells": [
  {
   "cell_type": "code",
   "execution_count": 52,
   "metadata": {},
   "outputs": [
    {
     "output_type": "execute_result",
     "data": {
      "text/plain": "<torch._C.Generator at 0x7fe52f0b8ed0>"
     },
     "metadata": {},
     "execution_count": 52
    }
   ],
   "source": [
    "%matplotlib inline\n",
    "from matplotlib import pyplot as plt\n",
    "import numpy as np\n",
    "import collections\n",
    "\n",
    "import torch\n",
    "import torch.nn as nn\n",
    "import torch.nn.functional as F\n",
    "import torch.optim as optim\n",
    "\n",
    "torch.set_printoptions(edgeitems=2)\n",
    "torch.manual_seed(123)"
   ]
  },
  {
   "cell_type": "code",
   "execution_count": 53,
   "metadata": {},
   "outputs": [],
   "source": [
    "class_names = ['airplane','automobile','bird','cat','deer',\n",
    "               'dog','frog','horse','ship','truck']"
   ]
  },
  {
   "cell_type": "code",
   "execution_count": 54,
   "metadata": {
    "tags": []
   },
   "outputs": [],
   "source": [
    "from torchvision import datasets, transforms\n",
    "data_path = '../data-unversioned/p1ch7/'\n",
    "cifar10 = datasets.CIFAR10(\n",
    "    data_path, train=True, download=False,\n",
    "    transform=transforms.Compose([\n",
    "        transforms.ToTensor(),\n",
    "        transforms.Normalize((0.4915, 0.4823, 0.4468),\n",
    "                             (0.2470, 0.2435, 0.2616))\n",
    "    ]))"
   ]
  },
  {
   "cell_type": "code",
   "execution_count": 55,
   "metadata": {},
   "outputs": [],
   "source": [
    "cifar10_val = datasets.CIFAR10(\n",
    "    data_path, train=False, download=False,\n",
    "    transform=transforms.Compose([\n",
    "        transforms.ToTensor(),\n",
    "        transforms.Normalize((0.4915, 0.4823, 0.4468),\n",
    "                             (0.2470, 0.2435, 0.2616))\n",
    "    ]))"
   ]
  },
  {
   "cell_type": "code",
   "execution_count": 56,
   "metadata": {},
   "outputs": [],
   "source": [
    "label_map = {0: 0, 2: 1}\n",
    "class_names = ['airplane', 'bird']\n",
    "cifar2 = [(img, label_map[label])\n",
    "          for img, label in cifar10\n",
    "          if label in [0, 2]]\n",
    "cifar2_val = [(img, label_map[label])\n",
    "              for img, label in cifar10_val\n",
    "              if label in [0, 2]]"
   ]
  },
  {
   "cell_type": "code",
   "execution_count": 57,
   "metadata": {},
   "outputs": [],
   "source": [
    "connected_model = nn.Sequential(\n",
    "            nn.Linear(3072, 1024),\n",
    "            nn.Tanh(),\n",
    "            nn.Linear(1024, 512),\n",
    "            nn.Tanh(),\n",
    "            nn.Linear(512, 128),\n",
    "            nn.Tanh(),\n",
    "            nn.Linear(128, 2))"
   ]
  },
  {
   "cell_type": "code",
   "execution_count": 58,
   "metadata": {},
   "outputs": [
    {
     "output_type": "execute_result",
     "data": {
      "text/plain": "(3737474, [3145728, 1024, 524288, 512, 65536, 128, 256, 2])"
     },
     "metadata": {},
     "execution_count": 58
    }
   ],
   "source": [
    "numel_list = [p.numel()\n",
    "              for p in connected_model.parameters()\n",
    "              if p.requires_grad == True]\n",
    "sum(numel_list), numel_list"
   ]
  },
  {
   "cell_type": "code",
   "execution_count": 59,
   "metadata": {},
   "outputs": [],
   "source": [
    "first_model = nn.Sequential(\n",
    "                nn.Linear(3072, 512),\n",
    "                nn.Tanh(),\n",
    "                nn.Linear(512, 2),\n",
    "                nn.LogSoftmax(dim=1))"
   ]
  },
  {
   "cell_type": "code",
   "execution_count": 60,
   "metadata": {},
   "outputs": [
    {
     "output_type": "execute_result",
     "data": {
      "text/plain": "(1574402, [1572864, 512, 1024, 2])"
     },
     "metadata": {},
     "execution_count": 60
    }
   ],
   "source": [
    "numel_list = [p.numel() for p in first_model.parameters()]\n",
    "sum(numel_list), numel_list"
   ]
  },
  {
   "cell_type": "code",
   "execution_count": 61,
   "metadata": {},
   "outputs": [
    {
     "output_type": "execute_result",
     "data": {
      "text/plain": "(torch.Size([1024, 3072]), torch.Size([1024]))"
     },
     "metadata": {},
     "execution_count": 61
    }
   ],
   "source": [
    "linear = nn.Linear(3072, 1024)\n",
    "\n",
    "linear.weight.shape, linear.bias.shape"
   ]
  },
  {
   "cell_type": "code",
   "execution_count": 62,
   "metadata": {},
   "outputs": [
    {
     "output_type": "execute_result",
     "data": {
      "text/plain": "Conv2d(3, 16, kernel_size=(3, 3), stride=(1, 1))"
     },
     "metadata": {},
     "execution_count": 62
    }
   ],
   "source": [
    "conv = nn.Conv2d(3, 16, kernel_size=3) # <1>\n",
    "conv"
   ]
  },
  {
   "cell_type": "code",
   "execution_count": 63,
   "metadata": {},
   "outputs": [
    {
     "output_type": "execute_result",
     "data": {
      "text/plain": "(torch.Size([16, 3, 3, 3]), torch.Size([16]))"
     },
     "metadata": {},
     "execution_count": 63
    }
   ],
   "source": [
    "conv.weight.shape, conv.bias.shape"
   ]
  },
  {
   "cell_type": "code",
   "execution_count": 64,
   "metadata": {},
   "outputs": [
    {
     "output_type": "execute_result",
     "data": {
      "text/plain": "(torch.Size([1, 3, 32, 32]), torch.Size([1, 16, 30, 30]))"
     },
     "metadata": {},
     "execution_count": 64
    }
   ],
   "source": [
    "img, _ = cifar2[0]\n",
    "output = conv(img.unsqueeze(0))\n",
    "img.unsqueeze(0).shape, output.shape"
   ]
  },
  {
   "cell_type": "code",
   "execution_count": 65,
   "metadata": {},
   "outputs": [
    {
     "output_type": "display_data",
     "data": {
      "text/plain": "<Figure size 432x288 with 1 Axes>",
      "image/svg+xml": "<?xml version=\"1.0\" encoding=\"utf-8\" standalone=\"no\"?>\n<!DOCTYPE svg PUBLIC \"-//W3C//DTD SVG 1.1//EN\"\n  \"http://www.w3.org/Graphics/SVG/1.1/DTD/svg11.dtd\">\n<!-- Created with matplotlib (https://matplotlib.org/) -->\n<svg height=\"248.919844pt\" version=\"1.1\" viewBox=\"0 0 251.565 248.919844\" width=\"251.565pt\" xmlns=\"http://www.w3.org/2000/svg\" xmlns:xlink=\"http://www.w3.org/1999/xlink\">\n <defs>\n  <style type=\"text/css\">\n*{stroke-linecap:butt;stroke-linejoin:round;}\n  </style>\n </defs>\n <g id=\"figure_1\">\n  <g id=\"patch_1\">\n   <path d=\"M 0 248.919844 \nL 251.565 248.919844 \nL 251.565 0 \nL 0 0 \nz\n\" style=\"fill:none;\"/>\n  </g>\n  <g id=\"axes_1\">\n   <g id=\"patch_2\">\n    <path d=\"M 26.925 225.041719 \nL 244.365 225.041719 \nL 244.365 7.601719 \nL 26.925 7.601719 \nz\n\" style=\"fill:#ffffff;\"/>\n   </g>\n   <g clip-path=\"url(#p6155b8b7ee)\">\n    <image height=\"218\" id=\"image138682dcaf\" transform=\"scale(1 -1)translate(0 -218)\" width=\"218\" x=\"26.925\" xlink:href=\"data:image/png;base64,\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\" y=\"-7.041719\"/>\n   </g>\n   <g id=\"matplotlib.axis_1\">\n    <g id=\"xtick_1\">\n     <g id=\"line2d_1\">\n      <defs>\n       <path d=\"M 0 0 \nL 0 3.5 \n\" id=\"m3967ed7f73\" style=\"stroke:#000000;stroke-width:0.8;\"/>\n      </defs>\n      <g>\n       <use style=\"stroke:#000000;stroke-width:0.8;\" x=\"30.3225\" xlink:href=\"#m3967ed7f73\" y=\"225.041719\"/>\n      </g>\n     </g>\n     <g id=\"text_1\">\n      <!-- 0 -->\n      <defs>\n       <path d=\"M 31.78125 66.40625 \nQ 24.171875 66.40625 20.328125 58.90625 \nQ 16.5 51.421875 16.5 36.375 \nQ 16.5 21.390625 20.328125 13.890625 \nQ 24.171875 6.390625 31.78125 6.390625 \nQ 39.453125 6.390625 43.28125 13.890625 \nQ 47.125 21.390625 47.125 36.375 \nQ 47.125 51.421875 43.28125 58.90625 \nQ 39.453125 66.40625 31.78125 66.40625 \nz\nM 31.78125 74.21875 \nQ 44.046875 74.21875 50.515625 64.515625 \nQ 56.984375 54.828125 56.984375 36.375 \nQ 56.984375 17.96875 50.515625 8.265625 \nQ 44.046875 -1.421875 31.78125 -1.421875 \nQ 19.53125 -1.421875 13.0625 8.265625 \nQ 6.59375 17.96875 6.59375 36.375 \nQ 6.59375 54.828125 13.0625 64.515625 \nQ 19.53125 74.21875 31.78125 74.21875 \nz\n\" id=\"DejaVuSans-48\"/>\n      </defs>\n      <g transform=\"translate(27.14125 239.640156)scale(0.1 -0.1)\">\n       <use xlink:href=\"#DejaVuSans-48\"/>\n      </g>\n     </g>\n    </g>\n    <g id=\"xtick_2\">\n     <g id=\"line2d_2\">\n      <g>\n       <use style=\"stroke:#000000;stroke-width:0.8;\" x=\"64.2975\" xlink:href=\"#m3967ed7f73\" y=\"225.041719\"/>\n      </g>\n     </g>\n     <g id=\"text_2\">\n      <!-- 5 -->\n      <defs>\n       <path d=\"M 10.796875 72.90625 \nL 49.515625 72.90625 \nL 49.515625 64.59375 \nL 19.828125 64.59375 \nL 19.828125 46.734375 \nQ 21.96875 47.46875 24.109375 47.828125 \nQ 26.265625 48.1875 28.421875 48.1875 \nQ 40.625 48.1875 47.75 41.5 \nQ 54.890625 34.8125 54.890625 23.390625 \nQ 54.890625 11.625 47.5625 5.09375 \nQ 40.234375 -1.421875 26.90625 -1.421875 \nQ 22.3125 -1.421875 17.546875 -0.640625 \nQ 12.796875 0.140625 7.71875 1.703125 \nL 7.71875 11.625 \nQ 12.109375 9.234375 16.796875 8.0625 \nQ 21.484375 6.890625 26.703125 6.890625 \nQ 35.15625 6.890625 40.078125 11.328125 \nQ 45.015625 15.765625 45.015625 23.390625 \nQ 45.015625 31 40.078125 35.4375 \nQ 35.15625 39.890625 26.703125 39.890625 \nQ 22.75 39.890625 18.8125 39.015625 \nQ 14.890625 38.140625 10.796875 36.28125 \nz\n\" id=\"DejaVuSans-53\"/>\n      </defs>\n      <g transform=\"translate(61.11625 239.640156)scale(0.1 -0.1)\">\n       <use xlink:href=\"#DejaVuSans-53\"/>\n      </g>\n     </g>\n    </g>\n    <g id=\"xtick_3\">\n     <g id=\"line2d_3\">\n      <g>\n       <use style=\"stroke:#000000;stroke-width:0.8;\" x=\"98.2725\" xlink:href=\"#m3967ed7f73\" y=\"225.041719\"/>\n      </g>\n     </g>\n     <g id=\"text_3\">\n      <!-- 10 -->\n      <defs>\n       <path d=\"M 12.40625 8.296875 \nL 28.515625 8.296875 \nL 28.515625 63.921875 \nL 10.984375 60.40625 \nL 10.984375 69.390625 \nL 28.421875 72.90625 \nL 38.28125 72.90625 \nL 38.28125 8.296875 \nL 54.390625 8.296875 \nL 54.390625 0 \nL 12.40625 0 \nz\n\" id=\"DejaVuSans-49\"/>\n      </defs>\n      <g transform=\"translate(91.91 239.640156)scale(0.1 -0.1)\">\n       <use xlink:href=\"#DejaVuSans-49\"/>\n       <use x=\"63.623047\" xlink:href=\"#DejaVuSans-48\"/>\n      </g>\n     </g>\n    </g>\n    <g id=\"xtick_4\">\n     <g id=\"line2d_4\">\n      <g>\n       <use style=\"stroke:#000000;stroke-width:0.8;\" x=\"132.2475\" xlink:href=\"#m3967ed7f73\" y=\"225.041719\"/>\n      </g>\n     </g>\n     <g id=\"text_4\">\n      <!-- 15 -->\n      <g transform=\"translate(125.885 239.640156)scale(0.1 -0.1)\">\n       <use xlink:href=\"#DejaVuSans-49\"/>\n       <use x=\"63.623047\" xlink:href=\"#DejaVuSans-53\"/>\n      </g>\n     </g>\n    </g>\n    <g id=\"xtick_5\">\n     <g id=\"line2d_5\">\n      <g>\n       <use style=\"stroke:#000000;stroke-width:0.8;\" x=\"166.2225\" xlink:href=\"#m3967ed7f73\" y=\"225.041719\"/>\n      </g>\n     </g>\n     <g id=\"text_5\">\n      <!-- 20 -->\n      <defs>\n       <path d=\"M 19.1875 8.296875 \nL 53.609375 8.296875 \nL 53.609375 0 \nL 7.328125 0 \nL 7.328125 8.296875 \nQ 12.9375 14.109375 22.625 23.890625 \nQ 32.328125 33.6875 34.8125 36.53125 \nQ 39.546875 41.84375 41.421875 45.53125 \nQ 43.3125 49.21875 43.3125 52.78125 \nQ 43.3125 58.59375 39.234375 62.25 \nQ 35.15625 65.921875 28.609375 65.921875 \nQ 23.96875 65.921875 18.8125 64.3125 \nQ 13.671875 62.703125 7.8125 59.421875 \nL 7.8125 69.390625 \nQ 13.765625 71.78125 18.9375 73 \nQ 24.125 74.21875 28.421875 74.21875 \nQ 39.75 74.21875 46.484375 68.546875 \nQ 53.21875 62.890625 53.21875 53.421875 \nQ 53.21875 48.921875 51.53125 44.890625 \nQ 49.859375 40.875 45.40625 35.40625 \nQ 44.1875 33.984375 37.640625 27.21875 \nQ 31.109375 20.453125 19.1875 8.296875 \nz\n\" id=\"DejaVuSans-50\"/>\n      </defs>\n      <g transform=\"translate(159.86 239.640156)scale(0.1 -0.1)\">\n       <use xlink:href=\"#DejaVuSans-50\"/>\n       <use x=\"63.623047\" xlink:href=\"#DejaVuSans-48\"/>\n      </g>\n     </g>\n    </g>\n    <g id=\"xtick_6\">\n     <g id=\"line2d_6\">\n      <g>\n       <use style=\"stroke:#000000;stroke-width:0.8;\" x=\"200.1975\" xlink:href=\"#m3967ed7f73\" y=\"225.041719\"/>\n      </g>\n     </g>\n     <g id=\"text_6\">\n      <!-- 25 -->\n      <g transform=\"translate(193.835 239.640156)scale(0.1 -0.1)\">\n       <use xlink:href=\"#DejaVuSans-50\"/>\n       <use x=\"63.623047\" xlink:href=\"#DejaVuSans-53\"/>\n      </g>\n     </g>\n    </g>\n    <g id=\"xtick_7\">\n     <g id=\"line2d_7\">\n      <g>\n       <use style=\"stroke:#000000;stroke-width:0.8;\" x=\"234.1725\" xlink:href=\"#m3967ed7f73\" y=\"225.041719\"/>\n      </g>\n     </g>\n     <g id=\"text_7\">\n      <!-- 30 -->\n      <defs>\n       <path d=\"M 40.578125 39.3125 \nQ 47.65625 37.796875 51.625 33 \nQ 55.609375 28.21875 55.609375 21.1875 \nQ 55.609375 10.40625 48.1875 4.484375 \nQ 40.765625 -1.421875 27.09375 -1.421875 \nQ 22.515625 -1.421875 17.65625 -0.515625 \nQ 12.796875 0.390625 7.625 2.203125 \nL 7.625 11.71875 \nQ 11.71875 9.328125 16.59375 8.109375 \nQ 21.484375 6.890625 26.8125 6.890625 \nQ 36.078125 6.890625 40.9375 10.546875 \nQ 45.796875 14.203125 45.796875 21.1875 \nQ 45.796875 27.640625 41.28125 31.265625 \nQ 36.765625 34.90625 28.71875 34.90625 \nL 20.21875 34.90625 \nL 20.21875 43.015625 \nL 29.109375 43.015625 \nQ 36.375 43.015625 40.234375 45.921875 \nQ 44.09375 48.828125 44.09375 54.296875 \nQ 44.09375 59.90625 40.109375 62.90625 \nQ 36.140625 65.921875 28.71875 65.921875 \nQ 24.65625 65.921875 20.015625 65.03125 \nQ 15.375 64.15625 9.8125 62.3125 \nL 9.8125 71.09375 \nQ 15.4375 72.65625 20.34375 73.4375 \nQ 25.25 74.21875 29.59375 74.21875 \nQ 40.828125 74.21875 47.359375 69.109375 \nQ 53.90625 64.015625 53.90625 55.328125 \nQ 53.90625 49.265625 50.4375 45.09375 \nQ 46.96875 40.921875 40.578125 39.3125 \nz\n\" id=\"DejaVuSans-51\"/>\n      </defs>\n      <g transform=\"translate(227.81 239.640156)scale(0.1 -0.1)\">\n       <use xlink:href=\"#DejaVuSans-51\"/>\n       <use x=\"63.623047\" xlink:href=\"#DejaVuSans-48\"/>\n      </g>\n     </g>\n    </g>\n   </g>\n   <g id=\"matplotlib.axis_2\">\n    <g id=\"ytick_1\">\n     <g id=\"line2d_8\">\n      <defs>\n       <path d=\"M 0 0 \nL -3.5 0 \n\" id=\"m9c0278f1bd\" style=\"stroke:#000000;stroke-width:0.8;\"/>\n      </defs>\n      <g>\n       <use style=\"stroke:#000000;stroke-width:0.8;\" x=\"26.925\" xlink:href=\"#m9c0278f1bd\" y=\"10.999219\"/>\n      </g>\n     </g>\n     <g id=\"text_8\">\n      <!-- 0 -->\n      <g transform=\"translate(13.5625 14.798437)scale(0.1 -0.1)\">\n       <use xlink:href=\"#DejaVuSans-48\"/>\n      </g>\n     </g>\n    </g>\n    <g id=\"ytick_2\">\n     <g id=\"line2d_9\">\n      <g>\n       <use style=\"stroke:#000000;stroke-width:0.8;\" x=\"26.925\" xlink:href=\"#m9c0278f1bd\" y=\"44.974219\"/>\n      </g>\n     </g>\n     <g id=\"text_9\">\n      <!-- 5 -->\n      <g transform=\"translate(13.5625 48.773437)scale(0.1 -0.1)\">\n       <use xlink:href=\"#DejaVuSans-53\"/>\n      </g>\n     </g>\n    </g>\n    <g id=\"ytick_3\">\n     <g id=\"line2d_10\">\n      <g>\n       <use style=\"stroke:#000000;stroke-width:0.8;\" x=\"26.925\" xlink:href=\"#m9c0278f1bd\" y=\"78.949219\"/>\n      </g>\n     </g>\n     <g id=\"text_10\">\n      <!-- 10 -->\n      <g transform=\"translate(7.2 82.748437)scale(0.1 -0.1)\">\n       <use xlink:href=\"#DejaVuSans-49\"/>\n       <use x=\"63.623047\" xlink:href=\"#DejaVuSans-48\"/>\n      </g>\n     </g>\n    </g>\n    <g id=\"ytick_4\">\n     <g id=\"line2d_11\">\n      <g>\n       <use style=\"stroke:#000000;stroke-width:0.8;\" x=\"26.925\" xlink:href=\"#m9c0278f1bd\" y=\"112.924219\"/>\n      </g>\n     </g>\n     <g id=\"text_11\">\n      <!-- 15 -->\n      <g transform=\"translate(7.2 116.723437)scale(0.1 -0.1)\">\n       <use xlink:href=\"#DejaVuSans-49\"/>\n       <use x=\"63.623047\" xlink:href=\"#DejaVuSans-53\"/>\n      </g>\n     </g>\n    </g>\n    <g id=\"ytick_5\">\n     <g id=\"line2d_12\">\n      <g>\n       <use style=\"stroke:#000000;stroke-width:0.8;\" x=\"26.925\" xlink:href=\"#m9c0278f1bd\" y=\"146.899219\"/>\n      </g>\n     </g>\n     <g id=\"text_12\">\n      <!-- 20 -->\n      <g transform=\"translate(7.2 150.698437)scale(0.1 -0.1)\">\n       <use xlink:href=\"#DejaVuSans-50\"/>\n       <use x=\"63.623047\" xlink:href=\"#DejaVuSans-48\"/>\n      </g>\n     </g>\n    </g>\n    <g id=\"ytick_6\">\n     <g id=\"line2d_13\">\n      <g>\n       <use style=\"stroke:#000000;stroke-width:0.8;\" x=\"26.925\" xlink:href=\"#m9c0278f1bd\" y=\"180.874219\"/>\n      </g>\n     </g>\n     <g id=\"text_13\">\n      <!-- 25 -->\n      <g transform=\"translate(7.2 184.673437)scale(0.1 -0.1)\">\n       <use xlink:href=\"#DejaVuSans-50\"/>\n       <use x=\"63.623047\" xlink:href=\"#DejaVuSans-53\"/>\n      </g>\n     </g>\n    </g>\n    <g id=\"ytick_7\">\n     <g id=\"line2d_14\">\n      <g>\n       <use style=\"stroke:#000000;stroke-width:0.8;\" x=\"26.925\" xlink:href=\"#m9c0278f1bd\" y=\"214.849219\"/>\n      </g>\n     </g>\n     <g id=\"text_14\">\n      <!-- 30 -->\n      <g transform=\"translate(7.2 218.648437)scale(0.1 -0.1)\">\n       <use xlink:href=\"#DejaVuSans-51\"/>\n       <use x=\"63.623047\" xlink:href=\"#DejaVuSans-48\"/>\n      </g>\n     </g>\n    </g>\n   </g>\n   <g id=\"patch_3\">\n    <path d=\"M 26.925 225.041719 \nL 26.925 7.601719 \n\" style=\"fill:none;stroke:#000000;stroke-linecap:square;stroke-linejoin:miter;stroke-width:0.8;\"/>\n   </g>\n   <g id=\"patch_4\">\n    <path d=\"M 244.365 225.041719 \nL 244.365 7.601719 \n\" style=\"fill:none;stroke:#000000;stroke-linecap:square;stroke-linejoin:miter;stroke-width:0.8;\"/>\n   </g>\n   <g id=\"patch_5\">\n    <path d=\"M 26.925 225.041719 \nL 244.365 225.041719 \n\" style=\"fill:none;stroke:#000000;stroke-linecap:square;stroke-linejoin:miter;stroke-width:0.8;\"/>\n   </g>\n   <g id=\"patch_6\">\n    <path d=\"M 26.925 7.601719 \nL 244.365 7.601719 \n\" style=\"fill:none;stroke:#000000;stroke-linecap:square;stroke-linejoin:miter;stroke-width:0.8;\"/>\n   </g>\n  </g>\n </g>\n <defs>\n  <clipPath id=\"p6155b8b7ee\">\n   <rect height=\"217.44\" width=\"217.44\" x=\"26.925\" y=\"7.601719\"/>\n  </clipPath>\n </defs>\n</svg>\n",
      "image/png": "[encoded data removed]"
     },
     "metadata": {
      "needs_background": "light"
     }
    }
   ],
   "source": [
    "plt.imshow(img.mean(0), cmap='gray')\n",
    "plt.show()"
   ]
  },
  {
   "cell_type": "code",
   "execution_count": 66,
   "metadata": {},
   "outputs": [
    {
     "output_type": "display_data",
     "data": {
      "text/plain": "<Figure size 720x345.6 with 2 Axes>",
      "image/svg+xml": "<?xml version=\"1.0\" encoding=\"utf-8\" standalone=\"no\"?>\n<!DOCTYPE svg PUBLIC \"-//W3C//DTD SVG 1.1//EN\"\n  \"http://www.w3.org/Graphics/SVG/1.1/DTD/svg11.dtd\">\n<!-- Created with matplotlib (https://matplotlib.org/) -->\n<svg height=\"299.832614pt\" version=\"1.1\" viewBox=\"0 0 592.125 299.832614\" width=\"592.125pt\" xmlns=\"http://www.w3.org/2000/svg\" xmlns:xlink=\"http://www.w3.org/1999/xlink\">\n <defs>\n  <style type=\"text/css\">\n*{stroke-linecap:butt;stroke-linejoin:round;}\n  </style>\n </defs>\n <g id=\"figure_1\">\n  <g id=\"patch_1\">\n   <path d=\"M 0 299.832614 \nL 592.125 299.832614 \nL 592.125 0 \nL 0 0 \nz\n\" style=\"fill:none;\"/>\n  </g>\n  <g id=\"axes_1\">\n   <g id=\"patch_2\">\n    <path d=\"M 26.925 275.954489 \nL 280.561364 275.954489 \nL 280.561364 22.318125 \nL 26.925 22.318125 \nz\n\" style=\"fill:#ffffff;\"/>\n   </g>\n   <g clip-path=\"url(#pc2a4dc9f6f)\">\n    <image height=\"238\" id=\"image76187afa59\" transform=\"scale(1 -1)translate(0 -238)\" width=\"238\" x=\"26.925\" xlink:href=\"data:image/png;base64,\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\" y=\"-22.102216\"/>\n   </g>\n   <g id=\"matplotlib.axis_1\">\n    <g id=\"xtick_1\">\n     <g id=\"line2d_1\">\n      <defs>\n       <path d=\"M 0 0 \nL 0 3.5 \n\" id=\"mc532776bcf\" style=\"stroke:#000000;stroke-width:0.8;\"/>\n      </defs>\n      <g>\n       <use style=\"stroke:#000000;stroke-width:0.8;\" x=\"30.888068\" xlink:href=\"#mc532776bcf\" y=\"275.954489\"/>\n      </g>\n     </g>\n     <g id=\"text_1\">\n      <!-- 0 -->\n      <defs>\n       <path d=\"M 31.78125 66.40625 \nQ 24.171875 66.40625 20.328125 58.90625 \nQ 16.5 51.421875 16.5 36.375 \nQ 16.5 21.390625 20.328125 13.890625 \nQ 24.171875 6.390625 31.78125 6.390625 \nQ 39.453125 6.390625 43.28125 13.890625 \nQ 47.125 21.390625 47.125 36.375 \nQ 47.125 51.421875 43.28125 58.90625 \nQ 39.453125 66.40625 31.78125 66.40625 \nz\nM 31.78125 74.21875 \nQ 44.046875 74.21875 50.515625 64.515625 \nQ 56.984375 54.828125 56.984375 36.375 \nQ 56.984375 17.96875 50.515625 8.265625 \nQ 44.046875 -1.421875 31.78125 -1.421875 \nQ 19.53125 -1.421875 13.0625 8.265625 \nQ 6.59375 17.96875 6.59375 36.375 \nQ 6.59375 54.828125 13.0625 64.515625 \nQ 19.53125 74.21875 31.78125 74.21875 \nz\n\" id=\"DejaVuSans-48\"/>\n      </defs>\n      <g transform=\"translate(27.706818 290.552926)scale(0.1 -0.1)\">\n       <use xlink:href=\"#DejaVuSans-48\"/>\n      </g>\n     </g>\n    </g>\n    <g id=\"xtick_2\">\n     <g id=\"line2d_2\">\n      <g>\n       <use style=\"stroke:#000000;stroke-width:0.8;\" x=\"70.51875\" xlink:href=\"#mc532776bcf\" y=\"275.954489\"/>\n      </g>\n     </g>\n     <g id=\"text_2\">\n      <!-- 5 -->\n      <defs>\n       <path d=\"M 10.796875 72.90625 \nL 49.515625 72.90625 \nL 49.515625 64.59375 \nL 19.828125 64.59375 \nL 19.828125 46.734375 \nQ 21.96875 47.46875 24.109375 47.828125 \nQ 26.265625 48.1875 28.421875 48.1875 \nQ 40.625 48.1875 47.75 41.5 \nQ 54.890625 34.8125 54.890625 23.390625 \nQ 54.890625 11.625 47.5625 5.09375 \nQ 40.234375 -1.421875 26.90625 -1.421875 \nQ 22.3125 -1.421875 17.546875 -0.640625 \nQ 12.796875 0.140625 7.71875 1.703125 \nL 7.71875 11.625 \nQ 12.109375 9.234375 16.796875 8.0625 \nQ 21.484375 6.890625 26.703125 6.890625 \nQ 35.15625 6.890625 40.078125 11.328125 \nQ 45.015625 15.765625 45.015625 23.390625 \nQ 45.015625 31 40.078125 35.4375 \nQ 35.15625 39.890625 26.703125 39.890625 \nQ 22.75 39.890625 18.8125 39.015625 \nQ 14.890625 38.140625 10.796875 36.28125 \nz\n\" id=\"DejaVuSans-53\"/>\n      </defs>\n      <g transform=\"translate(67.3375 290.552926)scale(0.1 -0.1)\">\n       <use xlink:href=\"#DejaVuSans-53\"/>\n      </g>\n     </g>\n    </g>\n    <g id=\"xtick_3\">\n     <g id=\"line2d_3\">\n      <g>\n       <use style=\"stroke:#000000;stroke-width:0.8;\" x=\"110.149432\" xlink:href=\"#mc532776bcf\" y=\"275.954489\"/>\n      </g>\n     </g>\n     <g id=\"text_3\">\n      <!-- 10 -->\n      <defs>\n       <path d=\"M 12.40625 8.296875 \nL 28.515625 8.296875 \nL 28.515625 63.921875 \nL 10.984375 60.40625 \nL 10.984375 69.390625 \nL 28.421875 72.90625 \nL 38.28125 72.90625 \nL 38.28125 8.296875 \nL 54.390625 8.296875 \nL 54.390625 0 \nL 12.40625 0 \nz\n\" id=\"DejaVuSans-49\"/>\n      </defs>\n      <g transform=\"translate(103.786932 290.552926)scale(0.1 -0.1)\">\n       <use xlink:href=\"#DejaVuSans-49\"/>\n       <use x=\"63.623047\" xlink:href=\"#DejaVuSans-48\"/>\n      </g>\n     </g>\n    </g>\n    <g id=\"xtick_4\">\n     <g id=\"line2d_4\">\n      <g>\n       <use style=\"stroke:#000000;stroke-width:0.8;\" x=\"149.780114\" xlink:href=\"#mc532776bcf\" y=\"275.954489\"/>\n      </g>\n     </g>\n     <g id=\"text_4\">\n      <!-- 15 -->\n      <g transform=\"translate(143.417614 290.552926)scale(0.1 -0.1)\">\n       <use xlink:href=\"#DejaVuSans-49\"/>\n       <use x=\"63.623047\" xlink:href=\"#DejaVuSans-53\"/>\n      </g>\n     </g>\n    </g>\n    <g id=\"xtick_5\">\n     <g id=\"line2d_5\">\n      <g>\n       <use style=\"stroke:#000000;stroke-width:0.8;\" x=\"189.410795\" xlink:href=\"#mc532776bcf\" y=\"275.954489\"/>\n      </g>\n     </g>\n     <g id=\"text_5\">\n      <!-- 20 -->\n      <defs>\n       <path d=\"M 19.1875 8.296875 \nL 53.609375 8.296875 \nL 53.609375 0 \nL 7.328125 0 \nL 7.328125 8.296875 \nQ 12.9375 14.109375 22.625 23.890625 \nQ 32.328125 33.6875 34.8125 36.53125 \nQ 39.546875 41.84375 41.421875 45.53125 \nQ 43.3125 49.21875 43.3125 52.78125 \nQ 43.3125 58.59375 39.234375 62.25 \nQ 35.15625 65.921875 28.609375 65.921875 \nQ 23.96875 65.921875 18.8125 64.3125 \nQ 13.671875 62.703125 7.8125 59.421875 \nL 7.8125 69.390625 \nQ 13.765625 71.78125 18.9375 73 \nQ 24.125 74.21875 28.421875 74.21875 \nQ 39.75 74.21875 46.484375 68.546875 \nQ 53.21875 62.890625 53.21875 53.421875 \nQ 53.21875 48.921875 51.53125 44.890625 \nQ 49.859375 40.875 45.40625 35.40625 \nQ 44.1875 33.984375 37.640625 27.21875 \nQ 31.109375 20.453125 19.1875 8.296875 \nz\n\" id=\"DejaVuSans-50\"/>\n      </defs>\n      <g transform=\"translate(183.048295 290.552926)scale(0.1 -0.1)\">\n       <use xlink:href=\"#DejaVuSans-50\"/>\n       <use x=\"63.623047\" xlink:href=\"#DejaVuSans-48\"/>\n      </g>\n     </g>\n    </g>\n    <g id=\"xtick_6\">\n     <g id=\"line2d_6\">\n      <g>\n       <use style=\"stroke:#000000;stroke-width:0.8;\" x=\"229.041477\" xlink:href=\"#mc532776bcf\" y=\"275.954489\"/>\n      </g>\n     </g>\n     <g id=\"text_6\">\n      <!-- 25 -->\n      <g transform=\"translate(222.678977 290.552926)scale(0.1 -0.1)\">\n       <use xlink:href=\"#DejaVuSans-50\"/>\n       <use x=\"63.623047\" xlink:href=\"#DejaVuSans-53\"/>\n      </g>\n     </g>\n    </g>\n    <g id=\"xtick_7\">\n     <g id=\"line2d_7\">\n      <g>\n       <use style=\"stroke:#000000;stroke-width:0.8;\" x=\"268.672159\" xlink:href=\"#mc532776bcf\" y=\"275.954489\"/>\n      </g>\n     </g>\n     <g id=\"text_7\">\n      <!-- 30 -->\n      <defs>\n       <path d=\"M 40.578125 39.3125 \nQ 47.65625 37.796875 51.625 33 \nQ 55.609375 28.21875 55.609375 21.1875 \nQ 55.609375 10.40625 48.1875 4.484375 \nQ 40.765625 -1.421875 27.09375 -1.421875 \nQ 22.515625 -1.421875 17.65625 -0.515625 \nQ 12.796875 0.390625 7.625 2.203125 \nL 7.625 11.71875 \nQ 11.71875 9.328125 16.59375 8.109375 \nQ 21.484375 6.890625 26.8125 6.890625 \nQ 36.078125 6.890625 40.9375 10.546875 \nQ 45.796875 14.203125 45.796875 21.1875 \nQ 45.796875 27.640625 41.28125 31.265625 \nQ 36.765625 34.90625 28.71875 34.90625 \nL 20.21875 34.90625 \nL 20.21875 43.015625 \nL 29.109375 43.015625 \nQ 36.375 43.015625 40.234375 45.921875 \nQ 44.09375 48.828125 44.09375 54.296875 \nQ 44.09375 59.90625 40.109375 62.90625 \nQ 36.140625 65.921875 28.71875 65.921875 \nQ 24.65625 65.921875 20.015625 65.03125 \nQ 15.375 64.15625 9.8125 62.3125 \nL 9.8125 71.09375 \nQ 15.4375 72.65625 20.34375 73.4375 \nQ 25.25 74.21875 29.59375 74.21875 \nQ 40.828125 74.21875 47.359375 69.109375 \nQ 53.90625 64.015625 53.90625 55.328125 \nQ 53.90625 49.265625 50.4375 45.09375 \nQ 46.96875 40.921875 40.578125 39.3125 \nz\n\" id=\"DejaVuSans-51\"/>\n      </defs>\n      <g transform=\"translate(262.309659 290.552926)scale(0.1 -0.1)\">\n       <use xlink:href=\"#DejaVuSans-51\"/>\n       <use x=\"63.623047\" xlink:href=\"#DejaVuSans-48\"/>\n      </g>\n     </g>\n    </g>\n   </g>\n   <g id=\"matplotlib.axis_2\">\n    <g id=\"ytick_1\">\n     <g id=\"line2d_8\">\n      <defs>\n       <path d=\"M 0 0 \nL -3.5 0 \n\" id=\"mab094b1aaa\" style=\"stroke:#000000;stroke-width:0.8;\"/>\n      </defs>\n      <g>\n       <use style=\"stroke:#000000;stroke-width:0.8;\" x=\"26.925\" xlink:href=\"#mab094b1aaa\" y=\"26.281193\"/>\n      </g>\n     </g>\n     <g id=\"text_8\">\n      <!-- 0 -->\n      <g transform=\"translate(13.5625 30.080412)scale(0.1 -0.1)\">\n       <use xlink:href=\"#DejaVuSans-48\"/>\n      </g>\n     </g>\n    </g>\n    <g id=\"ytick_2\">\n     <g id=\"line2d_9\">\n      <g>\n       <use style=\"stroke:#000000;stroke-width:0.8;\" x=\"26.925\" xlink:href=\"#mab094b1aaa\" y=\"65.911875\"/>\n      </g>\n     </g>\n     <g id=\"text_9\">\n      <!-- 5 -->\n      <g transform=\"translate(13.5625 69.711094)scale(0.1 -0.1)\">\n       <use xlink:href=\"#DejaVuSans-53\"/>\n      </g>\n     </g>\n    </g>\n    <g id=\"ytick_3\">\n     <g id=\"line2d_10\">\n      <g>\n       <use style=\"stroke:#000000;stroke-width:0.8;\" x=\"26.925\" xlink:href=\"#mab094b1aaa\" y=\"105.542557\"/>\n      </g>\n     </g>\n     <g id=\"text_10\">\n      <!-- 10 -->\n      <g transform=\"translate(7.2 109.341776)scale(0.1 -0.1)\">\n       <use xlink:href=\"#DejaVuSans-49\"/>\n       <use x=\"63.623047\" xlink:href=\"#DejaVuSans-48\"/>\n      </g>\n     </g>\n    </g>\n    <g id=\"ytick_4\">\n     <g id=\"line2d_11\">\n      <g>\n       <use style=\"stroke:#000000;stroke-width:0.8;\" x=\"26.925\" xlink:href=\"#mab094b1aaa\" y=\"145.173239\"/>\n      </g>\n     </g>\n     <g id=\"text_11\">\n      <!-- 15 -->\n      <g transform=\"translate(7.2 148.972457)scale(0.1 -0.1)\">\n       <use xlink:href=\"#DejaVuSans-49\"/>\n       <use x=\"63.623047\" xlink:href=\"#DejaVuSans-53\"/>\n      </g>\n     </g>\n    </g>\n    <g id=\"ytick_5\">\n     <g id=\"line2d_12\">\n      <g>\n       <use style=\"stroke:#000000;stroke-width:0.8;\" x=\"26.925\" xlink:href=\"#mab094b1aaa\" y=\"184.80392\"/>\n      </g>\n     </g>\n     <g id=\"text_12\">\n      <!-- 20 -->\n      <g transform=\"translate(7.2 188.603139)scale(0.1 -0.1)\">\n       <use xlink:href=\"#DejaVuSans-50\"/>\n       <use x=\"63.623047\" xlink:href=\"#DejaVuSans-48\"/>\n      </g>\n     </g>\n    </g>\n    <g id=\"ytick_6\">\n     <g id=\"line2d_13\">\n      <g>\n       <use style=\"stroke:#000000;stroke-width:0.8;\" x=\"26.925\" xlink:href=\"#mab094b1aaa\" y=\"224.434602\"/>\n      </g>\n     </g>\n     <g id=\"text_13\">\n      <!-- 25 -->\n      <g transform=\"translate(7.2 228.233821)scale(0.1 -0.1)\">\n       <use xlink:href=\"#DejaVuSans-50\"/>\n       <use x=\"63.623047\" xlink:href=\"#DejaVuSans-53\"/>\n      </g>\n     </g>\n    </g>\n    <g id=\"ytick_7\">\n     <g id=\"line2d_14\">\n      <g>\n       <use style=\"stroke:#000000;stroke-width:0.8;\" x=\"26.925\" xlink:href=\"#mab094b1aaa\" y=\"264.065284\"/>\n      </g>\n     </g>\n     <g id=\"text_14\">\n      <!-- 30 -->\n      <g transform=\"translate(7.2 267.864503)scale(0.1 -0.1)\">\n       <use xlink:href=\"#DejaVuSans-51\"/>\n       <use x=\"63.623047\" xlink:href=\"#DejaVuSans-48\"/>\n      </g>\n     </g>\n    </g>\n   </g>\n   <g id=\"patch_3\">\n    <path d=\"M 26.925 275.954489 \nL 26.925 22.318125 \n\" style=\"fill:none;stroke:#000000;stroke-linecap:square;stroke-linejoin:miter;stroke-width:0.8;\"/>\n   </g>\n   <g id=\"patch_4\">\n    <path d=\"M 280.561364 275.954489 \nL 280.561364 22.318125 \n\" style=\"fill:none;stroke:#000000;stroke-linecap:square;stroke-linejoin:miter;stroke-width:0.8;\"/>\n   </g>\n   <g id=\"patch_5\">\n    <path d=\"M 26.925 275.954489 \nL 280.561364 275.954489 \n\" style=\"fill:none;stroke:#000000;stroke-linecap:square;stroke-linejoin:miter;stroke-width:0.8;\"/>\n   </g>\n   <g id=\"patch_6\">\n    <path d=\"M 26.925 22.318125 \nL 280.561364 22.318125 \n\" style=\"fill:none;stroke:#000000;stroke-linecap:square;stroke-linejoin:miter;stroke-width:0.8;\"/>\n   </g>\n   <g id=\"text_15\">\n    <!-- output -->\n    <defs>\n     <path d=\"M 30.609375 48.390625 \nQ 23.390625 48.390625 19.1875 42.75 \nQ 14.984375 37.109375 14.984375 27.296875 \nQ 14.984375 17.484375 19.15625 11.84375 \nQ 23.34375 6.203125 30.609375 6.203125 \nQ 37.796875 6.203125 41.984375 11.859375 \nQ 46.1875 17.53125 46.1875 27.296875 \nQ 46.1875 37.015625 41.984375 42.703125 \nQ 37.796875 48.390625 30.609375 48.390625 \nz\nM 30.609375 56 \nQ 42.328125 56 49.015625 48.375 \nQ 55.71875 40.765625 55.71875 27.296875 \nQ 55.71875 13.875 49.015625 6.21875 \nQ 42.328125 -1.421875 30.609375 -1.421875 \nQ 18.84375 -1.421875 12.171875 6.21875 \nQ 5.515625 13.875 5.515625 27.296875 \nQ 5.515625 40.765625 12.171875 48.375 \nQ 18.84375 56 30.609375 56 \nz\n\" id=\"DejaVuSans-111\"/>\n     <path d=\"M 8.5 21.578125 \nL 8.5 54.6875 \nL 17.484375 54.6875 \nL 17.484375 21.921875 \nQ 17.484375 14.15625 20.5 10.265625 \nQ 23.53125 6.390625 29.59375 6.390625 \nQ 36.859375 6.390625 41.078125 11.03125 \nQ 45.3125 15.671875 45.3125 23.6875 \nL 45.3125 54.6875 \nL 54.296875 54.6875 \nL 54.296875 0 \nL 45.3125 0 \nL 45.3125 8.40625 \nQ 42.046875 3.421875 37.71875 1 \nQ 33.40625 -1.421875 27.6875 -1.421875 \nQ 18.265625 -1.421875 13.375 4.4375 \nQ 8.5 10.296875 8.5 21.578125 \nz\nM 31.109375 56 \nz\n\" id=\"DejaVuSans-117\"/>\n     <path d=\"M 18.3125 70.21875 \nL 18.3125 54.6875 \nL 36.8125 54.6875 \nL 36.8125 47.703125 \nL 18.3125 47.703125 \nL 18.3125 18.015625 \nQ 18.3125 11.328125 20.140625 9.421875 \nQ 21.96875 7.515625 27.59375 7.515625 \nL 36.8125 7.515625 \nL 36.8125 0 \nL 27.59375 0 \nQ 17.1875 0 13.234375 3.875 \nQ 9.28125 7.765625 9.28125 18.015625 \nL 9.28125 47.703125 \nL 2.6875 47.703125 \nL 2.6875 54.6875 \nL 9.28125 54.6875 \nL 9.28125 70.21875 \nz\n\" id=\"DejaVuSans-116\"/>\n     <path d=\"M 18.109375 8.203125 \nL 18.109375 -20.796875 \nL 9.078125 -20.796875 \nL 9.078125 54.6875 \nL 18.109375 54.6875 \nL 18.109375 46.390625 \nQ 20.953125 51.265625 25.265625 53.625 \nQ 29.59375 56 35.59375 56 \nQ 45.5625 56 51.78125 48.09375 \nQ 58.015625 40.1875 58.015625 27.296875 \nQ 58.015625 14.40625 51.78125 6.484375 \nQ 45.5625 -1.421875 35.59375 -1.421875 \nQ 29.59375 -1.421875 25.265625 0.953125 \nQ 20.953125 3.328125 18.109375 8.203125 \nz\nM 48.6875 27.296875 \nQ 48.6875 37.203125 44.609375 42.84375 \nQ 40.53125 48.484375 33.40625 48.484375 \nQ 26.265625 48.484375 22.1875 42.84375 \nQ 18.109375 37.203125 18.109375 27.296875 \nQ 18.109375 17.390625 22.1875 11.75 \nQ 26.265625 6.109375 33.40625 6.109375 \nQ 40.53125 6.109375 44.609375 11.75 \nQ 48.6875 17.390625 48.6875 27.296875 \nz\n\" id=\"DejaVuSans-112\"/>\n    </defs>\n    <g transform=\"translate(133.953494 16.318125)scale(0.12 -0.12)\">\n     <use xlink:href=\"#DejaVuSans-111\"/>\n     <use x=\"61.181641\" xlink:href=\"#DejaVuSans-117\"/>\n     <use x=\"124.560547\" xlink:href=\"#DejaVuSans-116\"/>\n     <use x=\"163.769531\" xlink:href=\"#DejaVuSans-112\"/>\n     <use x=\"227.246094\" xlink:href=\"#DejaVuSans-117\"/>\n     <use x=\"290.625\" xlink:href=\"#DejaVuSans-116\"/>\n    </g>\n   </g>\n  </g>\n  <g id=\"axes_2\">\n   <g id=\"patch_7\">\n    <path d=\"M 331.288636 275.954489 \nL 584.925 275.954489 \nL 584.925 22.318125 \nL 331.288636 22.318125 \nz\n\" style=\"fill:#ffffff;\"/>\n   </g>\n   <g clip-path=\"url(#pff5ba9a500)\">\n    <image height=\"254\" id=\"imagee89e833731\" transform=\"scale(1 -1)translate(0 -254)\" width=\"254\" x=\"331.288636\" xlink:href=\"data:image/png;base64,\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\" y=\"-21.954489\"/>\n   </g>\n   <g id=\"matplotlib.axis_3\">\n    <g id=\"xtick_8\">\n     <g id=\"line2d_15\">\n      <g>\n       <use style=\"stroke:#000000;stroke-width:0.8;\" x=\"335.251705\" xlink:href=\"#mc532776bcf\" y=\"275.954489\"/>\n      </g>\n     </g>\n     <g id=\"text_16\">\n      <!-- 0 -->\n      <g transform=\"translate(332.070455 290.552926)scale(0.1 -0.1)\">\n       <use xlink:href=\"#DejaVuSans-48\"/>\n      </g>\n     </g>\n    </g>\n    <g id=\"xtick_9\">\n     <g id=\"line2d_16\">\n      <g>\n       <use style=\"stroke:#000000;stroke-width:0.8;\" x=\"374.882386\" xlink:href=\"#mc532776bcf\" y=\"275.954489\"/>\n      </g>\n     </g>\n     <g id=\"text_17\">\n      <!-- 5 -->\n      <g transform=\"translate(371.701136 290.552926)scale(0.1 -0.1)\">\n       <use xlink:href=\"#DejaVuSans-53\"/>\n      </g>\n     </g>\n    </g>\n    <g id=\"xtick_10\">\n     <g id=\"line2d_17\">\n      <g>\n       <use style=\"stroke:#000000;stroke-width:0.8;\" x=\"414.513068\" xlink:href=\"#mc532776bcf\" y=\"275.954489\"/>\n      </g>\n     </g>\n     <g id=\"text_18\">\n      <!-- 10 -->\n      <g transform=\"translate(408.150568 290.552926)scale(0.1 -0.1)\">\n       <use xlink:href=\"#DejaVuSans-49\"/>\n       <use x=\"63.623047\" xlink:href=\"#DejaVuSans-48\"/>\n      </g>\n     </g>\n    </g>\n    <g id=\"xtick_11\">\n     <g id=\"line2d_18\">\n      <g>\n       <use style=\"stroke:#000000;stroke-width:0.8;\" x=\"454.14375\" xlink:href=\"#mc532776bcf\" y=\"275.954489\"/>\n      </g>\n     </g>\n     <g id=\"text_19\">\n      <!-- 15 -->\n      <g transform=\"translate(447.78125 290.552926)scale(0.1 -0.1)\">\n       <use xlink:href=\"#DejaVuSans-49\"/>\n       <use x=\"63.623047\" xlink:href=\"#DejaVuSans-53\"/>\n      </g>\n     </g>\n    </g>\n    <g id=\"xtick_12\">\n     <g id=\"line2d_19\">\n      <g>\n       <use style=\"stroke:#000000;stroke-width:0.8;\" x=\"493.774432\" xlink:href=\"#mc532776bcf\" y=\"275.954489\"/>\n      </g>\n     </g>\n     <g id=\"text_20\">\n      <!-- 20 -->\n      <g transform=\"translate(487.411932 290.552926)scale(0.1 -0.1)\">\n       <use xlink:href=\"#DejaVuSans-50\"/>\n       <use x=\"63.623047\" xlink:href=\"#DejaVuSans-48\"/>\n      </g>\n     </g>\n    </g>\n    <g id=\"xtick_13\">\n     <g id=\"line2d_20\">\n      <g>\n       <use style=\"stroke:#000000;stroke-width:0.8;\" x=\"533.405114\" xlink:href=\"#mc532776bcf\" y=\"275.954489\"/>\n      </g>\n     </g>\n     <g id=\"text_21\">\n      <!-- 25 -->\n      <g transform=\"translate(527.042614 290.552926)scale(0.1 -0.1)\">\n       <use xlink:href=\"#DejaVuSans-50\"/>\n       <use x=\"63.623047\" xlink:href=\"#DejaVuSans-53\"/>\n      </g>\n     </g>\n    </g>\n    <g id=\"xtick_14\">\n     <g id=\"line2d_21\">\n      <g>\n       <use style=\"stroke:#000000;stroke-width:0.8;\" x=\"573.035795\" xlink:href=\"#mc532776bcf\" y=\"275.954489\"/>\n      </g>\n     </g>\n     <g id=\"text_22\">\n      <!-- 30 -->\n      <g transform=\"translate(566.673295 290.552926)scale(0.1 -0.1)\">\n       <use xlink:href=\"#DejaVuSans-51\"/>\n       <use x=\"63.623047\" xlink:href=\"#DejaVuSans-48\"/>\n      </g>\n     </g>\n    </g>\n   </g>\n   <g id=\"matplotlib.axis_4\">\n    <g id=\"ytick_8\">\n     <g id=\"line2d_22\">\n      <g>\n       <use style=\"stroke:#000000;stroke-width:0.8;\" x=\"331.288636\" xlink:href=\"#mab094b1aaa\" y=\"26.281193\"/>\n      </g>\n     </g>\n     <g id=\"text_23\">\n      <!-- 0 -->\n      <g transform=\"translate(317.926136 30.080412)scale(0.1 -0.1)\">\n       <use xlink:href=\"#DejaVuSans-48\"/>\n      </g>\n     </g>\n    </g>\n    <g id=\"ytick_9\">\n     <g id=\"line2d_23\">\n      <g>\n       <use style=\"stroke:#000000;stroke-width:0.8;\" x=\"331.288636\" xlink:href=\"#mab094b1aaa\" y=\"65.911875\"/>\n      </g>\n     </g>\n     <g id=\"text_24\">\n      <!-- 5 -->\n      <g transform=\"translate(317.926136 69.711094)scale(0.1 -0.1)\">\n       <use xlink:href=\"#DejaVuSans-53\"/>\n      </g>\n     </g>\n    </g>\n    <g id=\"ytick_10\">\n     <g id=\"line2d_24\">\n      <g>\n       <use style=\"stroke:#000000;stroke-width:0.8;\" x=\"331.288636\" xlink:href=\"#mab094b1aaa\" y=\"105.542557\"/>\n      </g>\n     </g>\n     <g id=\"text_25\">\n      <!-- 10 -->\n      <g transform=\"translate(311.563636 109.341776)scale(0.1 -0.1)\">\n       <use xlink:href=\"#DejaVuSans-49\"/>\n       <use x=\"63.623047\" xlink:href=\"#DejaVuSans-48\"/>\n      </g>\n     </g>\n    </g>\n    <g id=\"ytick_11\">\n     <g id=\"line2d_25\">\n      <g>\n       <use style=\"stroke:#000000;stroke-width:0.8;\" x=\"331.288636\" xlink:href=\"#mab094b1aaa\" y=\"145.173239\"/>\n      </g>\n     </g>\n     <g id=\"text_26\">\n      <!-- 15 -->\n      <g transform=\"translate(311.563636 148.972457)scale(0.1 -0.1)\">\n       <use xlink:href=\"#DejaVuSans-49\"/>\n       <use x=\"63.623047\" xlink:href=\"#DejaVuSans-53\"/>\n      </g>\n     </g>\n    </g>\n    <g id=\"ytick_12\">\n     <g id=\"line2d_26\">\n      <g>\n       <use style=\"stroke:#000000;stroke-width:0.8;\" x=\"331.288636\" xlink:href=\"#mab094b1aaa\" y=\"184.80392\"/>\n      </g>\n     </g>\n     <g id=\"text_27\">\n      <!-- 20 -->\n      <g transform=\"translate(311.563636 188.603139)scale(0.1 -0.1)\">\n       <use xlink:href=\"#DejaVuSans-50\"/>\n       <use x=\"63.623047\" xlink:href=\"#DejaVuSans-48\"/>\n      </g>\n     </g>\n    </g>\n    <g id=\"ytick_13\">\n     <g id=\"line2d_27\">\n      <g>\n       <use style=\"stroke:#000000;stroke-width:0.8;\" x=\"331.288636\" xlink:href=\"#mab094b1aaa\" y=\"224.434602\"/>\n      </g>\n     </g>\n     <g id=\"text_28\">\n      <!-- 25 -->\n      <g transform=\"translate(311.563636 228.233821)scale(0.1 -0.1)\">\n       <use xlink:href=\"#DejaVuSans-50\"/>\n       <use x=\"63.623047\" xlink:href=\"#DejaVuSans-53\"/>\n      </g>\n     </g>\n    </g>\n    <g id=\"ytick_14\">\n     <g id=\"line2d_28\">\n      <g>\n       <use style=\"stroke:#000000;stroke-width:0.8;\" x=\"331.288636\" xlink:href=\"#mab094b1aaa\" y=\"264.065284\"/>\n      </g>\n     </g>\n     <g id=\"text_29\">\n      <!-- 30 -->\n      <g transform=\"translate(311.563636 267.864503)scale(0.1 -0.1)\">\n       <use xlink:href=\"#DejaVuSans-51\"/>\n       <use x=\"63.623047\" xlink:href=\"#DejaVuSans-48\"/>\n      </g>\n     </g>\n    </g>\n   </g>\n   <g id=\"patch_8\">\n    <path d=\"M 331.288636 275.954489 \nL 331.288636 22.318125 \n\" style=\"fill:none;stroke:#000000;stroke-linecap:square;stroke-linejoin:miter;stroke-width:0.8;\"/>\n   </g>\n   <g id=\"patch_9\">\n    <path d=\"M 584.925 275.954489 \nL 584.925 22.318125 \n\" style=\"fill:none;stroke:#000000;stroke-linecap:square;stroke-linejoin:miter;stroke-width:0.8;\"/>\n   </g>\n   <g id=\"patch_10\">\n    <path d=\"M 331.288636 275.954489 \nL 584.925 275.954489 \n\" style=\"fill:none;stroke:#000000;stroke-linecap:square;stroke-linejoin:miter;stroke-width:0.8;\"/>\n   </g>\n   <g id=\"patch_11\">\n    <path d=\"M 331.288636 22.318125 \nL 584.925 22.318125 \n\" style=\"fill:none;stroke:#000000;stroke-linecap:square;stroke-linejoin:miter;stroke-width:0.8;\"/>\n   </g>\n   <g id=\"text_30\">\n    <!-- input -->\n    <defs>\n     <path d=\"M 9.421875 54.6875 \nL 18.40625 54.6875 \nL 18.40625 0 \nL 9.421875 0 \nz\nM 9.421875 75.984375 \nL 18.40625 75.984375 \nL 18.40625 64.59375 \nL 9.421875 64.59375 \nz\n\" id=\"DejaVuSans-105\"/>\n     <path d=\"M 54.890625 33.015625 \nL 54.890625 0 \nL 45.90625 0 \nL 45.90625 32.71875 \nQ 45.90625 40.484375 42.875 44.328125 \nQ 39.84375 48.1875 33.796875 48.1875 \nQ 26.515625 48.1875 22.3125 43.546875 \nQ 18.109375 38.921875 18.109375 30.90625 \nL 18.109375 0 \nL 9.078125 0 \nL 9.078125 54.6875 \nL 18.109375 54.6875 \nL 18.109375 46.1875 \nQ 21.34375 51.125 25.703125 53.5625 \nQ 30.078125 56 35.796875 56 \nQ 45.21875 56 50.046875 50.171875 \nQ 54.890625 44.34375 54.890625 33.015625 \nz\n\" id=\"DejaVuSans-110\"/>\n    </defs>\n    <g transform=\"translate(442.673693 16.318125)scale(0.12 -0.12)\">\n     <use xlink:href=\"#DejaVuSans-105\"/>\n     <use x=\"27.783203\" xlink:href=\"#DejaVuSans-110\"/>\n     <use x=\"91.162109\" xlink:href=\"#DejaVuSans-112\"/>\n     <use x=\"154.638672\" xlink:href=\"#DejaVuSans-117\"/>\n     <use x=\"218.017578\" xlink:href=\"#DejaVuSans-116\"/>\n    </g>\n   </g>\n  </g>\n </g>\n <defs>\n  <clipPath id=\"pc2a4dc9f6f\">\n   <rect height=\"253.636364\" width=\"253.636364\" x=\"26.925\" y=\"22.318125\"/>\n  </clipPath>\n  <clipPath id=\"pff5ba9a500\">\n   <rect height=\"253.636364\" width=\"253.636364\" x=\"331.288636\" y=\"22.318125\"/>\n  </clipPath>\n </defs>\n</svg>\n",
      "image/png": "[encoded data removed]"
     },
     "metadata": {
      "needs_background": "light"
     }
    }
   ],
   "source": [
    "plt.figure(figsize=(10, 4.8))  # bookskip\n",
    "ax1 = plt.subplot(1, 2, 1)   # bookskip\n",
    "plt.title('output')   # bookskip\n",
    "plt.imshow(output[0, 0].detach(), cmap='gray')\n",
    "plt.subplot(1, 2, 2, sharex=ax1, sharey=ax1)  # bookskip\n",
    "plt.imshow(img.mean(0), cmap='gray')  # bookskip\n",
    "plt.title('input')  # bookskip\n",
    "plt.savefig('Ch8_F2_PyTorch.png')  # bookskip\n",
    "plt.show()"
   ]
  },
  {
   "cell_type": "code",
   "execution_count": 67,
   "metadata": {},
   "outputs": [
    {
     "output_type": "execute_result",
     "data": {
      "text/plain": "(torch.Size([1, 3, 32, 32]), torch.Size([1, 1, 32, 32]))"
     },
     "metadata": {},
     "execution_count": 67
    }
   ],
   "source": [
    "conv = nn.Conv2d(3, 1, kernel_size=3, padding=1) # <1>\n",
    "output = conv(img.unsqueeze(0))\n",
    "img.unsqueeze(0).shape, output.shape"
   ]
  },
  {
   "cell_type": "code",
   "execution_count": 68,
   "metadata": {},
   "outputs": [],
   "source": [
    "# 希望对conv的参数进行修改，但不希望被记录\n",
    "# 模糊化的kernel\n",
    "with torch.no_grad():\n",
    "    conv.bias.zero_()\n",
    "    \n",
    "with torch.no_grad():\n",
    "    conv.weight.fill_(1.0 / 9.0)"
   ]
  },
  {
   "cell_type": "code",
   "execution_count": 69,
   "metadata": {},
   "outputs": [
    {
     "output_type": "display_data",
     "data": {
      "text/plain": "<Figure size 720x345.6 with 2 Axes>",
      "image/svg+xml": "<?xml version=\"1.0\" encoding=\"utf-8\" standalone=\"no\"?>\n<!DOCTYPE svg PUBLIC \"-//W3C//DTD SVG 1.1//EN\"\n  \"http://www.w3.org/Graphics/SVG/1.1/DTD/svg11.dtd\">\n<!-- Created with matplotlib (https://matplotlib.org/) -->\n<svg height=\"299.832614pt\" version=\"1.1\" viewBox=\"0 0 592.125 299.832614\" width=\"592.125pt\" xmlns=\"http://www.w3.org/2000/svg\" xmlns:xlink=\"http://www.w3.org/1999/xlink\">\n <defs>\n  <style type=\"text/css\">\n*{stroke-linecap:butt;stroke-linejoin:round;}\n  </style>\n </defs>\n <g id=\"figure_1\">\n  <g id=\"patch_1\">\n   <path d=\"M 0 299.832614 \nL 592.125 299.832614 \nL 592.125 0 \nL 0 0 \nz\n\" style=\"fill:none;\"/>\n  </g>\n  <g id=\"axes_1\">\n   <g id=\"patch_2\">\n    <path d=\"M 26.925 275.954489 \nL 280.561364 275.954489 \nL 280.561364 22.318125 \nL 26.925 22.318125 \nz\n\" style=\"fill:#ffffff;\"/>\n   </g>\n   <g clip-path=\"url(#p14de5d4162)\">\n    <image height=\"254\" id=\"imaged82be295b8\" transform=\"scale(1 -1)translate(0 -254)\" width=\"254\" x=\"26.925\" xlink:href=\"data:image/png;base64,\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\" y=\"-21.954489\"/>\n   </g>\n   <g id=\"matplotlib.axis_1\">\n    <g id=\"xtick_1\">\n     <g id=\"line2d_1\">\n      <defs>\n       <path d=\"M 0 0 \nL 0 3.5 \n\" id=\"m55d3bad319\" style=\"stroke:#000000;stroke-width:0.8;\"/>\n      </defs>\n      <g>\n       <use style=\"stroke:#000000;stroke-width:0.8;\" x=\"30.888068\" xlink:href=\"#m55d3bad319\" y=\"275.954489\"/>\n      </g>\n     </g>\n     <g id=\"text_1\">\n      <!-- 0 -->\n      <defs>\n       <path d=\"M 31.78125 66.40625 \nQ 24.171875 66.40625 20.328125 58.90625 \nQ 16.5 51.421875 16.5 36.375 \nQ 16.5 21.390625 20.328125 13.890625 \nQ 24.171875 6.390625 31.78125 6.390625 \nQ 39.453125 6.390625 43.28125 13.890625 \nQ 47.125 21.390625 47.125 36.375 \nQ 47.125 51.421875 43.28125 58.90625 \nQ 39.453125 66.40625 31.78125 66.40625 \nz\nM 31.78125 74.21875 \nQ 44.046875 74.21875 50.515625 64.515625 \nQ 56.984375 54.828125 56.984375 36.375 \nQ 56.984375 17.96875 50.515625 8.265625 \nQ 44.046875 -1.421875 31.78125 -1.421875 \nQ 19.53125 -1.421875 13.0625 8.265625 \nQ 6.59375 17.96875 6.59375 36.375 \nQ 6.59375 54.828125 13.0625 64.515625 \nQ 19.53125 74.21875 31.78125 74.21875 \nz\n\" id=\"DejaVuSans-48\"/>\n      </defs>\n      <g transform=\"translate(27.706818 290.552926)scale(0.1 -0.1)\">\n       <use xlink:href=\"#DejaVuSans-48\"/>\n      </g>\n     </g>\n    </g>\n    <g id=\"xtick_2\">\n     <g id=\"line2d_2\">\n      <g>\n       <use style=\"stroke:#000000;stroke-width:0.8;\" x=\"70.51875\" xlink:href=\"#m55d3bad319\" y=\"275.954489\"/>\n      </g>\n     </g>\n     <g id=\"text_2\">\n      <!-- 5 -->\n      <defs>\n       <path d=\"M 10.796875 72.90625 \nL 49.515625 72.90625 \nL 49.515625 64.59375 \nL 19.828125 64.59375 \nL 19.828125 46.734375 \nQ 21.96875 47.46875 24.109375 47.828125 \nQ 26.265625 48.1875 28.421875 48.1875 \nQ 40.625 48.1875 47.75 41.5 \nQ 54.890625 34.8125 54.890625 23.390625 \nQ 54.890625 11.625 47.5625 5.09375 \nQ 40.234375 -1.421875 26.90625 -1.421875 \nQ 22.3125 -1.421875 17.546875 -0.640625 \nQ 12.796875 0.140625 7.71875 1.703125 \nL 7.71875 11.625 \nQ 12.109375 9.234375 16.796875 8.0625 \nQ 21.484375 6.890625 26.703125 6.890625 \nQ 35.15625 6.890625 40.078125 11.328125 \nQ 45.015625 15.765625 45.015625 23.390625 \nQ 45.015625 31 40.078125 35.4375 \nQ 35.15625 39.890625 26.703125 39.890625 \nQ 22.75 39.890625 18.8125 39.015625 \nQ 14.890625 38.140625 10.796875 36.28125 \nz\n\" id=\"DejaVuSans-53\"/>\n      </defs>\n      <g transform=\"translate(67.3375 290.552926)scale(0.1 -0.1)\">\n       <use xlink:href=\"#DejaVuSans-53\"/>\n      </g>\n     </g>\n    </g>\n    <g id=\"xtick_3\">\n     <g id=\"line2d_3\">\n      <g>\n       <use style=\"stroke:#000000;stroke-width:0.8;\" x=\"110.149432\" xlink:href=\"#m55d3bad319\" y=\"275.954489\"/>\n      </g>\n     </g>\n     <g id=\"text_3\">\n      <!-- 10 -->\n      <defs>\n       <path d=\"M 12.40625 8.296875 \nL 28.515625 8.296875 \nL 28.515625 63.921875 \nL 10.984375 60.40625 \nL 10.984375 69.390625 \nL 28.421875 72.90625 \nL 38.28125 72.90625 \nL 38.28125 8.296875 \nL 54.390625 8.296875 \nL 54.390625 0 \nL 12.40625 0 \nz\n\" id=\"DejaVuSans-49\"/>\n      </defs>\n      <g transform=\"translate(103.786932 290.552926)scale(0.1 -0.1)\">\n       <use xlink:href=\"#DejaVuSans-49\"/>\n       <use x=\"63.623047\" xlink:href=\"#DejaVuSans-48\"/>\n      </g>\n     </g>\n    </g>\n    <g id=\"xtick_4\">\n     <g id=\"line2d_4\">\n      <g>\n       <use style=\"stroke:#000000;stroke-width:0.8;\" x=\"149.780114\" xlink:href=\"#m55d3bad319\" y=\"275.954489\"/>\n      </g>\n     </g>\n     <g id=\"text_4\">\n      <!-- 15 -->\n      <g transform=\"translate(143.417614 290.552926)scale(0.1 -0.1)\">\n       <use xlink:href=\"#DejaVuSans-49\"/>\n       <use x=\"63.623047\" xlink:href=\"#DejaVuSans-53\"/>\n      </g>\n     </g>\n    </g>\n    <g id=\"xtick_5\">\n     <g id=\"line2d_5\">\n      <g>\n       <use style=\"stroke:#000000;stroke-width:0.8;\" x=\"189.410795\" xlink:href=\"#m55d3bad319\" y=\"275.954489\"/>\n      </g>\n     </g>\n     <g id=\"text_5\">\n      <!-- 20 -->\n      <defs>\n       <path d=\"M 19.1875 8.296875 \nL 53.609375 8.296875 \nL 53.609375 0 \nL 7.328125 0 \nL 7.328125 8.296875 \nQ 12.9375 14.109375 22.625 23.890625 \nQ 32.328125 33.6875 34.8125 36.53125 \nQ 39.546875 41.84375 41.421875 45.53125 \nQ 43.3125 49.21875 43.3125 52.78125 \nQ 43.3125 58.59375 39.234375 62.25 \nQ 35.15625 65.921875 28.609375 65.921875 \nQ 23.96875 65.921875 18.8125 64.3125 \nQ 13.671875 62.703125 7.8125 59.421875 \nL 7.8125 69.390625 \nQ 13.765625 71.78125 18.9375 73 \nQ 24.125 74.21875 28.421875 74.21875 \nQ 39.75 74.21875 46.484375 68.546875 \nQ 53.21875 62.890625 53.21875 53.421875 \nQ 53.21875 48.921875 51.53125 44.890625 \nQ 49.859375 40.875 45.40625 35.40625 \nQ 44.1875 33.984375 37.640625 27.21875 \nQ 31.109375 20.453125 19.1875 8.296875 \nz\n\" id=\"DejaVuSans-50\"/>\n      </defs>\n      <g transform=\"translate(183.048295 290.552926)scale(0.1 -0.1)\">\n       <use xlink:href=\"#DejaVuSans-50\"/>\n       <use x=\"63.623047\" xlink:href=\"#DejaVuSans-48\"/>\n      </g>\n     </g>\n    </g>\n    <g id=\"xtick_6\">\n     <g id=\"line2d_6\">\n      <g>\n       <use style=\"stroke:#000000;stroke-width:0.8;\" x=\"229.041477\" xlink:href=\"#m55d3bad319\" y=\"275.954489\"/>\n      </g>\n     </g>\n     <g id=\"text_6\">\n      <!-- 25 -->\n      <g transform=\"translate(222.678977 290.552926)scale(0.1 -0.1)\">\n       <use xlink:href=\"#DejaVuSans-50\"/>\n       <use x=\"63.623047\" xlink:href=\"#DejaVuSans-53\"/>\n      </g>\n     </g>\n    </g>\n    <g id=\"xtick_7\">\n     <g id=\"line2d_7\">\n      <g>\n       <use style=\"stroke:#000000;stroke-width:0.8;\" x=\"268.672159\" xlink:href=\"#m55d3bad319\" y=\"275.954489\"/>\n      </g>\n     </g>\n     <g id=\"text_7\">\n      <!-- 30 -->\n      <defs>\n       <path d=\"M 40.578125 39.3125 \nQ 47.65625 37.796875 51.625 33 \nQ 55.609375 28.21875 55.609375 21.1875 \nQ 55.609375 10.40625 48.1875 4.484375 \nQ 40.765625 -1.421875 27.09375 -1.421875 \nQ 22.515625 -1.421875 17.65625 -0.515625 \nQ 12.796875 0.390625 7.625 2.203125 \nL 7.625 11.71875 \nQ 11.71875 9.328125 16.59375 8.109375 \nQ 21.484375 6.890625 26.8125 6.890625 \nQ 36.078125 6.890625 40.9375 10.546875 \nQ 45.796875 14.203125 45.796875 21.1875 \nQ 45.796875 27.640625 41.28125 31.265625 \nQ 36.765625 34.90625 28.71875 34.90625 \nL 20.21875 34.90625 \nL 20.21875 43.015625 \nL 29.109375 43.015625 \nQ 36.375 43.015625 40.234375 45.921875 \nQ 44.09375 48.828125 44.09375 54.296875 \nQ 44.09375 59.90625 40.109375 62.90625 \nQ 36.140625 65.921875 28.71875 65.921875 \nQ 24.65625 65.921875 20.015625 65.03125 \nQ 15.375 64.15625 9.8125 62.3125 \nL 9.8125 71.09375 \nQ 15.4375 72.65625 20.34375 73.4375 \nQ 25.25 74.21875 29.59375 74.21875 \nQ 40.828125 74.21875 47.359375 69.109375 \nQ 53.90625 64.015625 53.90625 55.328125 \nQ 53.90625 49.265625 50.4375 45.09375 \nQ 46.96875 40.921875 40.578125 39.3125 \nz\n\" id=\"DejaVuSans-51\"/>\n      </defs>\n      <g transform=\"translate(262.309659 290.552926)scale(0.1 -0.1)\">\n       <use xlink:href=\"#DejaVuSans-51\"/>\n       <use x=\"63.623047\" xlink:href=\"#DejaVuSans-48\"/>\n      </g>\n     </g>\n    </g>\n   </g>\n   <g id=\"matplotlib.axis_2\">\n    <g id=\"ytick_1\">\n     <g id=\"line2d_8\">\n      <defs>\n       <path d=\"M 0 0 \nL -3.5 0 \n\" id=\"mcb51ffda43\" style=\"stroke:#000000;stroke-width:0.8;\"/>\n      </defs>\n      <g>\n       <use style=\"stroke:#000000;stroke-width:0.8;\" x=\"26.925\" xlink:href=\"#mcb51ffda43\" y=\"26.281193\"/>\n      </g>\n     </g>\n     <g id=\"text_8\">\n      <!-- 0 -->\n      <g transform=\"translate(13.5625 30.080412)scale(0.1 -0.1)\">\n       <use xlink:href=\"#DejaVuSans-48\"/>\n      </g>\n     </g>\n    </g>\n    <g id=\"ytick_2\">\n     <g id=\"line2d_9\">\n      <g>\n       <use style=\"stroke:#000000;stroke-width:0.8;\" x=\"26.925\" xlink:href=\"#mcb51ffda43\" y=\"65.911875\"/>\n      </g>\n     </g>\n     <g id=\"text_9\">\n      <!-- 5 -->\n      <g transform=\"translate(13.5625 69.711094)scale(0.1 -0.1)\">\n       <use xlink:href=\"#DejaVuSans-53\"/>\n      </g>\n     </g>\n    </g>\n    <g id=\"ytick_3\">\n     <g id=\"line2d_10\">\n      <g>\n       <use style=\"stroke:#000000;stroke-width:0.8;\" x=\"26.925\" xlink:href=\"#mcb51ffda43\" y=\"105.542557\"/>\n      </g>\n     </g>\n     <g id=\"text_10\">\n      <!-- 10 -->\n      <g transform=\"translate(7.2 109.341776)scale(0.1 -0.1)\">\n       <use xlink:href=\"#DejaVuSans-49\"/>\n       <use x=\"63.623047\" xlink:href=\"#DejaVuSans-48\"/>\n      </g>\n     </g>\n    </g>\n    <g id=\"ytick_4\">\n     <g id=\"line2d_11\">\n      <g>\n       <use style=\"stroke:#000000;stroke-width:0.8;\" x=\"26.925\" xlink:href=\"#mcb51ffda43\" y=\"145.173239\"/>\n      </g>\n     </g>\n     <g id=\"text_11\">\n      <!-- 15 -->\n      <g transform=\"translate(7.2 148.972457)scale(0.1 -0.1)\">\n       <use xlink:href=\"#DejaVuSans-49\"/>\n       <use x=\"63.623047\" xlink:href=\"#DejaVuSans-53\"/>\n      </g>\n     </g>\n    </g>\n    <g id=\"ytick_5\">\n     <g id=\"line2d_12\">\n      <g>\n       <use style=\"stroke:#000000;stroke-width:0.8;\" x=\"26.925\" xlink:href=\"#mcb51ffda43\" y=\"184.80392\"/>\n      </g>\n     </g>\n     <g id=\"text_12\">\n      <!-- 20 -->\n      <g transform=\"translate(7.2 188.603139)scale(0.1 -0.1)\">\n       <use xlink:href=\"#DejaVuSans-50\"/>\n       <use x=\"63.623047\" xlink:href=\"#DejaVuSans-48\"/>\n      </g>\n     </g>\n    </g>\n    <g id=\"ytick_6\">\n     <g id=\"line2d_13\">\n      <g>\n       <use style=\"stroke:#000000;stroke-width:0.8;\" x=\"26.925\" xlink:href=\"#mcb51ffda43\" y=\"224.434602\"/>\n      </g>\n     </g>\n     <g id=\"text_13\">\n      <!-- 25 -->\n      <g transform=\"translate(7.2 228.233821)scale(0.1 -0.1)\">\n       <use xlink:href=\"#DejaVuSans-50\"/>\n       <use x=\"63.623047\" xlink:href=\"#DejaVuSans-53\"/>\n      </g>\n     </g>\n    </g>\n    <g id=\"ytick_7\">\n     <g id=\"line2d_14\">\n      <g>\n       <use style=\"stroke:#000000;stroke-width:0.8;\" x=\"26.925\" xlink:href=\"#mcb51ffda43\" y=\"264.065284\"/>\n      </g>\n     </g>\n     <g id=\"text_14\">\n      <!-- 30 -->\n      <g transform=\"translate(7.2 267.864503)scale(0.1 -0.1)\">\n       <use xlink:href=\"#DejaVuSans-51\"/>\n       <use x=\"63.623047\" xlink:href=\"#DejaVuSans-48\"/>\n      </g>\n     </g>\n    </g>\n   </g>\n   <g id=\"patch_3\">\n    <path d=\"M 26.925 275.954489 \nL 26.925 22.318125 \n\" style=\"fill:none;stroke:#000000;stroke-linecap:square;stroke-linejoin:miter;stroke-width:0.8;\"/>\n   </g>\n   <g id=\"patch_4\">\n    <path d=\"M 280.561364 275.954489 \nL 280.561364 22.318125 \n\" style=\"fill:none;stroke:#000000;stroke-linecap:square;stroke-linejoin:miter;stroke-width:0.8;\"/>\n   </g>\n   <g id=\"patch_5\">\n    <path d=\"M 26.925 275.954489 \nL 280.561364 275.954489 \n\" style=\"fill:none;stroke:#000000;stroke-linecap:square;stroke-linejoin:miter;stroke-width:0.8;\"/>\n   </g>\n   <g id=\"patch_6\">\n    <path d=\"M 26.925 22.318125 \nL 280.561364 22.318125 \n\" style=\"fill:none;stroke:#000000;stroke-linecap:square;stroke-linejoin:miter;stroke-width:0.8;\"/>\n   </g>\n   <g id=\"text_15\">\n    <!-- output -->\n    <defs>\n     <path d=\"M 30.609375 48.390625 \nQ 23.390625 48.390625 19.1875 42.75 \nQ 14.984375 37.109375 14.984375 27.296875 \nQ 14.984375 17.484375 19.15625 11.84375 \nQ 23.34375 6.203125 30.609375 6.203125 \nQ 37.796875 6.203125 41.984375 11.859375 \nQ 46.1875 17.53125 46.1875 27.296875 \nQ 46.1875 37.015625 41.984375 42.703125 \nQ 37.796875 48.390625 30.609375 48.390625 \nz\nM 30.609375 56 \nQ 42.328125 56 49.015625 48.375 \nQ 55.71875 40.765625 55.71875 27.296875 \nQ 55.71875 13.875 49.015625 6.21875 \nQ 42.328125 -1.421875 30.609375 -1.421875 \nQ 18.84375 -1.421875 12.171875 6.21875 \nQ 5.515625 13.875 5.515625 27.296875 \nQ 5.515625 40.765625 12.171875 48.375 \nQ 18.84375 56 30.609375 56 \nz\n\" id=\"DejaVuSans-111\"/>\n     <path d=\"M 8.5 21.578125 \nL 8.5 54.6875 \nL 17.484375 54.6875 \nL 17.484375 21.921875 \nQ 17.484375 14.15625 20.5 10.265625 \nQ 23.53125 6.390625 29.59375 6.390625 \nQ 36.859375 6.390625 41.078125 11.03125 \nQ 45.3125 15.671875 45.3125 23.6875 \nL 45.3125 54.6875 \nL 54.296875 54.6875 \nL 54.296875 0 \nL 45.3125 0 \nL 45.3125 8.40625 \nQ 42.046875 3.421875 37.71875 1 \nQ 33.40625 -1.421875 27.6875 -1.421875 \nQ 18.265625 -1.421875 13.375 4.4375 \nQ 8.5 10.296875 8.5 21.578125 \nz\nM 31.109375 56 \nz\n\" id=\"DejaVuSans-117\"/>\n     <path d=\"M 18.3125 70.21875 \nL 18.3125 54.6875 \nL 36.8125 54.6875 \nL 36.8125 47.703125 \nL 18.3125 47.703125 \nL 18.3125 18.015625 \nQ 18.3125 11.328125 20.140625 9.421875 \nQ 21.96875 7.515625 27.59375 7.515625 \nL 36.8125 7.515625 \nL 36.8125 0 \nL 27.59375 0 \nQ 17.1875 0 13.234375 3.875 \nQ 9.28125 7.765625 9.28125 18.015625 \nL 9.28125 47.703125 \nL 2.6875 47.703125 \nL 2.6875 54.6875 \nL 9.28125 54.6875 \nL 9.28125 70.21875 \nz\n\" id=\"DejaVuSans-116\"/>\n     <path d=\"M 18.109375 8.203125 \nL 18.109375 -20.796875 \nL 9.078125 -20.796875 \nL 9.078125 54.6875 \nL 18.109375 54.6875 \nL 18.109375 46.390625 \nQ 20.953125 51.265625 25.265625 53.625 \nQ 29.59375 56 35.59375 56 \nQ 45.5625 56 51.78125 48.09375 \nQ 58.015625 40.1875 58.015625 27.296875 \nQ 58.015625 14.40625 51.78125 6.484375 \nQ 45.5625 -1.421875 35.59375 -1.421875 \nQ 29.59375 -1.421875 25.265625 0.953125 \nQ 20.953125 3.328125 18.109375 8.203125 \nz\nM 48.6875 27.296875 \nQ 48.6875 37.203125 44.609375 42.84375 \nQ 40.53125 48.484375 33.40625 48.484375 \nQ 26.265625 48.484375 22.1875 42.84375 \nQ 18.109375 37.203125 18.109375 27.296875 \nQ 18.109375 17.390625 22.1875 11.75 \nQ 26.265625 6.109375 33.40625 6.109375 \nQ 40.53125 6.109375 44.609375 11.75 \nQ 48.6875 17.390625 48.6875 27.296875 \nz\n\" id=\"DejaVuSans-112\"/>\n    </defs>\n    <g transform=\"translate(133.953494 16.318125)scale(0.12 -0.12)\">\n     <use xlink:href=\"#DejaVuSans-111\"/>\n     <use x=\"61.181641\" xlink:href=\"#DejaVuSans-117\"/>\n     <use x=\"124.560547\" xlink:href=\"#DejaVuSans-116\"/>\n     <use x=\"163.769531\" xlink:href=\"#DejaVuSans-112\"/>\n     <use x=\"227.246094\" xlink:href=\"#DejaVuSans-117\"/>\n     <use x=\"290.625\" xlink:href=\"#DejaVuSans-116\"/>\n    </g>\n   </g>\n  </g>\n  <g id=\"axes_2\">\n   <g id=\"patch_7\">\n    <path d=\"M 331.288636 275.954489 \nL 584.925 275.954489 \nL 584.925 22.318125 \nL 331.288636 22.318125 \nz\n\" style=\"fill:#ffffff;\"/>\n   </g>\n   <g clip-path=\"url(#pca6e759ba1)\">\n    <image height=\"254\" id=\"imageedf38fb616\" transform=\"scale(1 -1)translate(0 -254)\" width=\"254\" x=\"331.288636\" xlink:href=\"data:image/png;base64,\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\" y=\"-21.954489\"/>\n   </g>\n   <g id=\"matplotlib.axis_3\">\n    <g id=\"xtick_8\">\n     <g id=\"line2d_15\">\n      <g>\n       <use style=\"stroke:#000000;stroke-width:0.8;\" x=\"335.251705\" xlink:href=\"#m55d3bad319\" y=\"275.954489\"/>\n      </g>\n     </g>\n     <g id=\"text_16\">\n      <!-- 0 -->\n      <g transform=\"translate(332.070455 290.552926)scale(0.1 -0.1)\">\n       <use xlink:href=\"#DejaVuSans-48\"/>\n      </g>\n     </g>\n    </g>\n    <g id=\"xtick_9\">\n     <g id=\"line2d_16\">\n      <g>\n       <use style=\"stroke:#000000;stroke-width:0.8;\" x=\"374.882386\" xlink:href=\"#m55d3bad319\" y=\"275.954489\"/>\n      </g>\n     </g>\n     <g id=\"text_17\">\n      <!-- 5 -->\n      <g transform=\"translate(371.701136 290.552926)scale(0.1 -0.1)\">\n       <use xlink:href=\"#DejaVuSans-53\"/>\n      </g>\n     </g>\n    </g>\n    <g id=\"xtick_10\">\n     <g id=\"line2d_17\">\n      <g>\n       <use style=\"stroke:#000000;stroke-width:0.8;\" x=\"414.513068\" xlink:href=\"#m55d3bad319\" y=\"275.954489\"/>\n      </g>\n     </g>\n     <g id=\"text_18\">\n      <!-- 10 -->\n      <g transform=\"translate(408.150568 290.552926)scale(0.1 -0.1)\">\n       <use xlink:href=\"#DejaVuSans-49\"/>\n       <use x=\"63.623047\" xlink:href=\"#DejaVuSans-48\"/>\n      </g>\n     </g>\n    </g>\n    <g id=\"xtick_11\">\n     <g id=\"line2d_18\">\n      <g>\n       <use style=\"stroke:#000000;stroke-width:0.8;\" x=\"454.14375\" xlink:href=\"#m55d3bad319\" y=\"275.954489\"/>\n      </g>\n     </g>\n     <g id=\"text_19\">\n      <!-- 15 -->\n      <g transform=\"translate(447.78125 290.552926)scale(0.1 -0.1)\">\n       <use xlink:href=\"#DejaVuSans-49\"/>\n       <use x=\"63.623047\" xlink:href=\"#DejaVuSans-53\"/>\n      </g>\n     </g>\n    </g>\n    <g id=\"xtick_12\">\n     <g id=\"line2d_19\">\n      <g>\n       <use style=\"stroke:#000000;stroke-width:0.8;\" x=\"493.774432\" xlink:href=\"#m55d3bad319\" y=\"275.954489\"/>\n      </g>\n     </g>\n     <g id=\"text_20\">\n      <!-- 20 -->\n      <g transform=\"translate(487.411932 290.552926)scale(0.1 -0.1)\">\n       <use xlink:href=\"#DejaVuSans-50\"/>\n       <use x=\"63.623047\" xlink:href=\"#DejaVuSans-48\"/>\n      </g>\n     </g>\n    </g>\n    <g id=\"xtick_13\">\n     <g id=\"line2d_20\">\n      <g>\n       <use style=\"stroke:#000000;stroke-width:0.8;\" x=\"533.405114\" xlink:href=\"#m55d3bad319\" y=\"275.954489\"/>\n      </g>\n     </g>\n     <g id=\"text_21\">\n      <!-- 25 -->\n      <g transform=\"translate(527.042614 290.552926)scale(0.1 -0.1)\">\n       <use xlink:href=\"#DejaVuSans-50\"/>\n       <use x=\"63.623047\" xlink:href=\"#DejaVuSans-53\"/>\n      </g>\n     </g>\n    </g>\n    <g id=\"xtick_14\">\n     <g id=\"line2d_21\">\n      <g>\n       <use style=\"stroke:#000000;stroke-width:0.8;\" x=\"573.035795\" xlink:href=\"#m55d3bad319\" y=\"275.954489\"/>\n      </g>\n     </g>\n     <g id=\"text_22\">\n      <!-- 30 -->\n      <g transform=\"translate(566.673295 290.552926)scale(0.1 -0.1)\">\n       <use xlink:href=\"#DejaVuSans-51\"/>\n       <use x=\"63.623047\" xlink:href=\"#DejaVuSans-48\"/>\n      </g>\n     </g>\n    </g>\n   </g>\n   <g id=\"matplotlib.axis_4\">\n    <g id=\"ytick_8\">\n     <g id=\"line2d_22\">\n      <g>\n       <use style=\"stroke:#000000;stroke-width:0.8;\" x=\"331.288636\" xlink:href=\"#mcb51ffda43\" y=\"26.281193\"/>\n      </g>\n     </g>\n     <g id=\"text_23\">\n      <!-- 0 -->\n      <g transform=\"translate(317.926136 30.080412)scale(0.1 -0.1)\">\n       <use xlink:href=\"#DejaVuSans-48\"/>\n      </g>\n     </g>\n    </g>\n    <g id=\"ytick_9\">\n     <g id=\"line2d_23\">\n      <g>\n       <use style=\"stroke:#000000;stroke-width:0.8;\" x=\"331.288636\" xlink:href=\"#mcb51ffda43\" y=\"65.911875\"/>\n      </g>\n     </g>\n     <g id=\"text_24\">\n      <!-- 5 -->\n      <g transform=\"translate(317.926136 69.711094)scale(0.1 -0.1)\">\n       <use xlink:href=\"#DejaVuSans-53\"/>\n      </g>\n     </g>\n    </g>\n    <g id=\"ytick_10\">\n     <g id=\"line2d_24\">\n      <g>\n       <use style=\"stroke:#000000;stroke-width:0.8;\" x=\"331.288636\" xlink:href=\"#mcb51ffda43\" y=\"105.542557\"/>\n      </g>\n     </g>\n     <g id=\"text_25\">\n      <!-- 10 -->\n      <g transform=\"translate(311.563636 109.341776)scale(0.1 -0.1)\">\n       <use xlink:href=\"#DejaVuSans-49\"/>\n       <use x=\"63.623047\" xlink:href=\"#DejaVuSans-48\"/>\n      </g>\n     </g>\n    </g>\n    <g id=\"ytick_11\">\n     <g id=\"line2d_25\">\n      <g>\n       <use style=\"stroke:#000000;stroke-width:0.8;\" x=\"331.288636\" xlink:href=\"#mcb51ffda43\" y=\"145.173239\"/>\n      </g>\n     </g>\n     <g id=\"text_26\">\n      <!-- 15 -->\n      <g transform=\"translate(311.563636 148.972457)scale(0.1 -0.1)\">\n       <use xlink:href=\"#DejaVuSans-49\"/>\n       <use x=\"63.623047\" xlink:href=\"#DejaVuSans-53\"/>\n      </g>\n     </g>\n    </g>\n    <g id=\"ytick_12\">\n     <g id=\"line2d_26\">\n      <g>\n       <use style=\"stroke:#000000;stroke-width:0.8;\" x=\"331.288636\" xlink:href=\"#mcb51ffda43\" y=\"184.80392\"/>\n      </g>\n     </g>\n     <g id=\"text_27\">\n      <!-- 20 -->\n      <g transform=\"translate(311.563636 188.603139)scale(0.1 -0.1)\">\n       <use xlink:href=\"#DejaVuSans-50\"/>\n       <use x=\"63.623047\" xlink:href=\"#DejaVuSans-48\"/>\n      </g>\n     </g>\n    </g>\n    <g id=\"ytick_13\">\n     <g id=\"line2d_27\">\n      <g>\n       <use style=\"stroke:#000000;stroke-width:0.8;\" x=\"331.288636\" xlink:href=\"#mcb51ffda43\" y=\"224.434602\"/>\n      </g>\n     </g>\n     <g id=\"text_28\">\n      <!-- 25 -->\n      <g transform=\"translate(311.563636 228.233821)scale(0.1 -0.1)\">\n       <use xlink:href=\"#DejaVuSans-50\"/>\n       <use x=\"63.623047\" xlink:href=\"#DejaVuSans-53\"/>\n      </g>\n     </g>\n    </g>\n    <g id=\"ytick_14\">\n     <g id=\"line2d_28\">\n      <g>\n       <use style=\"stroke:#000000;stroke-width:0.8;\" x=\"331.288636\" xlink:href=\"#mcb51ffda43\" y=\"264.065284\"/>\n      </g>\n     </g>\n     <g id=\"text_29\">\n      <!-- 30 -->\n      <g transform=\"translate(311.563636 267.864503)scale(0.1 -0.1)\">\n       <use xlink:href=\"#DejaVuSans-51\"/>\n       <use x=\"63.623047\" xlink:href=\"#DejaVuSans-48\"/>\n      </g>\n     </g>\n    </g>\n   </g>\n   <g id=\"patch_8\">\n    <path d=\"M 331.288636 275.954489 \nL 331.288636 22.318125 \n\" style=\"fill:none;stroke:#000000;stroke-linecap:square;stroke-linejoin:miter;stroke-width:0.8;\"/>\n   </g>\n   <g id=\"patch_9\">\n    <path d=\"M 584.925 275.954489 \nL 584.925 22.318125 \n\" style=\"fill:none;stroke:#000000;stroke-linecap:square;stroke-linejoin:miter;stroke-width:0.8;\"/>\n   </g>\n   <g id=\"patch_10\">\n    <path d=\"M 331.288636 275.954489 \nL 584.925 275.954489 \n\" style=\"fill:none;stroke:#000000;stroke-linecap:square;stroke-linejoin:miter;stroke-width:0.8;\"/>\n   </g>\n   <g id=\"patch_11\">\n    <path d=\"M 331.288636 22.318125 \nL 584.925 22.318125 \n\" style=\"fill:none;stroke:#000000;stroke-linecap:square;stroke-linejoin:miter;stroke-width:0.8;\"/>\n   </g>\n   <g id=\"text_30\">\n    <!-- input -->\n    <defs>\n     <path d=\"M 9.421875 54.6875 \nL 18.40625 54.6875 \nL 18.40625 0 \nL 9.421875 0 \nz\nM 9.421875 75.984375 \nL 18.40625 75.984375 \nL 18.40625 64.59375 \nL 9.421875 64.59375 \nz\n\" id=\"DejaVuSans-105\"/>\n     <path d=\"M 54.890625 33.015625 \nL 54.890625 0 \nL 45.90625 0 \nL 45.90625 32.71875 \nQ 45.90625 40.484375 42.875 44.328125 \nQ 39.84375 48.1875 33.796875 48.1875 \nQ 26.515625 48.1875 22.3125 43.546875 \nQ 18.109375 38.921875 18.109375 30.90625 \nL 18.109375 0 \nL 9.078125 0 \nL 9.078125 54.6875 \nL 18.109375 54.6875 \nL 18.109375 46.1875 \nQ 21.34375 51.125 25.703125 53.5625 \nQ 30.078125 56 35.796875 56 \nQ 45.21875 56 50.046875 50.171875 \nQ 54.890625 44.34375 54.890625 33.015625 \nz\n\" id=\"DejaVuSans-110\"/>\n    </defs>\n    <g transform=\"translate(442.673693 16.318125)scale(0.12 -0.12)\">\n     <use xlink:href=\"#DejaVuSans-105\"/>\n     <use x=\"27.783203\" xlink:href=\"#DejaVuSans-110\"/>\n     <use x=\"91.162109\" xlink:href=\"#DejaVuSans-112\"/>\n     <use x=\"154.638672\" xlink:href=\"#DejaVuSans-117\"/>\n     <use x=\"218.017578\" xlink:href=\"#DejaVuSans-116\"/>\n    </g>\n   </g>\n  </g>\n </g>\n <defs>\n  <clipPath id=\"p14de5d4162\">\n   <rect height=\"253.636364\" width=\"253.636364\" x=\"26.925\" y=\"22.318125\"/>\n  </clipPath>\n  <clipPath id=\"pca6e759ba1\">\n   <rect height=\"253.636364\" width=\"253.636364\" x=\"331.288636\" y=\"22.318125\"/>\n  </clipPath>\n </defs>\n</svg>\n",
      "image/png": "[encoded data removed]"
     },
     "metadata": {
      "needs_background": "light"
     }
    }
   ],
   "source": [
    "# matplotlib显示input & output\n",
    "output = conv(img.unsqueeze(0))\n",
    "plt.figure(figsize=(10, 4.8))  # bookskip\n",
    "ax1 = plt.subplot(1, 2, 1)   # bookskip\n",
    "plt.title('output')   # bookskip\n",
    "plt.imshow(output[0, 0].detach(), cmap='gray')\n",
    "plt.subplot(1, 2, 2, sharex=ax1, sharey=ax1)  # bookskip\n",
    "plt.imshow(img.mean(0), cmap='gray')  # bookskip\n",
    "plt.title('input')  # bookskip\n",
    "plt.savefig('Ch8_F4_PyTorch.png')  # bookskip\n",
    "plt.show()"
   ]
  },
  {
   "cell_type": "code",
   "execution_count": 70,
   "metadata": {},
   "outputs": [],
   "source": [
    "conv = nn.Conv2d(3, 1, kernel_size=3, padding=1)\n",
    "\n",
    "with torch.no_grad():\n",
    "    # conv.weight.shape = (3, 1, 3, 3)\n",
    "    # 而赋值tensor的shape = (3, 3) -> (1, 1, 3, 3) -> (3, 1, 3, 3)\n",
    "    # 边缘加强的kernel\n",
    "    conv.weight[:] = torch.tensor([[-1.0, 0.0, 1.0],\n",
    "                                   [-1.0, 0.0, 1.0],\n",
    "                                   [-1.0, 0.0, 1.0]])\n",
    "    conv.bias.zero_()"
   ]
  },
  {
   "cell_type": "code",
   "execution_count": 71,
   "metadata": {},
   "outputs": [
    {
     "output_type": "display_data",
     "data": {
      "text/plain": "<Figure size 720x345.6 with 2 Axes>",
      "image/svg+xml": "<?xml version=\"1.0\" encoding=\"utf-8\" standalone=\"no\"?>\n<!DOCTYPE svg PUBLIC \"-//W3C//DTD SVG 1.1//EN\"\n  \"http://www.w3.org/Graphics/SVG/1.1/DTD/svg11.dtd\">\n<!-- Created with matplotlib (https://matplotlib.org/) -->\n<svg height=\"299.832614pt\" version=\"1.1\" viewBox=\"0 0 592.125 299.832614\" width=\"592.125pt\" xmlns=\"http://www.w3.org/2000/svg\" xmlns:xlink=\"http://www.w3.org/1999/xlink\">\n <defs>\n  <style type=\"text/css\">\n*{stroke-linecap:butt;stroke-linejoin:round;}\n  </style>\n </defs>\n <g id=\"figure_1\">\n  <g id=\"patch_1\">\n   <path d=\"M 0 299.832614 \nL 592.125 299.832614 \nL 592.125 0 \nL 0 0 \nz\n\" style=\"fill:none;\"/>\n  </g>\n  <g id=\"axes_1\">\n   <g id=\"patch_2\">\n    <path d=\"M 26.925 275.954489 \nL 280.561364 275.954489 \nL 280.561364 22.318125 \nL 26.925 22.318125 \nz\n\" style=\"fill:#ffffff;\"/>\n   </g>\n   <g clip-path=\"url(#p7091f03609)\">\n    <image height=\"254\" id=\"imagece047fa35c\" transform=\"scale(1 -1)translate(0 -254)\" width=\"254\" x=\"26.925\" xlink:href=\"data:image/png;base64,\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\" y=\"-21.954489\"/>\n   </g>\n   <g id=\"matplotlib.axis_1\">\n    <g id=\"xtick_1\">\n     <g id=\"line2d_1\">\n      <defs>\n       <path d=\"M 0 0 \nL 0 3.5 \n\" id=\"md1eeefc3e0\" style=\"stroke:#000000;stroke-width:0.8;\"/>\n      </defs>\n      <g>\n       <use style=\"stroke:#000000;stroke-width:0.8;\" x=\"30.888068\" xlink:href=\"#md1eeefc3e0\" y=\"275.954489\"/>\n      </g>\n     </g>\n     <g id=\"text_1\">\n      <!-- 0 -->\n      <defs>\n       <path d=\"M 31.78125 66.40625 \nQ 24.171875 66.40625 20.328125 58.90625 \nQ 16.5 51.421875 16.5 36.375 \nQ 16.5 21.390625 20.328125 13.890625 \nQ 24.171875 6.390625 31.78125 6.390625 \nQ 39.453125 6.390625 43.28125 13.890625 \nQ 47.125 21.390625 47.125 36.375 \nQ 47.125 51.421875 43.28125 58.90625 \nQ 39.453125 66.40625 31.78125 66.40625 \nz\nM 31.78125 74.21875 \nQ 44.046875 74.21875 50.515625 64.515625 \nQ 56.984375 54.828125 56.984375 36.375 \nQ 56.984375 17.96875 50.515625 8.265625 \nQ 44.046875 -1.421875 31.78125 -1.421875 \nQ 19.53125 -1.421875 13.0625 8.265625 \nQ 6.59375 17.96875 6.59375 36.375 \nQ 6.59375 54.828125 13.0625 64.515625 \nQ 19.53125 74.21875 31.78125 74.21875 \nz\n\" id=\"DejaVuSans-48\"/>\n      </defs>\n      <g transform=\"translate(27.706818 290.552926)scale(0.1 -0.1)\">\n       <use xlink:href=\"#DejaVuSans-48\"/>\n      </g>\n     </g>\n    </g>\n    <g id=\"xtick_2\">\n     <g id=\"line2d_2\">\n      <g>\n       <use style=\"stroke:#000000;stroke-width:0.8;\" x=\"70.51875\" xlink:href=\"#md1eeefc3e0\" y=\"275.954489\"/>\n      </g>\n     </g>\n     <g id=\"text_2\">\n      <!-- 5 -->\n      <defs>\n       <path d=\"M 10.796875 72.90625 \nL 49.515625 72.90625 \nL 49.515625 64.59375 \nL 19.828125 64.59375 \nL 19.828125 46.734375 \nQ 21.96875 47.46875 24.109375 47.828125 \nQ 26.265625 48.1875 28.421875 48.1875 \nQ 40.625 48.1875 47.75 41.5 \nQ 54.890625 34.8125 54.890625 23.390625 \nQ 54.890625 11.625 47.5625 5.09375 \nQ 40.234375 -1.421875 26.90625 -1.421875 \nQ 22.3125 -1.421875 17.546875 -0.640625 \nQ 12.796875 0.140625 7.71875 1.703125 \nL 7.71875 11.625 \nQ 12.109375 9.234375 16.796875 8.0625 \nQ 21.484375 6.890625 26.703125 6.890625 \nQ 35.15625 6.890625 40.078125 11.328125 \nQ 45.015625 15.765625 45.015625 23.390625 \nQ 45.015625 31 40.078125 35.4375 \nQ 35.15625 39.890625 26.703125 39.890625 \nQ 22.75 39.890625 18.8125 39.015625 \nQ 14.890625 38.140625 10.796875 36.28125 \nz\n\" id=\"DejaVuSans-53\"/>\n      </defs>\n      <g transform=\"translate(67.3375 290.552926)scale(0.1 -0.1)\">\n       <use xlink:href=\"#DejaVuSans-53\"/>\n      </g>\n     </g>\n    </g>\n    <g id=\"xtick_3\">\n     <g id=\"line2d_3\">\n      <g>\n       <use style=\"stroke:#000000;stroke-width:0.8;\" x=\"110.149432\" xlink:href=\"#md1eeefc3e0\" y=\"275.954489\"/>\n      </g>\n     </g>\n     <g id=\"text_3\">\n      <!-- 10 -->\n      <defs>\n       <path d=\"M 12.40625 8.296875 \nL 28.515625 8.296875 \nL 28.515625 63.921875 \nL 10.984375 60.40625 \nL 10.984375 69.390625 \nL 28.421875 72.90625 \nL 38.28125 72.90625 \nL 38.28125 8.296875 \nL 54.390625 8.296875 \nL 54.390625 0 \nL 12.40625 0 \nz\n\" id=\"DejaVuSans-49\"/>\n      </defs>\n      <g transform=\"translate(103.786932 290.552926)scale(0.1 -0.1)\">\n       <use xlink:href=\"#DejaVuSans-49\"/>\n       <use x=\"63.623047\" xlink:href=\"#DejaVuSans-48\"/>\n      </g>\n     </g>\n    </g>\n    <g id=\"xtick_4\">\n     <g id=\"line2d_4\">\n      <g>\n       <use style=\"stroke:#000000;stroke-width:0.8;\" x=\"149.780114\" xlink:href=\"#md1eeefc3e0\" y=\"275.954489\"/>\n      </g>\n     </g>\n     <g id=\"text_4\">\n      <!-- 15 -->\n      <g transform=\"translate(143.417614 290.552926)scale(0.1 -0.1)\">\n       <use xlink:href=\"#DejaVuSans-49\"/>\n       <use x=\"63.623047\" xlink:href=\"#DejaVuSans-53\"/>\n      </g>\n     </g>\n    </g>\n    <g id=\"xtick_5\">\n     <g id=\"line2d_5\">\n      <g>\n       <use style=\"stroke:#000000;stroke-width:0.8;\" x=\"189.410795\" xlink:href=\"#md1eeefc3e0\" y=\"275.954489\"/>\n      </g>\n     </g>\n     <g id=\"text_5\">\n      <!-- 20 -->\n      <defs>\n       <path d=\"M 19.1875 8.296875 \nL 53.609375 8.296875 \nL 53.609375 0 \nL 7.328125 0 \nL 7.328125 8.296875 \nQ 12.9375 14.109375 22.625 23.890625 \nQ 32.328125 33.6875 34.8125 36.53125 \nQ 39.546875 41.84375 41.421875 45.53125 \nQ 43.3125 49.21875 43.3125 52.78125 \nQ 43.3125 58.59375 39.234375 62.25 \nQ 35.15625 65.921875 28.609375 65.921875 \nQ 23.96875 65.921875 18.8125 64.3125 \nQ 13.671875 62.703125 7.8125 59.421875 \nL 7.8125 69.390625 \nQ 13.765625 71.78125 18.9375 73 \nQ 24.125 74.21875 28.421875 74.21875 \nQ 39.75 74.21875 46.484375 68.546875 \nQ 53.21875 62.890625 53.21875 53.421875 \nQ 53.21875 48.921875 51.53125 44.890625 \nQ 49.859375 40.875 45.40625 35.40625 \nQ 44.1875 33.984375 37.640625 27.21875 \nQ 31.109375 20.453125 19.1875 8.296875 \nz\n\" id=\"DejaVuSans-50\"/>\n      </defs>\n      <g transform=\"translate(183.048295 290.552926)scale(0.1 -0.1)\">\n       <use xlink:href=\"#DejaVuSans-50\"/>\n       <use x=\"63.623047\" xlink:href=\"#DejaVuSans-48\"/>\n      </g>\n     </g>\n    </g>\n    <g id=\"xtick_6\">\n     <g id=\"line2d_6\">\n      <g>\n       <use style=\"stroke:#000000;stroke-width:0.8;\" x=\"229.041477\" xlink:href=\"#md1eeefc3e0\" y=\"275.954489\"/>\n      </g>\n     </g>\n     <g id=\"text_6\">\n      <!-- 25 -->\n      <g transform=\"translate(222.678977 290.552926)scale(0.1 -0.1)\">\n       <use xlink:href=\"#DejaVuSans-50\"/>\n       <use x=\"63.623047\" xlink:href=\"#DejaVuSans-53\"/>\n      </g>\n     </g>\n    </g>\n    <g id=\"xtick_7\">\n     <g id=\"line2d_7\">\n      <g>\n       <use style=\"stroke:#000000;stroke-width:0.8;\" x=\"268.672159\" xlink:href=\"#md1eeefc3e0\" y=\"275.954489\"/>\n      </g>\n     </g>\n     <g id=\"text_7\">\n      <!-- 30 -->\n      <defs>\n       <path d=\"M 40.578125 39.3125 \nQ 47.65625 37.796875 51.625 33 \nQ 55.609375 28.21875 55.609375 21.1875 \nQ 55.609375 10.40625 48.1875 4.484375 \nQ 40.765625 -1.421875 27.09375 -1.421875 \nQ 22.515625 -1.421875 17.65625 -0.515625 \nQ 12.796875 0.390625 7.625 2.203125 \nL 7.625 11.71875 \nQ 11.71875 9.328125 16.59375 8.109375 \nQ 21.484375 6.890625 26.8125 6.890625 \nQ 36.078125 6.890625 40.9375 10.546875 \nQ 45.796875 14.203125 45.796875 21.1875 \nQ 45.796875 27.640625 41.28125 31.265625 \nQ 36.765625 34.90625 28.71875 34.90625 \nL 20.21875 34.90625 \nL 20.21875 43.015625 \nL 29.109375 43.015625 \nQ 36.375 43.015625 40.234375 45.921875 \nQ 44.09375 48.828125 44.09375 54.296875 \nQ 44.09375 59.90625 40.109375 62.90625 \nQ 36.140625 65.921875 28.71875 65.921875 \nQ 24.65625 65.921875 20.015625 65.03125 \nQ 15.375 64.15625 9.8125 62.3125 \nL 9.8125 71.09375 \nQ 15.4375 72.65625 20.34375 73.4375 \nQ 25.25 74.21875 29.59375 74.21875 \nQ 40.828125 74.21875 47.359375 69.109375 \nQ 53.90625 64.015625 53.90625 55.328125 \nQ 53.90625 49.265625 50.4375 45.09375 \nQ 46.96875 40.921875 40.578125 39.3125 \nz\n\" id=\"DejaVuSans-51\"/>\n      </defs>\n      <g transform=\"translate(262.309659 290.552926)scale(0.1 -0.1)\">\n       <use xlink:href=\"#DejaVuSans-51\"/>\n       <use x=\"63.623047\" xlink:href=\"#DejaVuSans-48\"/>\n      </g>\n     </g>\n    </g>\n   </g>\n   <g id=\"matplotlib.axis_2\">\n    <g id=\"ytick_1\">\n     <g id=\"line2d_8\">\n      <defs>\n       <path d=\"M 0 0 \nL -3.5 0 \n\" id=\"m5e5810c69b\" style=\"stroke:#000000;stroke-width:0.8;\"/>\n      </defs>\n      <g>\n       <use style=\"stroke:#000000;stroke-width:0.8;\" x=\"26.925\" xlink:href=\"#m5e5810c69b\" y=\"26.281193\"/>\n      </g>\n     </g>\n     <g id=\"text_8\">\n      <!-- 0 -->\n      <g transform=\"translate(13.5625 30.080412)scale(0.1 -0.1)\">\n       <use xlink:href=\"#DejaVuSans-48\"/>\n      </g>\n     </g>\n    </g>\n    <g id=\"ytick_2\">\n     <g id=\"line2d_9\">\n      <g>\n       <use style=\"stroke:#000000;stroke-width:0.8;\" x=\"26.925\" xlink:href=\"#m5e5810c69b\" y=\"65.911875\"/>\n      </g>\n     </g>\n     <g id=\"text_9\">\n      <!-- 5 -->\n      <g transform=\"translate(13.5625 69.711094)scale(0.1 -0.1)\">\n       <use xlink:href=\"#DejaVuSans-53\"/>\n      </g>\n     </g>\n    </g>\n    <g id=\"ytick_3\">\n     <g id=\"line2d_10\">\n      <g>\n       <use style=\"stroke:#000000;stroke-width:0.8;\" x=\"26.925\" xlink:href=\"#m5e5810c69b\" y=\"105.542557\"/>\n      </g>\n     </g>\n     <g id=\"text_10\">\n      <!-- 10 -->\n      <g transform=\"translate(7.2 109.341776)scale(0.1 -0.1)\">\n       <use xlink:href=\"#DejaVuSans-49\"/>\n       <use x=\"63.623047\" xlink:href=\"#DejaVuSans-48\"/>\n      </g>\n     </g>\n    </g>\n    <g id=\"ytick_4\">\n     <g id=\"line2d_11\">\n      <g>\n       <use style=\"stroke:#000000;stroke-width:0.8;\" x=\"26.925\" xlink:href=\"#m5e5810c69b\" y=\"145.173239\"/>\n      </g>\n     </g>\n     <g id=\"text_11\">\n      <!-- 15 -->\n      <g transform=\"translate(7.2 148.972457)scale(0.1 -0.1)\">\n       <use xlink:href=\"#DejaVuSans-49\"/>\n       <use x=\"63.623047\" xlink:href=\"#DejaVuSans-53\"/>\n      </g>\n     </g>\n    </g>\n    <g id=\"ytick_5\">\n     <g id=\"line2d_12\">\n      <g>\n       <use style=\"stroke:#000000;stroke-width:0.8;\" x=\"26.925\" xlink:href=\"#m5e5810c69b\" y=\"184.80392\"/>\n      </g>\n     </g>\n     <g id=\"text_12\">\n      <!-- 20 -->\n      <g transform=\"translate(7.2 188.603139)scale(0.1 -0.1)\">\n       <use xlink:href=\"#DejaVuSans-50\"/>\n       <use x=\"63.623047\" xlink:href=\"#DejaVuSans-48\"/>\n      </g>\n     </g>\n    </g>\n    <g id=\"ytick_6\">\n     <g id=\"line2d_13\">\n      <g>\n       <use style=\"stroke:#000000;stroke-width:0.8;\" x=\"26.925\" xlink:href=\"#m5e5810c69b\" y=\"224.434602\"/>\n      </g>\n     </g>\n     <g id=\"text_13\">\n      <!-- 25 -->\n      <g transform=\"translate(7.2 228.233821)scale(0.1 -0.1)\">\n       <use xlink:href=\"#DejaVuSans-50\"/>\n       <use x=\"63.623047\" xlink:href=\"#DejaVuSans-53\"/>\n      </g>\n     </g>\n    </g>\n    <g id=\"ytick_7\">\n     <g id=\"line2d_14\">\n      <g>\n       <use style=\"stroke:#000000;stroke-width:0.8;\" x=\"26.925\" xlink:href=\"#m5e5810c69b\" y=\"264.065284\"/>\n      </g>\n     </g>\n     <g id=\"text_14\">\n      <!-- 30 -->\n      <g transform=\"translate(7.2 267.864503)scale(0.1 -0.1)\">\n       <use xlink:href=\"#DejaVuSans-51\"/>\n       <use x=\"63.623047\" xlink:href=\"#DejaVuSans-48\"/>\n      </g>\n     </g>\n    </g>\n   </g>\n   <g id=\"patch_3\">\n    <path d=\"M 26.925 275.954489 \nL 26.925 22.318125 \n\" style=\"fill:none;stroke:#000000;stroke-linecap:square;stroke-linejoin:miter;stroke-width:0.8;\"/>\n   </g>\n   <g id=\"patch_4\">\n    <path d=\"M 280.561364 275.954489 \nL 280.561364 22.318125 \n\" style=\"fill:none;stroke:#000000;stroke-linecap:square;stroke-linejoin:miter;stroke-width:0.8;\"/>\n   </g>\n   <g id=\"patch_5\">\n    <path d=\"M 26.925 275.954489 \nL 280.561364 275.954489 \n\" style=\"fill:none;stroke:#000000;stroke-linecap:square;stroke-linejoin:miter;stroke-width:0.8;\"/>\n   </g>\n   <g id=\"patch_6\">\n    <path d=\"M 26.925 22.318125 \nL 280.561364 22.318125 \n\" style=\"fill:none;stroke:#000000;stroke-linecap:square;stroke-linejoin:miter;stroke-width:0.8;\"/>\n   </g>\n   <g id=\"text_15\">\n    <!-- output -->\n    <defs>\n     <path d=\"M 30.609375 48.390625 \nQ 23.390625 48.390625 19.1875 42.75 \nQ 14.984375 37.109375 14.984375 27.296875 \nQ 14.984375 17.484375 19.15625 11.84375 \nQ 23.34375 6.203125 30.609375 6.203125 \nQ 37.796875 6.203125 41.984375 11.859375 \nQ 46.1875 17.53125 46.1875 27.296875 \nQ 46.1875 37.015625 41.984375 42.703125 \nQ 37.796875 48.390625 30.609375 48.390625 \nz\nM 30.609375 56 \nQ 42.328125 56 49.015625 48.375 \nQ 55.71875 40.765625 55.71875 27.296875 \nQ 55.71875 13.875 49.015625 6.21875 \nQ 42.328125 -1.421875 30.609375 -1.421875 \nQ 18.84375 -1.421875 12.171875 6.21875 \nQ 5.515625 13.875 5.515625 27.296875 \nQ 5.515625 40.765625 12.171875 48.375 \nQ 18.84375 56 30.609375 56 \nz\n\" id=\"DejaVuSans-111\"/>\n     <path d=\"M 8.5 21.578125 \nL 8.5 54.6875 \nL 17.484375 54.6875 \nL 17.484375 21.921875 \nQ 17.484375 14.15625 20.5 10.265625 \nQ 23.53125 6.390625 29.59375 6.390625 \nQ 36.859375 6.390625 41.078125 11.03125 \nQ 45.3125 15.671875 45.3125 23.6875 \nL 45.3125 54.6875 \nL 54.296875 54.6875 \nL 54.296875 0 \nL 45.3125 0 \nL 45.3125 8.40625 \nQ 42.046875 3.421875 37.71875 1 \nQ 33.40625 -1.421875 27.6875 -1.421875 \nQ 18.265625 -1.421875 13.375 4.4375 \nQ 8.5 10.296875 8.5 21.578125 \nz\nM 31.109375 56 \nz\n\" id=\"DejaVuSans-117\"/>\n     <path d=\"M 18.3125 70.21875 \nL 18.3125 54.6875 \nL 36.8125 54.6875 \nL 36.8125 47.703125 \nL 18.3125 47.703125 \nL 18.3125 18.015625 \nQ 18.3125 11.328125 20.140625 9.421875 \nQ 21.96875 7.515625 27.59375 7.515625 \nL 36.8125 7.515625 \nL 36.8125 0 \nL 27.59375 0 \nQ 17.1875 0 13.234375 3.875 \nQ 9.28125 7.765625 9.28125 18.015625 \nL 9.28125 47.703125 \nL 2.6875 47.703125 \nL 2.6875 54.6875 \nL 9.28125 54.6875 \nL 9.28125 70.21875 \nz\n\" id=\"DejaVuSans-116\"/>\n     <path d=\"M 18.109375 8.203125 \nL 18.109375 -20.796875 \nL 9.078125 -20.796875 \nL 9.078125 54.6875 \nL 18.109375 54.6875 \nL 18.109375 46.390625 \nQ 20.953125 51.265625 25.265625 53.625 \nQ 29.59375 56 35.59375 56 \nQ 45.5625 56 51.78125 48.09375 \nQ 58.015625 40.1875 58.015625 27.296875 \nQ 58.015625 14.40625 51.78125 6.484375 \nQ 45.5625 -1.421875 35.59375 -1.421875 \nQ 29.59375 -1.421875 25.265625 0.953125 \nQ 20.953125 3.328125 18.109375 8.203125 \nz\nM 48.6875 27.296875 \nQ 48.6875 37.203125 44.609375 42.84375 \nQ 40.53125 48.484375 33.40625 48.484375 \nQ 26.265625 48.484375 22.1875 42.84375 \nQ 18.109375 37.203125 18.109375 27.296875 \nQ 18.109375 17.390625 22.1875 11.75 \nQ 26.265625 6.109375 33.40625 6.109375 \nQ 40.53125 6.109375 44.609375 11.75 \nQ 48.6875 17.390625 48.6875 27.296875 \nz\n\" id=\"DejaVuSans-112\"/>\n    </defs>\n    <g transform=\"translate(133.953494 16.318125)scale(0.12 -0.12)\">\n     <use xlink:href=\"#DejaVuSans-111\"/>\n     <use x=\"61.181641\" xlink:href=\"#DejaVuSans-117\"/>\n     <use x=\"124.560547\" xlink:href=\"#DejaVuSans-116\"/>\n     <use x=\"163.769531\" xlink:href=\"#DejaVuSans-112\"/>\n     <use x=\"227.246094\" xlink:href=\"#DejaVuSans-117\"/>\n     <use x=\"290.625\" xlink:href=\"#DejaVuSans-116\"/>\n    </g>\n   </g>\n  </g>\n  <g id=\"axes_2\">\n   <g id=\"patch_7\">\n    <path d=\"M 331.288636 275.954489 \nL 584.925 275.954489 \nL 584.925 22.318125 \nL 331.288636 22.318125 \nz\n\" style=\"fill:#ffffff;\"/>\n   </g>\n   <g clip-path=\"url(#pb999fdc0c9)\">\n    <image height=\"254\" id=\"imagec7d83c58a5\" transform=\"scale(1 -1)translate(0 -254)\" width=\"254\" x=\"331.288636\" xlink:href=\"data:image/png;base64,\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\" y=\"-21.954489\"/>\n   </g>\n   <g id=\"matplotlib.axis_3\">\n    <g id=\"xtick_8\">\n     <g id=\"line2d_15\">\n      <g>\n       <use style=\"stroke:#000000;stroke-width:0.8;\" x=\"335.251705\" xlink:href=\"#md1eeefc3e0\" y=\"275.954489\"/>\n      </g>\n     </g>\n     <g id=\"text_16\">\n      <!-- 0 -->\n      <g transform=\"translate(332.070455 290.552926)scale(0.1 -0.1)\">\n       <use xlink:href=\"#DejaVuSans-48\"/>\n      </g>\n     </g>\n    </g>\n    <g id=\"xtick_9\">\n     <g id=\"line2d_16\">\n      <g>\n       <use style=\"stroke:#000000;stroke-width:0.8;\" x=\"374.882386\" xlink:href=\"#md1eeefc3e0\" y=\"275.954489\"/>\n      </g>\n     </g>\n     <g id=\"text_17\">\n      <!-- 5 -->\n      <g transform=\"translate(371.701136 290.552926)scale(0.1 -0.1)\">\n       <use xlink:href=\"#DejaVuSans-53\"/>\n      </g>\n     </g>\n    </g>\n    <g id=\"xtick_10\">\n     <g id=\"line2d_17\">\n      <g>\n       <use style=\"stroke:#000000;stroke-width:0.8;\" x=\"414.513068\" xlink:href=\"#md1eeefc3e0\" y=\"275.954489\"/>\n      </g>\n     </g>\n     <g id=\"text_18\">\n      <!-- 10 -->\n      <g transform=\"translate(408.150568 290.552926)scale(0.1 -0.1)\">\n       <use xlink:href=\"#DejaVuSans-49\"/>\n       <use x=\"63.623047\" xlink:href=\"#DejaVuSans-48\"/>\n      </g>\n     </g>\n    </g>\n    <g id=\"xtick_11\">\n     <g id=\"line2d_18\">\n      <g>\n       <use style=\"stroke:#000000;stroke-width:0.8;\" x=\"454.14375\" xlink:href=\"#md1eeefc3e0\" y=\"275.954489\"/>\n      </g>\n     </g>\n     <g id=\"text_19\">\n      <!-- 15 -->\n      <g transform=\"translate(447.78125 290.552926)scale(0.1 -0.1)\">\n       <use xlink:href=\"#DejaVuSans-49\"/>\n       <use x=\"63.623047\" xlink:href=\"#DejaVuSans-53\"/>\n      </g>\n     </g>\n    </g>\n    <g id=\"xtick_12\">\n     <g id=\"line2d_19\">\n      <g>\n       <use style=\"stroke:#000000;stroke-width:0.8;\" x=\"493.774432\" xlink:href=\"#md1eeefc3e0\" y=\"275.954489\"/>\n      </g>\n     </g>\n     <g id=\"text_20\">\n      <!-- 20 -->\n      <g transform=\"translate(487.411932 290.552926)scale(0.1 -0.1)\">\n       <use xlink:href=\"#DejaVuSans-50\"/>\n       <use x=\"63.623047\" xlink:href=\"#DejaVuSans-48\"/>\n      </g>\n     </g>\n    </g>\n    <g id=\"xtick_13\">\n     <g id=\"line2d_20\">\n      <g>\n       <use style=\"stroke:#000000;stroke-width:0.8;\" x=\"533.405114\" xlink:href=\"#md1eeefc3e0\" y=\"275.954489\"/>\n      </g>\n     </g>\n     <g id=\"text_21\">\n      <!-- 25 -->\n      <g transform=\"translate(527.042614 290.552926)scale(0.1 -0.1)\">\n       <use xlink:href=\"#DejaVuSans-50\"/>\n       <use x=\"63.623047\" xlink:href=\"#DejaVuSans-53\"/>\n      </g>\n     </g>\n    </g>\n    <g id=\"xtick_14\">\n     <g id=\"line2d_21\">\n      <g>\n       <use style=\"stroke:#000000;stroke-width:0.8;\" x=\"573.035795\" xlink:href=\"#md1eeefc3e0\" y=\"275.954489\"/>\n      </g>\n     </g>\n     <g id=\"text_22\">\n      <!-- 30 -->\n      <g transform=\"translate(566.673295 290.552926)scale(0.1 -0.1)\">\n       <use xlink:href=\"#DejaVuSans-51\"/>\n       <use x=\"63.623047\" xlink:href=\"#DejaVuSans-48\"/>\n      </g>\n     </g>\n    </g>\n   </g>\n   <g id=\"matplotlib.axis_4\">\n    <g id=\"ytick_8\">\n     <g id=\"line2d_22\">\n      <g>\n       <use style=\"stroke:#000000;stroke-width:0.8;\" x=\"331.288636\" xlink:href=\"#m5e5810c69b\" y=\"26.281193\"/>\n      </g>\n     </g>\n     <g id=\"text_23\">\n      <!-- 0 -->\n      <g transform=\"translate(317.926136 30.080412)scale(0.1 -0.1)\">\n       <use xlink:href=\"#DejaVuSans-48\"/>\n      </g>\n     </g>\n    </g>\n    <g id=\"ytick_9\">\n     <g id=\"line2d_23\">\n      <g>\n       <use style=\"stroke:#000000;stroke-width:0.8;\" x=\"331.288636\" xlink:href=\"#m5e5810c69b\" y=\"65.911875\"/>\n      </g>\n     </g>\n     <g id=\"text_24\">\n      <!-- 5 -->\n      <g transform=\"translate(317.926136 69.711094)scale(0.1 -0.1)\">\n       <use xlink:href=\"#DejaVuSans-53\"/>\n      </g>\n     </g>\n    </g>\n    <g id=\"ytick_10\">\n     <g id=\"line2d_24\">\n      <g>\n       <use style=\"stroke:#000000;stroke-width:0.8;\" x=\"331.288636\" xlink:href=\"#m5e5810c69b\" y=\"105.542557\"/>\n      </g>\n     </g>\n     <g id=\"text_25\">\n      <!-- 10 -->\n      <g transform=\"translate(311.563636 109.341776)scale(0.1 -0.1)\">\n       <use xlink:href=\"#DejaVuSans-49\"/>\n       <use x=\"63.623047\" xlink:href=\"#DejaVuSans-48\"/>\n      </g>\n     </g>\n    </g>\n    <g id=\"ytick_11\">\n     <g id=\"line2d_25\">\n      <g>\n       <use style=\"stroke:#000000;stroke-width:0.8;\" x=\"331.288636\" xlink:href=\"#m5e5810c69b\" y=\"145.173239\"/>\n      </g>\n     </g>\n     <g id=\"text_26\">\n      <!-- 15 -->\n      <g transform=\"translate(311.563636 148.972457)scale(0.1 -0.1)\">\n       <use xlink:href=\"#DejaVuSans-49\"/>\n       <use x=\"63.623047\" xlink:href=\"#DejaVuSans-53\"/>\n      </g>\n     </g>\n    </g>\n    <g id=\"ytick_12\">\n     <g id=\"line2d_26\">\n      <g>\n       <use style=\"stroke:#000000;stroke-width:0.8;\" x=\"331.288636\" xlink:href=\"#m5e5810c69b\" y=\"184.80392\"/>\n      </g>\n     </g>\n     <g id=\"text_27\">\n      <!-- 20 -->\n      <g transform=\"translate(311.563636 188.603139)scale(0.1 -0.1)\">\n       <use xlink:href=\"#DejaVuSans-50\"/>\n       <use x=\"63.623047\" xlink:href=\"#DejaVuSans-48\"/>\n      </g>\n     </g>\n    </g>\n    <g id=\"ytick_13\">\n     <g id=\"line2d_27\">\n      <g>\n       <use style=\"stroke:#000000;stroke-width:0.8;\" x=\"331.288636\" xlink:href=\"#m5e5810c69b\" y=\"224.434602\"/>\n      </g>\n     </g>\n     <g id=\"text_28\">\n      <!-- 25 -->\n      <g transform=\"translate(311.563636 228.233821)scale(0.1 -0.1)\">\n       <use xlink:href=\"#DejaVuSans-50\"/>\n       <use x=\"63.623047\" xlink:href=\"#DejaVuSans-53\"/>\n      </g>\n     </g>\n    </g>\n    <g id=\"ytick_14\">\n     <g id=\"line2d_28\">\n      <g>\n       <use style=\"stroke:#000000;stroke-width:0.8;\" x=\"331.288636\" xlink:href=\"#m5e5810c69b\" y=\"264.065284\"/>\n      </g>\n     </g>\n     <g id=\"text_29\">\n      <!-- 30 -->\n      <g transform=\"translate(311.563636 267.864503)scale(0.1 -0.1)\">\n       <use xlink:href=\"#DejaVuSans-51\"/>\n       <use x=\"63.623047\" xlink:href=\"#DejaVuSans-48\"/>\n      </g>\n     </g>\n    </g>\n   </g>\n   <g id=\"patch_8\">\n    <path d=\"M 331.288636 275.954489 \nL 331.288636 22.318125 \n\" style=\"fill:none;stroke:#000000;stroke-linecap:square;stroke-linejoin:miter;stroke-width:0.8;\"/>\n   </g>\n   <g id=\"patch_9\">\n    <path d=\"M 584.925 275.954489 \nL 584.925 22.318125 \n\" style=\"fill:none;stroke:#000000;stroke-linecap:square;stroke-linejoin:miter;stroke-width:0.8;\"/>\n   </g>\n   <g id=\"patch_10\">\n    <path d=\"M 331.288636 275.954489 \nL 584.925 275.954489 \n\" style=\"fill:none;stroke:#000000;stroke-linecap:square;stroke-linejoin:miter;stroke-width:0.8;\"/>\n   </g>\n   <g id=\"patch_11\">\n    <path d=\"M 331.288636 22.318125 \nL 584.925 22.318125 \n\" style=\"fill:none;stroke:#000000;stroke-linecap:square;stroke-linejoin:miter;stroke-width:0.8;\"/>\n   </g>\n   <g id=\"text_30\">\n    <!-- input -->\n    <defs>\n     <path d=\"M 9.421875 54.6875 \nL 18.40625 54.6875 \nL 18.40625 0 \nL 9.421875 0 \nz\nM 9.421875 75.984375 \nL 18.40625 75.984375 \nL 18.40625 64.59375 \nL 9.421875 64.59375 \nz\n\" id=\"DejaVuSans-105\"/>\n     <path d=\"M 54.890625 33.015625 \nL 54.890625 0 \nL 45.90625 0 \nL 45.90625 32.71875 \nQ 45.90625 40.484375 42.875 44.328125 \nQ 39.84375 48.1875 33.796875 48.1875 \nQ 26.515625 48.1875 22.3125 43.546875 \nQ 18.109375 38.921875 18.109375 30.90625 \nL 18.109375 0 \nL 9.078125 0 \nL 9.078125 54.6875 \nL 18.109375 54.6875 \nL 18.109375 46.1875 \nQ 21.34375 51.125 25.703125 53.5625 \nQ 30.078125 56 35.796875 56 \nQ 45.21875 56 50.046875 50.171875 \nQ 54.890625 44.34375 54.890625 33.015625 \nz\n\" id=\"DejaVuSans-110\"/>\n    </defs>\n    <g transform=\"translate(442.673693 16.318125)scale(0.12 -0.12)\">\n     <use xlink:href=\"#DejaVuSans-105\"/>\n     <use x=\"27.783203\" xlink:href=\"#DejaVuSans-110\"/>\n     <use x=\"91.162109\" xlink:href=\"#DejaVuSans-112\"/>\n     <use x=\"154.638672\" xlink:href=\"#DejaVuSans-117\"/>\n     <use x=\"218.017578\" xlink:href=\"#DejaVuSans-116\"/>\n    </g>\n   </g>\n  </g>\n </g>\n <defs>\n  <clipPath id=\"p7091f03609\">\n   <rect height=\"253.636364\" width=\"253.636364\" x=\"26.925\" y=\"22.318125\"/>\n  </clipPath>\n  <clipPath id=\"pb999fdc0c9\">\n   <rect height=\"253.636364\" width=\"253.636364\" x=\"331.288636\" y=\"22.318125\"/>\n  </clipPath>\n </defs>\n</svg>\n",
      "image/png": "[encoded data removed]"
     },
     "metadata": {
      "needs_background": "light"
     }
    }
   ],
   "source": [
    "output = conv(img.unsqueeze(0))\n",
    "plt.figure(figsize=(10, 4.8))  # bookskip\n",
    "ax1 = plt.subplot(1, 2, 1)   # bookskip\n",
    "plt.title('output')   # bookskip\n",
    "plt.imshow(output[0, 0].detach(), cmap='gray')\n",
    "plt.subplot(1, 2, 2, sharex=ax1, sharey=ax1)  # bookskip\n",
    "plt.imshow(img.mean(0), cmap='gray')  # bookskip\n",
    "plt.title('input')  # bookskip\n",
    "plt.savefig('Ch8_F5_PyTorch.png')  # bookskip\n",
    "plt.show()"
   ]
  },
  {
   "cell_type": "code",
   "execution_count": 72,
   "metadata": {},
   "outputs": [
    {
     "output_type": "execute_result",
     "data": {
      "text/plain": "(torch.Size([1, 3, 32, 32]), torch.Size([1, 3, 16, 16]))"
     },
     "metadata": {},
     "execution_count": 72
    }
   ],
   "source": [
    "pool = nn.MaxPool2d(2)\n",
    "output = pool(img.unsqueeze(0))\n",
    "\n",
    "img.unsqueeze(0).shape, output.shape"
   ]
  },
  {
   "cell_type": "code",
   "execution_count": 73,
   "metadata": {},
   "outputs": [],
   "source": [
    "model = nn.Sequential(\n",
    "            nn.Conv2d(3, 16, kernel_size=3, padding=1),\n",
    "            nn.Tanh(),\n",
    "            nn.MaxPool2d(2),\n",
    "            nn.Conv2d(16, 8, kernel_size=3, padding=1),\n",
    "            nn.Tanh(),\n",
    "            nn.MaxPool2d(2),\n",
    "            # ...\n",
    "            )"
   ]
  },
  {
   "cell_type": "code",
   "execution_count": 74,
   "metadata": {},
   "outputs": [],
   "source": [
    "model = nn.Sequential(\n",
    "            nn.Conv2d(3, 16, kernel_size=3, padding=1),\n",
    "            nn.Tanh(),\n",
    "            nn.MaxPool2d(2),\n",
    "            nn.Conv2d(16, 8, kernel_size=3, padding=1),\n",
    "            nn.Tanh(),\n",
    "            nn.MaxPool2d(2),\n",
    "            # ... <1>\n",
    "            nn.Linear(8 * 8 * 8, 32),\n",
    "            nn.Tanh(),\n",
    "            nn.Linear(32, 2))"
   ]
  },
  {
   "cell_type": "code",
   "execution_count": 75,
   "metadata": {},
   "outputs": [
    {
     "output_type": "execute_result",
     "data": {
      "text/plain": "(18090, [432, 16, 1152, 8, 16384, 32, 64, 2])"
     },
     "metadata": {},
     "execution_count": 75
    }
   ],
   "source": [
    "numel_list = [p.numel() for p in model.parameters()]\n",
    "sum(numel_list), numel_list"
   ]
  },
  {
   "cell_type": "code",
   "execution_count": 76,
   "metadata": {
    "scrolled": true,
    "tags": [
     "raises-exception"
    ]
   },
   "outputs": [
    {
     "output_type": "error",
     "ename": "RuntimeError",
     "evalue": "size mismatch, m1: [64 x 8], m2: [512 x 32] at /opt/conda/conda-bld/pytorch_1587428094786/work/aten/src/TH/generic/THTensorMath.cpp:41",
     "traceback": [
      "\u001b[0;31m---------------------------------------------------------------------------\u001b[0m",
      "\u001b[0;31mRuntimeError\u001b[0m                              Traceback (most recent call last)",
      "\u001b[0;32m<ipython-input-76-9c784fd7714c>\u001b[0m in \u001b[0;36m<module>\u001b[0;34m\u001b[0m\n\u001b[0;32m----> 1\u001b[0;31m \u001b[0mmodel\u001b[0m\u001b[0;34m(\u001b[0m\u001b[0mimg\u001b[0m\u001b[0;34m.\u001b[0m\u001b[0munsqueeze\u001b[0m\u001b[0;34m(\u001b[0m\u001b[0;36m0\u001b[0m\u001b[0;34m)\u001b[0m\u001b[0;34m)\u001b[0m\u001b[0;34m\u001b[0m\u001b[0;34m\u001b[0m\u001b[0m\n\u001b[0m",
      "\u001b[0;32m~/anaconda3/envs/pytorch_env/lib/python3.8/site-packages/torch/nn/modules/module.py\u001b[0m in \u001b[0;36m__call__\u001b[0;34m(self, *input, **kwargs)\u001b[0m\n\u001b[1;32m    548\u001b[0m             \u001b[0mresult\u001b[0m \u001b[0;34m=\u001b[0m \u001b[0mself\u001b[0m\u001b[0;34m.\u001b[0m\u001b[0m_slow_forward\u001b[0m\u001b[0;34m(\u001b[0m\u001b[0;34m*\u001b[0m\u001b[0minput\u001b[0m\u001b[0;34m,\u001b[0m \u001b[0;34m**\u001b[0m\u001b[0mkwargs\u001b[0m\u001b[0;34m)\u001b[0m\u001b[0;34m\u001b[0m\u001b[0;34m\u001b[0m\u001b[0m\n\u001b[1;32m    549\u001b[0m         \u001b[0;32melse\u001b[0m\u001b[0;34m:\u001b[0m\u001b[0;34m\u001b[0m\u001b[0;34m\u001b[0m\u001b[0m\n\u001b[0;32m--> 550\u001b[0;31m             \u001b[0mresult\u001b[0m \u001b[0;34m=\u001b[0m \u001b[0mself\u001b[0m\u001b[0;34m.\u001b[0m\u001b[0mforward\u001b[0m\u001b[0;34m(\u001b[0m\u001b[0;34m*\u001b[0m\u001b[0minput\u001b[0m\u001b[0;34m,\u001b[0m \u001b[0;34m**\u001b[0m\u001b[0mkwargs\u001b[0m\u001b[0;34m)\u001b[0m\u001b[0;34m\u001b[0m\u001b[0;34m\u001b[0m\u001b[0m\n\u001b[0m\u001b[1;32m    551\u001b[0m         \u001b[0;32mfor\u001b[0m \u001b[0mhook\u001b[0m \u001b[0;32min\u001b[0m \u001b[0mself\u001b[0m\u001b[0;34m.\u001b[0m\u001b[0m_forward_hooks\u001b[0m\u001b[0;34m.\u001b[0m\u001b[0mvalues\u001b[0m\u001b[0;34m(\u001b[0m\u001b[0;34m)\u001b[0m\u001b[0;34m:\u001b[0m\u001b[0;34m\u001b[0m\u001b[0;34m\u001b[0m\u001b[0m\n\u001b[1;32m    552\u001b[0m             \u001b[0mhook_result\u001b[0m \u001b[0;34m=\u001b[0m \u001b[0mhook\u001b[0m\u001b[0;34m(\u001b[0m\u001b[0mself\u001b[0m\u001b[0;34m,\u001b[0m \u001b[0minput\u001b[0m\u001b[0;34m,\u001b[0m \u001b[0mresult\u001b[0m\u001b[0;34m)\u001b[0m\u001b[0;34m\u001b[0m\u001b[0;34m\u001b[0m\u001b[0m\n",
      "\u001b[0;32m~/anaconda3/envs/pytorch_env/lib/python3.8/site-packages/torch/nn/modules/container.py\u001b[0m in \u001b[0;36mforward\u001b[0;34m(self, input)\u001b[0m\n\u001b[1;32m     98\u001b[0m     \u001b[0;32mdef\u001b[0m \u001b[0mforward\u001b[0m\u001b[0;34m(\u001b[0m\u001b[0mself\u001b[0m\u001b[0;34m,\u001b[0m \u001b[0minput\u001b[0m\u001b[0;34m)\u001b[0m\u001b[0;34m:\u001b[0m\u001b[0;34m\u001b[0m\u001b[0;34m\u001b[0m\u001b[0m\n\u001b[1;32m     99\u001b[0m         \u001b[0;32mfor\u001b[0m \u001b[0mmodule\u001b[0m \u001b[0;32min\u001b[0m \u001b[0mself\u001b[0m\u001b[0;34m:\u001b[0m\u001b[0;34m\u001b[0m\u001b[0;34m\u001b[0m\u001b[0m\n\u001b[0;32m--> 100\u001b[0;31m             \u001b[0minput\u001b[0m \u001b[0;34m=\u001b[0m \u001b[0mmodule\u001b[0m\u001b[0;34m(\u001b[0m\u001b[0minput\u001b[0m\u001b[0;34m)\u001b[0m\u001b[0;34m\u001b[0m\u001b[0;34m\u001b[0m\u001b[0m\n\u001b[0m\u001b[1;32m    101\u001b[0m         \u001b[0;32mreturn\u001b[0m \u001b[0minput\u001b[0m\u001b[0;34m\u001b[0m\u001b[0;34m\u001b[0m\u001b[0m\n\u001b[1;32m    102\u001b[0m \u001b[0;34m\u001b[0m\u001b[0m\n",
      "\u001b[0;32m~/anaconda3/envs/pytorch_env/lib/python3.8/site-packages/torch/nn/modules/module.py\u001b[0m in \u001b[0;36m__call__\u001b[0;34m(self, *input, **kwargs)\u001b[0m\n\u001b[1;32m    548\u001b[0m             \u001b[0mresult\u001b[0m \u001b[0;34m=\u001b[0m \u001b[0mself\u001b[0m\u001b[0;34m.\u001b[0m\u001b[0m_slow_forward\u001b[0m\u001b[0;34m(\u001b[0m\u001b[0;34m*\u001b[0m\u001b[0minput\u001b[0m\u001b[0;34m,\u001b[0m \u001b[0;34m**\u001b[0m\u001b[0mkwargs\u001b[0m\u001b[0;34m)\u001b[0m\u001b[0;34m\u001b[0m\u001b[0;34m\u001b[0m\u001b[0m\n\u001b[1;32m    549\u001b[0m         \u001b[0;32melse\u001b[0m\u001b[0;34m:\u001b[0m\u001b[0;34m\u001b[0m\u001b[0;34m\u001b[0m\u001b[0m\n\u001b[0;32m--> 550\u001b[0;31m             \u001b[0mresult\u001b[0m \u001b[0;34m=\u001b[0m \u001b[0mself\u001b[0m\u001b[0;34m.\u001b[0m\u001b[0mforward\u001b[0m\u001b[0;34m(\u001b[0m\u001b[0;34m*\u001b[0m\u001b[0minput\u001b[0m\u001b[0;34m,\u001b[0m \u001b[0;34m**\u001b[0m\u001b[0mkwargs\u001b[0m\u001b[0;34m)\u001b[0m\u001b[0;34m\u001b[0m\u001b[0;34m\u001b[0m\u001b[0m\n\u001b[0m\u001b[1;32m    551\u001b[0m         \u001b[0;32mfor\u001b[0m \u001b[0mhook\u001b[0m \u001b[0;32min\u001b[0m \u001b[0mself\u001b[0m\u001b[0;34m.\u001b[0m\u001b[0m_forward_hooks\u001b[0m\u001b[0;34m.\u001b[0m\u001b[0mvalues\u001b[0m\u001b[0;34m(\u001b[0m\u001b[0;34m)\u001b[0m\u001b[0;34m:\u001b[0m\u001b[0;34m\u001b[0m\u001b[0;34m\u001b[0m\u001b[0m\n\u001b[1;32m    552\u001b[0m             \u001b[0mhook_result\u001b[0m \u001b[0;34m=\u001b[0m \u001b[0mhook\u001b[0m\u001b[0;34m(\u001b[0m\u001b[0mself\u001b[0m\u001b[0;34m,\u001b[0m \u001b[0minput\u001b[0m\u001b[0;34m,\u001b[0m \u001b[0mresult\u001b[0m\u001b[0;34m)\u001b[0m\u001b[0;34m\u001b[0m\u001b[0;34m\u001b[0m\u001b[0m\n",
      "\u001b[0;32m~/anaconda3/envs/pytorch_env/lib/python3.8/site-packages/torch/nn/modules/linear.py\u001b[0m in \u001b[0;36mforward\u001b[0;34m(self, input)\u001b[0m\n\u001b[1;32m     85\u001b[0m \u001b[0;34m\u001b[0m\u001b[0m\n\u001b[1;32m     86\u001b[0m     \u001b[0;32mdef\u001b[0m \u001b[0mforward\u001b[0m\u001b[0;34m(\u001b[0m\u001b[0mself\u001b[0m\u001b[0;34m,\u001b[0m \u001b[0minput\u001b[0m\u001b[0;34m)\u001b[0m\u001b[0;34m:\u001b[0m\u001b[0;34m\u001b[0m\u001b[0;34m\u001b[0m\u001b[0m\n\u001b[0;32m---> 87\u001b[0;31m         \u001b[0;32mreturn\u001b[0m \u001b[0mF\u001b[0m\u001b[0;34m.\u001b[0m\u001b[0mlinear\u001b[0m\u001b[0;34m(\u001b[0m\u001b[0minput\u001b[0m\u001b[0;34m,\u001b[0m \u001b[0mself\u001b[0m\u001b[0;34m.\u001b[0m\u001b[0mweight\u001b[0m\u001b[0;34m,\u001b[0m \u001b[0mself\u001b[0m\u001b[0;34m.\u001b[0m\u001b[0mbias\u001b[0m\u001b[0;34m)\u001b[0m\u001b[0;34m\u001b[0m\u001b[0;34m\u001b[0m\u001b[0m\n\u001b[0m\u001b[1;32m     88\u001b[0m \u001b[0;34m\u001b[0m\u001b[0m\n\u001b[1;32m     89\u001b[0m     \u001b[0;32mdef\u001b[0m \u001b[0mextra_repr\u001b[0m\u001b[0;34m(\u001b[0m\u001b[0mself\u001b[0m\u001b[0;34m)\u001b[0m\u001b[0;34m:\u001b[0m\u001b[0;34m\u001b[0m\u001b[0;34m\u001b[0m\u001b[0m\n",
      "\u001b[0;32m~/anaconda3/envs/pytorch_env/lib/python3.8/site-packages/torch/nn/functional.py\u001b[0m in \u001b[0;36mlinear\u001b[0;34m(input, weight, bias)\u001b[0m\n\u001b[1;32m   1610\u001b[0m         \u001b[0mret\u001b[0m \u001b[0;34m=\u001b[0m \u001b[0mtorch\u001b[0m\u001b[0;34m.\u001b[0m\u001b[0maddmm\u001b[0m\u001b[0;34m(\u001b[0m\u001b[0mbias\u001b[0m\u001b[0;34m,\u001b[0m \u001b[0minput\u001b[0m\u001b[0;34m,\u001b[0m \u001b[0mweight\u001b[0m\u001b[0;34m.\u001b[0m\u001b[0mt\u001b[0m\u001b[0;34m(\u001b[0m\u001b[0;34m)\u001b[0m\u001b[0;34m)\u001b[0m\u001b[0;34m\u001b[0m\u001b[0;34m\u001b[0m\u001b[0m\n\u001b[1;32m   1611\u001b[0m     \u001b[0;32melse\u001b[0m\u001b[0;34m:\u001b[0m\u001b[0;34m\u001b[0m\u001b[0;34m\u001b[0m\u001b[0m\n\u001b[0;32m-> 1612\u001b[0;31m         \u001b[0moutput\u001b[0m \u001b[0;34m=\u001b[0m \u001b[0minput\u001b[0m\u001b[0;34m.\u001b[0m\u001b[0mmatmul\u001b[0m\u001b[0;34m(\u001b[0m\u001b[0mweight\u001b[0m\u001b[0;34m.\u001b[0m\u001b[0mt\u001b[0m\u001b[0;34m(\u001b[0m\u001b[0;34m)\u001b[0m\u001b[0;34m)\u001b[0m\u001b[0;34m\u001b[0m\u001b[0;34m\u001b[0m\u001b[0m\n\u001b[0m\u001b[1;32m   1613\u001b[0m         \u001b[0;32mif\u001b[0m \u001b[0mbias\u001b[0m \u001b[0;32mis\u001b[0m \u001b[0;32mnot\u001b[0m \u001b[0;32mNone\u001b[0m\u001b[0;34m:\u001b[0m\u001b[0;34m\u001b[0m\u001b[0;34m\u001b[0m\u001b[0m\n\u001b[1;32m   1614\u001b[0m             \u001b[0moutput\u001b[0m \u001b[0;34m+=\u001b[0m \u001b[0mbias\u001b[0m\u001b[0;34m\u001b[0m\u001b[0;34m\u001b[0m\u001b[0m\n",
      "\u001b[0;31mRuntimeError\u001b[0m: size mismatch, m1: [64 x 8], m2: [512 x 32] at /opt/conda/conda-bld/pytorch_1587428094786/work/aten/src/TH/generic/THTensorMath.cpp:41"
     ]
    }
   ],
   "source": [
    "model(img.unsqueeze(0))"
   ]
  },
  {
   "cell_type": "code",
   "execution_count": 77,
   "metadata": {},
   "outputs": [],
   "source": [
    "class Net(nn.Module):\n",
    "    def __init__(self):\n",
    "        super().__init__()\n",
    "        self.conv1 = nn.Conv2d(3, 16, kernel_size=3, padding=1)\n",
    "        self.act1 = nn.Tanh()\n",
    "        self.pool1 = nn.MaxPool2d(2)\n",
    "        self.conv2 = nn.Conv2d(16, 8, kernel_size=3, padding=1)\n",
    "        self.act2 = nn.Tanh()\n",
    "        self.pool2 = nn.MaxPool2d(2)\n",
    "        self.fc1 = nn.Linear(8 * 8 * 8, 32)\n",
    "        self.act3 = nn.Tanh()\n",
    "        self.fc2 = nn.Linear(32, 2)\n",
    "\n",
    "    def forward(self, x):\n",
    "        out = self.pool1(self.act1(self.conv1(x)))\n",
    "        out = self.pool2(self.act2(self.conv2(out)))\n",
    "        out = out.view(-1, 8 * 8 * 8) # <1>\n",
    "        out = self.act3(self.fc1(out))\n",
    "        out = self.fc2(out)\n",
    "        return out"
   ]
  },
  {
   "cell_type": "code",
   "execution_count": 78,
   "metadata": {},
   "outputs": [
    {
     "output_type": "execute_result",
     "data": {
      "text/plain": "(18090, [432, 16, 1152, 8, 16384, 32, 64, 2])"
     },
     "metadata": {},
     "execution_count": 78
    }
   ],
   "source": [
    "model = Net()\n",
    "\n",
    "numel_list = [p.numel() for p in model.parameters()]\n",
    "sum(numel_list), numel_list"
   ]
  },
  {
   "cell_type": "code",
   "execution_count": 79,
   "metadata": {},
   "outputs": [],
   "source": [
    "import torch.nn.functional as F\n",
    "\n",
    "# 定义baseline Module\n",
    "# 把没有参数的函数放在forward里\n",
    "class Net(nn.Module):\n",
    "    def __init__(self):\n",
    "        super().__init__()\n",
    "        self.conv1 = nn.Conv2d(3, 16, kernel_size=3, padding=1)\n",
    "        self.conv2 = nn.Conv2d(16, 8, kernel_size=3, padding=1)\n",
    "        self.fc1 = nn.Linear(8 * 8 * 8, 32)\n",
    "        self.fc2 = nn.Linear(32, 2)\n",
    "        \n",
    "    def forward(self, x):\n",
    "        out = F.max_pool2d(torch.tanh(self.conv1(x)), 2)\n",
    "        out = F.max_pool2d(torch.tanh(self.conv2(out)), 2)\n",
    "        out = out.view(-1, 8 * 8 * 8)\n",
    "        out = torch.tanh(self.fc1(out))\n",
    "        out = self.fc2(out)\n",
    "        return out"
   ]
  },
  {
   "cell_type": "code",
   "execution_count": 80,
   "metadata": {},
   "outputs": [
    {
     "output_type": "execute_result",
     "data": {
      "text/plain": "tensor([[-0.0157,  0.1143]], grad_fn=<AddmmBackward>)"
     },
     "metadata": {},
     "execution_count": 80
    }
   ],
   "source": [
    "model = Net()\n",
    "model(img.unsqueeze(0))"
   ]
  },
  {
   "cell_type": "code",
   "execution_count": 81,
   "metadata": {},
   "outputs": [],
   "source": [
    "import datetime  # <1>\n",
    "\n",
    "device = torch.device('cuda:4') if torch.cuda.is_available() \\\n",
    "                              else torch.device('cpu')\n",
    "\n",
    "# 训练函数\n",
    "def training_loop(n_epochs, optimizer, model, loss_fn, train_loader):\n",
    "    for epoch in range(1, n_epochs + 1):  # <2>\n",
    "        loss_train = 0.0\n",
    "        for imgs, labels in train_loader:  # <3>\n",
    "            \n",
    "            imgs, labels = imgs.to(device=device), labels.to(device=device)\n",
    "\n",
    "            outputs = model(imgs)  # <4>\n",
    "            \n",
    "            loss = loss_fn(outputs, labels)  # <5>\n",
    "\n",
    "            optimizer.zero_grad()  # <6>\n",
    "            \n",
    "            loss.backward()  # <7>\n",
    "            \n",
    "            optimizer.step()  # <8>\n",
    "\n",
    "            loss_train += loss.item()  # <9>\n",
    "\n",
    "        if epoch == 1 or epoch % 10 == 0:\n",
    "            print('{} Epoch {}, Training loss {}'.format(\n",
    "                datetime.datetime.now(), epoch,\n",
    "                loss_train / len(train_loader)))  # <10>"
   ]
  },
  {
   "cell_type": "code",
   "execution_count": 82,
   "metadata": {
    "tags": []
   },
   "outputs": [
    {
     "output_type": "stream",
     "name": "stdout",
     "text": "157\n10000\n156\n2020-08-04 16:54:22.029650 Epoch 1, Training loss 0.56348127601253\n2020-08-04 16:54:30.073670 Epoch 10, Training loss 0.3277701517199255\n2020-08-04 16:54:39.162895 Epoch 20, Training loss 0.30353271012093613\n2020-08-04 16:54:48.182340 Epoch 30, Training loss 0.2825269956307806\n2020-08-04 16:54:57.081365 Epoch 40, Training loss 0.2611521099023758\n2020-08-04 16:55:05.970995 Epoch 50, Training loss 0.24111852481676516\n2020-08-04 16:55:14.955705 Epoch 60, Training loss 0.22000236220800193\n2020-08-04 16:55:23.784826 Epoch 70, Training loss 0.20374671763675228\n2020-08-04 16:55:32.761808 Epoch 80, Training loss 0.18936982765129418\n2020-08-04 16:55:41.760457 Epoch 90, Training loss 0.1728354780252572\n2020-08-04 16:55:50.916288 Epoch 100, Training loss 0.1614335057604465\n"
    }
   ],
   "source": [
    "\n",
    "train_loader = torch.utils.data.DataLoader(cifar2, batch_size=64,\n",
    "                                           shuffle=True)  # <1>\n",
    "print(len(train_loader)) # batch的个数(batch_size=64)\n",
    "print(len(cifar2))  # cifar2数据集的数据数量\n",
    "print(10000//64)    # 验证一下\n",
    "\n",
    "model = Net().to(device=device)  #  <2>\n",
    "optimizer = optim.SGD(model.parameters(), lr=1e-2)  #  <3>\n",
    "loss_fn = nn.CrossEntropyLoss()  #  <4>\n",
    "\n",
    "training_loop(  # <5>\n",
    "    n_epochs = 100,\n",
    "    optimizer = optimizer,\n",
    "    model = model,\n",
    "    loss_fn = loss_fn,\n",
    "    train_loader = train_loader,\n",
    ")"
   ]
  },
  {
   "cell_type": "code",
   "execution_count": 83,
   "metadata": {
    "tags": []
   },
   "outputs": [
    {
     "output_type": "stream",
     "name": "stdout",
     "text": "Accuracy train: 0.93\nAccuracy val: 0.89\n"
    }
   ],
   "source": [
    "train_loader = torch.utils.data.DataLoader(cifar2, batch_size=64,\n",
    "                                           shuffle=False)\n",
    "val_loader = torch.utils.data.DataLoader(cifar2_val, batch_size=64,\n",
    "                                         shuffle=False)\n",
    "\n",
    "# 计算训练准确度、测试准确度\n",
    "def validate(model, train_loader, val_loader):\n",
    "    for name, loader in [(\"train\", train_loader), (\"val\", val_loader)]:\n",
    "        correct = 0\n",
    "        total = 0\n",
    "\n",
    "        with torch.no_grad():  # <1>\n",
    "            for imgs, labels in loader:\n",
    "                imgs, labels = imgs.to(device=device), labels.to(device=device)\n",
    "                outputs = model(imgs)\n",
    "                _, predicted = torch.max(outputs, dim=1) # <2>\n",
    "                total += labels.shape[0]  # <3>\n",
    "                correct += int((predicted == labels).sum())  # <4>\n",
    "\n",
    "        print(\"Accuracy {}: {:.2f}\".format(name , correct / total))\n",
    "\n",
    "validate(model, train_loader, val_loader)"
   ]
  },
  {
   "cell_type": "code",
   "execution_count": 84,
   "metadata": {},
   "outputs": [],
   "source": [
    "torch.save(model.state_dict(), data_path + 'birds_vs_airplanes.pt')"
   ]
  },
  {
   "cell_type": "code",
   "execution_count": 85,
   "metadata": {},
   "outputs": [
    {
     "output_type": "execute_result",
     "data": {
      "text/plain": "<All keys matched successfully>"
     },
     "metadata": {},
     "execution_count": 85
    }
   ],
   "source": [
    "loaded_model = Net()  # <1>\n",
    "loaded_model.load_state_dict(torch.load(data_path\n",
    "                                        + 'birds_vs_airplanes.pt'))"
   ]
  },
  {
   "cell_type": "code",
   "execution_count": 86,
   "metadata": {
    "tags": []
   },
   "outputs": [
    {
     "output_type": "stream",
     "name": "stdout",
     "text": "Training on device cuda:4.\n"
    }
   ],
   "source": [
    "device = (torch.device('cuda:4') if torch.cuda.is_available()\n",
    "          else torch.device('cpu'))\n",
    "print(f\"Training on device {device}.\")"
   ]
  },
  {
   "cell_type": "code",
   "execution_count": 87,
   "metadata": {},
   "outputs": [],
   "source": [
    "import datetime\n",
    "\n",
    "# 训练函数\n",
    "def training_loop(n_epochs, optimizer, model, loss_fn, train_loader):\n",
    "    for epoch in range(1, n_epochs + 1):\n",
    "        loss_train = 0.0\n",
    "        for imgs, labels in train_loader:\n",
    "            imgs = imgs.to(device=device)  # <1>\n",
    "            labels = labels.to(device=device)\n",
    "            outputs = model(imgs)\n",
    "            loss = loss_fn(outputs, labels)\n",
    "\n",
    "            optimizer.zero_grad()\n",
    "            loss.backward()\n",
    "            optimizer.step()\n",
    "\n",
    "            loss_train += loss.item()\n",
    "\n",
    "        if epoch == 1 or epoch % 10 == 0:\n",
    "            print('{} Epoch {}, Training loss {}'.format(\n",
    "                datetime.datetime.now(), epoch,\n",
    "                loss_train / len(train_loader)))"
   ]
  },
  {
   "cell_type": "code",
   "execution_count": 88,
   "metadata": {
    "tags": []
   },
   "outputs": [
    {
     "output_type": "stream",
     "name": "stdout",
     "text": "2020-08-04 16:55:53.068540 Epoch 1, Training loss 0.5717791305605773\n2020-08-04 16:56:01.155056 Epoch 10, Training loss 0.3285352034363777\n2020-08-04 16:56:10.428675 Epoch 20, Training loss 0.29493763568295034\n2020-08-04 16:56:19.600949 Epoch 30, Training loss 0.2696342447381111\n2020-08-04 16:56:28.821518 Epoch 40, Training loss 0.2470918864391412\n2020-08-04 16:56:37.957142 Epoch 50, Training loss 0.22621280728441895\n2020-08-04 16:56:47.100770 Epoch 60, Training loss 0.20994125083563434\n2020-08-04 16:56:56.182746 Epoch 70, Training loss 0.1934857279252095\n2020-08-04 16:57:05.294371 Epoch 80, Training loss 0.17989604251020275\n2020-08-04 16:57:14.325560 Epoch 90, Training loss 0.16621195918815151\n2020-08-04 16:57:23.331994 Epoch 100, Training loss 0.15666650491914932\n"
    }
   ],
   "source": [
    "# 训练baseline\n",
    "train_loader = torch.utils.data.DataLoader(cifar2, batch_size=64,\n",
    "                                           shuffle=True)\n",
    "\n",
    "model = Net().to(device=device)  # <1>\n",
    "optimizer = optim.SGD(model.parameters(), lr=1e-2)\n",
    "loss_fn = nn.CrossEntropyLoss()\n",
    "\n",
    "training_loop(\n",
    "    n_epochs = 100,\n",
    "    optimizer = optimizer,\n",
    "    model = model,\n",
    "    loss_fn = loss_fn,\n",
    "    train_loader = train_loader,\n",
    ")"
   ]
  },
  {
   "cell_type": "code",
   "execution_count": 89,
   "metadata": {
    "tags": []
   },
   "outputs": [
    {
     "output_type": "stream",
     "name": "stdout",
     "text": "Accuracy train: 0.93\nAccuracy val: 0.89\n"
    }
   ],
   "source": [
    "# 验证baseline\n",
    "train_loader = torch.utils.data.DataLoader(cifar2, batch_size=64,\n",
    "                                           shuffle=False)\n",
    "val_loader = torch.utils.data.DataLoader(cifar2_val, batch_size=64,\n",
    "                                         shuffle=False)\n",
    "all_acc_dict = collections.OrderedDict()\n",
    "\n",
    "def validate(model, train_loader, val_loader):\n",
    "    accdict = {}\n",
    "    for name, loader in [(\"train\", train_loader), (\"val\", val_loader)]:\n",
    "        correct = 0\n",
    "        total = 0\n",
    "\n",
    "        with torch.no_grad():\n",
    "            for imgs, labels in loader:\n",
    "                imgs = imgs.to(device=device)\n",
    "                labels = labels.to(device=device)\n",
    "                outputs = model(imgs)\n",
    "                _, predicted = torch.max(outputs, dim=1) # <1>\n",
    "                total += labels.shape[0]\n",
    "                correct += int((predicted == labels).sum())\n",
    "\n",
    "        print(\"Accuracy {}: {:.2f}\".format(name , correct / total))\n",
    "        accdict[name] = correct / total\n",
    "    return accdict\n",
    "\n",
    "all_acc_dict[\"baseline\"] = validate(model, train_loader, val_loader)"
   ]
  },
  {
   "cell_type": "code",
   "execution_count": 90,
   "metadata": {},
   "outputs": [
    {
     "output_type": "execute_result",
     "data": {
      "text/plain": "<All keys matched successfully>"
     },
     "metadata": {},
     "execution_count": 90
    }
   ],
   "source": [
    "loaded_model = Net().to(device=device)\n",
    "loaded_model.load_state_dict(torch.load(data_path\n",
    "                                        + 'birds_vs_airplanes.pt',\n",
    "                                        map_location=device))"
   ]
  },
  {
   "cell_type": "code",
   "execution_count": 91,
   "metadata": {},
   "outputs": [],
   "source": [
    "# 定义NetWidth Module\n",
    "class NetWidth(nn.Module):\n",
    "    def __init__(self):\n",
    "        super().__init__()\n",
    "        self.conv1 = nn.Conv2d(3, 32, kernel_size=3, padding=1)\n",
    "        self.conv2 = nn.Conv2d(32, 16, kernel_size=3, padding=1)\n",
    "        self.fc1 = nn.Linear(16 * 8 * 8, 32)\n",
    "        self.fc2 = nn.Linear(32, 2)\n",
    "        \n",
    "    def forward(self, x):\n",
    "        out = F.max_pool2d(torch.tanh(self.conv1(x)), 2)\n",
    "        out = F.max_pool2d(torch.tanh(self.conv2(out)), 2)\n",
    "        out = out.view(-1, 16 * 8 * 8)\n",
    "        out = torch.tanh(self.fc1(out))\n",
    "        out = self.fc2(out)\n",
    "        return out"
   ]
  },
  {
   "cell_type": "code",
   "execution_count": 92,
   "metadata": {
    "tags": []
   },
   "outputs": [
    {
     "output_type": "stream",
     "name": "stdout",
     "text": "2020-08-04 16:57:25.070392 Epoch 1, Training loss 0.5696582414542034\n2020-08-04 16:57:33.326812 Epoch 10, Training loss 0.3221928174518476\n2020-08-04 16:57:42.502235 Epoch 20, Training loss 0.280595897204557\n2020-08-04 16:57:51.747405 Epoch 30, Training loss 0.24590486477894388\n2020-08-04 16:58:01.144278 Epoch 40, Training loss 0.21833071501771356\n2020-08-04 16:58:10.267400 Epoch 50, Training loss 0.19432911556807292\n2020-08-04 16:58:19.413825 Epoch 60, Training loss 0.17150816093584534\n2020-08-04 16:58:28.560012 Epoch 70, Training loss 0.14893908471248712\n2020-08-04 16:58:37.563124 Epoch 80, Training loss 0.12710739192879125\n2020-08-04 16:58:46.685832 Epoch 90, Training loss 0.10672975324426487\n2020-08-04 16:58:55.734120 Epoch 100, Training loss 0.08839293533734455\nAccuracy train: 0.96\nAccuracy val: 0.89\n"
    },
    {
     "output_type": "execute_result",
     "data": {
      "text/plain": "{'train': 0.9627, 'val': 0.89}"
     },
     "metadata": {},
     "execution_count": 92
    }
   ],
   "source": [
    "model = NetWidth().to(device=device)\n",
    "optimizer = optim.SGD(model.parameters(), lr=1e-2)\n",
    "loss_fn = nn.CrossEntropyLoss()\n",
    "\n",
    "# 训练NetWidth Module\n",
    "training_loop(\n",
    "    n_epochs = 100,\n",
    "    optimizer = optimizer,\n",
    "    model = model,\n",
    "    loss_fn = loss_fn,\n",
    "    train_loader = train_loader,\n",
    ")\n",
    "\n",
    "# 验证NetWidth Module\n",
    "validate(model, train_loader, val_loader)"
   ]
  },
  {
   "cell_type": "code",
   "execution_count": 93,
   "metadata": {},
   "outputs": [],
   "source": [
    "# 定义通用NetWidth Module\n",
    "class NetWidth(nn.Module):\n",
    "    def __init__(self, n_chans1=32):\n",
    "        super().__init__()\n",
    "        self.n_chans1 = n_chans1\n",
    "        self.conv1 = nn.Conv2d(3, n_chans1, kernel_size=3, padding=1)\n",
    "        self.conv2 = nn.Conv2d(n_chans1, n_chans1 // 2, kernel_size=3,\n",
    "                               padding=1)\n",
    "        self.fc1 = nn.Linear(8 * 8 * n_chans1 // 2, 32)\n",
    "        self.fc2 = nn.Linear(32, 2)\n",
    "        \n",
    "    def forward(self, x):\n",
    "        out = F.max_pool2d(torch.tanh(self.conv1(x)), 2)\n",
    "        out = F.max_pool2d(torch.tanh(self.conv2(out)), 2)\n",
    "        out = out.view(-1, 8 * 8 * self.n_chans1 // 2)\n",
    "        out = torch.tanh(self.fc1(out))\n",
    "        out = self.fc2(out)\n",
    "        return out\n"
   ]
  },
  {
   "cell_type": "code",
   "execution_count": 94,
   "metadata": {
    "tags": []
   },
   "outputs": [
    {
     "output_type": "stream",
     "name": "stdout",
     "text": "2020-08-04 16:58:57.388443 Epoch 1, Training loss 0.5444504941345021\n2020-08-04 16:59:06.401072 Epoch 10, Training loss 0.3170766001863844\n2020-08-04 16:59:16.489661 Epoch 20, Training loss 0.2745369294076968\n2020-08-04 16:59:26.626298 Epoch 30, Training loss 0.24255611481750086\n2020-08-04 16:59:36.650153 Epoch 40, Training loss 0.21333667237287873\n2020-08-04 16:59:46.792753 Epoch 50, Training loss 0.1869501082855425\n2020-08-04 16:59:56.772130 Epoch 60, Training loss 0.16314604289972098\n2020-08-04 17:00:06.721299 Epoch 70, Training loss 0.14085717283331664\n2020-08-04 17:00:16.695432 Epoch 80, Training loss 0.1199389615683419\n2020-08-04 17:00:26.647929 Epoch 90, Training loss 0.10070081672091392\n2020-08-04 17:00:36.632691 Epoch 100, Training loss 0.08321702113719123\nAccuracy train: 0.96\nAccuracy val: 0.90\n"
    }
   ],
   "source": [
    "model = NetWidth(n_chans1=32).to(device=device)\n",
    "optimizer = optim.SGD(model.parameters(), lr=1e-2)\n",
    "loss_fn = nn.CrossEntropyLoss()\n",
    "\n",
    "# 训练NetWidth Module\n",
    "training_loop(\n",
    "    n_epochs = 100,\n",
    "    optimizer = optimizer,\n",
    "    model = model,\n",
    "    loss_fn = loss_fn,\n",
    "    train_loader = train_loader,\n",
    ")\n",
    "\n",
    "# 验证NetWidth Module\n",
    "all_acc_dict[\"width\"] = validate(model, train_loader, val_loader)"
   ]
  },
  {
   "cell_type": "code",
   "execution_count": 95,
   "metadata": {},
   "outputs": [
    {
     "output_type": "execute_result",
     "data": {
      "text/plain": "38386"
     },
     "metadata": {},
     "execution_count": 95
    }
   ],
   "source": [
    "sum(p.numel() for p in model.parameters())"
   ]
  },
  {
   "cell_type": "code",
   "execution_count": 96,
   "metadata": {},
   "outputs": [],
   "source": [
    "# 定义loss+l2reg的训练函数, 实际效果等效于在SGD设置weight_decay\n",
    "def training_loop_l2reg(n_epochs, optimizer, model, loss_fn,\n",
    "                        train_loader):\n",
    "    for epoch in range(1, n_epochs + 1):\n",
    "        loss_train = 0.0\n",
    "        for imgs, labels in train_loader:\n",
    "            imgs = imgs.to(device=device)\n",
    "            labels = labels.to(device=device)\n",
    "            outputs = model(imgs)\n",
    "            loss = loss_fn(outputs, labels)\n",
    "\n",
    "            l2_lambda = 0.001\n",
    "            l2_norm = sum(p.pow(2.0).sum()\n",
    "                          for p in model.parameters())  # <1>\n",
    "            loss = loss + l2_lambda * l2_norm\n",
    "\n",
    "            optimizer.zero_grad()\n",
    "            loss.backward()\n",
    "            optimizer.step()\n",
    "            \n",
    "            loss_train += loss.item()\n",
    "        if epoch == 1 or epoch % 10 == 0:\n",
    "            print('{} Epoch {}, Training loss {}'.format(\n",
    "                datetime.datetime.now(), epoch,\n",
    "                loss_train / len(train_loader)))\n"
   ]
  },
  {
   "cell_type": "code",
   "execution_count": 97,
   "metadata": {
    "tags": []
   },
   "outputs": [
    {
     "output_type": "stream",
     "name": "stdout",
     "text": "2020-08-04 17:00:39.011543 Epoch 1, Training loss 0.5843232737225332\n2020-08-04 17:00:50.945527 Epoch 10, Training loss 0.36670665376505274\n2020-08-04 17:01:03.961225 Epoch 20, Training loss 0.3227845189298034\n2020-08-04 17:01:17.150848 Epoch 30, Training loss 0.2967652347247312\n2020-08-04 17:01:30.364581 Epoch 40, Training loss 0.2781612938566572\n2020-08-04 17:01:43.463884 Epoch 50, Training loss 0.26434903264425363\n2020-08-04 17:01:56.825599 Epoch 60, Training loss 0.25264739397035285\n2020-08-04 17:02:10.330369 Epoch 70, Training loss 0.2418385104863507\n2020-08-04 17:02:23.676730 Epoch 80, Training loss 0.23182862555714928\n2020-08-04 17:02:36.884541 Epoch 90, Training loss 0.22235017853557684\n2020-08-04 17:02:50.317798 Epoch 100, Training loss 0.21325282116604458\nAccuracy train: 0.90\nAccuracy val: 0.87\n"
    }
   ],
   "source": [
    "model = Net().to(device=device)\n",
    "optimizer = optim.SGD(model.parameters(), lr=1e-2, weight_decay=0.001)\n",
    "loss_fn = nn.CrossEntropyLoss()\n",
    "\n",
    "# 训练loss+l2reg Module\n",
    "training_loop_l2reg(\n",
    "    n_epochs = 100,\n",
    "    optimizer = optimizer,\n",
    "    model = model,\n",
    "    loss_fn = loss_fn,\n",
    "    train_loader = train_loader,\n",
    ")\n",
    "\n",
    "# 验证loss+l2reg Module\n",
    "all_acc_dict[\"l2 reg\"] = validate(model, train_loader, val_loader)"
   ]
  },
  {
   "cell_type": "code",
   "execution_count": 98,
   "metadata": {},
   "outputs": [],
   "source": [
    "# 定义NetDropout Module\n",
    "class NetDropout(nn.Module):\n",
    "    def __init__(self, n_chans1=32):\n",
    "        super().__init__()\n",
    "        self.n_chans1 = n_chans1\n",
    "        self.conv1 = nn.Conv2d(3, n_chans1, kernel_size=3, padding=1)\n",
    "        self.conv1_dropout = nn.Dropout2d(p=0.4)\n",
    "        self.conv2 = nn.Conv2d(n_chans1, n_chans1 // 2, kernel_size=3,\n",
    "                               padding=1)\n",
    "        self.conv2_dropout = nn.Dropout2d(p=0.4)\n",
    "        self.fc1 = nn.Linear(8 * 8 * n_chans1 // 2, 32)\n",
    "        self.fc2 = nn.Linear(32, 2)\n",
    "        \n",
    "    def forward(self, x):\n",
    "        out = F.max_pool2d(torch.tanh(self.conv1(x)), 2)\n",
    "        out = self.conv1_dropout(out)\n",
    "        out = F.max_pool2d(torch.tanh(self.conv2(out)), 2)\n",
    "        out = self.conv2_dropout(out)\n",
    "        out = out.view(-1, 8 * 8 * self.n_chans1 // 2)\n",
    "        out = torch.tanh(self.fc1(out))\n",
    "        out = self.fc2(out)\n",
    "        return out"
   ]
  },
  {
   "cell_type": "code",
   "execution_count": 99,
   "metadata": {
    "tags": []
   },
   "outputs": [
    {
     "output_type": "stream",
     "name": "stdout",
     "text": "2020-08-04 17:02:52.097544 Epoch 1, Training loss 0.5800061487847832\n2020-08-04 17:03:01.319029 Epoch 10, Training loss 0.3807478230090658\n2020-08-04 17:03:11.611047 Epoch 20, Training loss 0.34909007408816345\n2020-08-04 17:03:21.879350 Epoch 30, Training loss 0.3298034879622186\n2020-08-04 17:03:32.170678 Epoch 40, Training loss 0.3125601761090528\n2020-08-04 17:03:42.365090 Epoch 50, Training loss 0.29207675567098484\n2020-08-04 17:03:52.899487 Epoch 60, Training loss 0.2820587133526043\n2020-08-04 17:04:03.358889 Epoch 70, Training loss 0.2723422220368294\n2020-08-04 17:04:13.808153 Epoch 80, Training loss 0.2627921403403495\n2020-08-04 17:04:24.129929 Epoch 90, Training loss 0.25367667208051986\n2020-08-04 17:04:34.438273 Epoch 100, Training loss 0.24002674070133526\nAccuracy train: 0.90\nAccuracy val: 0.88\n"
    }
   ],
   "source": [
    "model = NetDropout(n_chans1=32).to(device=device)\n",
    "optimizer = optim.SGD(model.parameters(), lr=1e-2)\n",
    "loss_fn = nn.CrossEntropyLoss()\n",
    "\n",
    "# 训练NetDropout Module\n",
    "training_loop(\n",
    "    n_epochs = 100,\n",
    "    optimizer = optimizer,\n",
    "    model = model,\n",
    "    loss_fn = loss_fn,\n",
    "    train_loader = train_loader,\n",
    ")\n",
    "\n",
    "# 验证NetDropout Module\n",
    "all_acc_dict[\"dropout\"] = validate(model, train_loader, val_loader)"
   ]
  },
  {
   "cell_type": "code",
   "execution_count": 100,
   "metadata": {},
   "outputs": [],
   "source": [
    "# 定义NetBatchNorm Module\n",
    "class NetBatchNorm(nn.Module):\n",
    "    def __init__(self, n_chans1=32):\n",
    "        super().__init__()\n",
    "        self.n_chans1 = n_chans1\n",
    "        self.conv1 = nn.Conv2d(3, n_chans1, kernel_size=3, padding=1)\n",
    "        self.conv1_batchnorm = nn.BatchNorm2d(num_features=n_chans1)\n",
    "        self.conv2 = nn.Conv2d(n_chans1, n_chans1 // 2, kernel_size=3, \n",
    "                               padding=1)\n",
    "        self.conv2_batchnorm = nn.BatchNorm2d(num_features=n_chans1 // 2)\n",
    "        self.fc1 = nn.Linear(8 * 8 * n_chans1 // 2, 32)\n",
    "        self.fc2 = nn.Linear(32, 2)\n",
    "        \n",
    "    def forward(self, x):\n",
    "        out = self.conv1_batchnorm(self.conv1(x))\n",
    "        out = F.max_pool2d(torch.tanh(out), 2)\n",
    "        out = self.conv2_batchnorm(self.conv2(out))\n",
    "        out = F.max_pool2d(torch.tanh(out), 2)\n",
    "        out = out.view(-1, 8 * 8 * self.n_chans1 // 2)\n",
    "        out = torch.tanh(self.fc1(out))\n",
    "        out = self.fc2(out)\n",
    "        return out"
   ]
  },
  {
   "cell_type": "code",
   "execution_count": 101,
   "metadata": {
    "tags": []
   },
   "outputs": [
    {
     "output_type": "stream",
     "name": "stdout",
     "text": "2020-08-04 17:04:36.367079 Epoch 1, Training loss 0.47399262410060616\n2020-08-04 17:04:46.274422 Epoch 10, Training loss 0.25974521254468114\n2020-08-04 17:04:57.181029 Epoch 20, Training loss 0.19421489422868013\n2020-08-04 17:05:08.101661 Epoch 30, Training loss 0.1442583906138019\n2020-08-04 17:05:18.873109 Epoch 40, Training loss 0.10167027008571443\n2020-08-04 17:05:29.659437 Epoch 50, Training loss 0.0659497678754436\n2020-08-04 17:05:40.533756 Epoch 60, Training loss 0.04175429383091107\n2020-08-04 17:05:51.399483 Epoch 70, Training loss 0.031069264041295477\n2020-08-04 17:06:02.291174 Epoch 80, Training loss 0.01645261791362694\n2020-08-04 17:06:13.286825 Epoch 90, Training loss 0.010100124878393617\n2020-08-04 17:06:24.257544 Epoch 100, Training loss 0.006438235058241589\nAccuracy train: 1.00\nAccuracy val: 0.88\n"
    }
   ],
   "source": [
    "model = NetBatchNorm(n_chans1=32).to(device=device)\n",
    "optimizer = optim.SGD(model.parameters(), lr=1e-2)\n",
    "loss_fn = nn.CrossEntropyLoss()\n",
    "\n",
    "# 训练NetBatchNorm Module\n",
    "training_loop(\n",
    "    n_epochs = 100,\n",
    "    optimizer = optimizer,\n",
    "    model = model,\n",
    "    loss_fn = loss_fn,\n",
    "    train_loader = train_loader,\n",
    ")\n",
    "\n",
    "# 验证NetBatchNorm Module\n",
    "all_acc_dict[\"batch_norm\"] = validate(model, train_loader, val_loader)"
   ]
  },
  {
   "cell_type": "code",
   "execution_count": 102,
   "metadata": {},
   "outputs": [],
   "source": [
    "# 定义NetDepth Module\n",
    "class NetDepth(nn.Module):\n",
    "    def __init__(self, n_chans1=32):\n",
    "        super().__init__()\n",
    "        self.n_chans1 = n_chans1\n",
    "        self.conv1 = nn.Conv2d(3, n_chans1, kernel_size=3, padding=1)\n",
    "        self.conv2 = nn.Conv2d(n_chans1, n_chans1 // 2, kernel_size=3,\n",
    "                               padding=1)\n",
    "        self.conv3 = nn.Conv2d(n_chans1 // 2, n_chans1 // 2,\n",
    "                               kernel_size=3, padding=1)\n",
    "        self.fc1 = nn.Linear(4 * 4 * n_chans1 // 2, 32)\n",
    "        self.fc2 = nn.Linear(32, 2)\n",
    "        \n",
    "    def forward(self, x):\n",
    "        out = F.max_pool2d(torch.relu(self.conv1(x)), 2)\n",
    "        out = F.max_pool2d(torch.relu(self.conv2(out)), 2)\n",
    "        out = F.max_pool2d(torch.relu(self.conv3(out)), 2)\n",
    "        out = out.view(-1, 4 * 4 * self.n_chans1 // 2)\n",
    "        out = torch.relu(self.fc1(out))\n",
    "        out = self.fc2(out)\n",
    "        return out"
   ]
  },
  {
   "cell_type": "code",
   "execution_count": 103,
   "metadata": {
    "tags": []
   },
   "outputs": [
    {
     "output_type": "stream",
     "name": "stdout",
     "text": "2020-08-04 17:06:26.319263 Epoch 1, Training loss 0.6548019556482886\n2020-08-04 17:06:37.725935 Epoch 10, Training loss 0.33992680945214193\n2020-08-04 17:06:50.223275 Epoch 20, Training loss 0.30138063516206803\n2020-08-04 17:07:02.679950 Epoch 30, Training loss 0.27270692026918864\n2020-08-04 17:07:15.277323 Epoch 40, Training loss 0.24418729771474365\n2020-08-04 17:07:27.540427 Epoch 50, Training loss 0.21705627702413852\n2020-08-04 17:07:40.006214 Epoch 60, Training loss 0.1910265551251211\n2020-08-04 17:07:52.616129 Epoch 70, Training loss 0.16711728478882723\n2020-08-04 17:08:04.895732 Epoch 80, Training loss 0.1442026859683216\n2020-08-04 17:08:17.133443 Epoch 90, Training loss 0.12163586663022923\n2020-08-04 17:08:29.538488 Epoch 100, Training loss 0.09864108370035697\nAccuracy train: 0.96\nAccuracy val: 0.90\n"
    }
   ],
   "source": [
    "model = NetDepth(n_chans1=32).to(device=device)\n",
    "optimizer = optim.SGD(model.parameters(), lr=1e-2)\n",
    "loss_fn = nn.CrossEntropyLoss()\n",
    "\n",
    "# 训练NetDepth Module\n",
    "training_loop(\n",
    "    n_epochs = 100,\n",
    "    optimizer = optimizer,\n",
    "    model = model,\n",
    "    loss_fn = loss_fn,\n",
    "    train_loader = train_loader,\n",
    ")\n",
    "\n",
    "# 验证NetDepth Module\n",
    "all_acc_dict[\"depth\"] = validate(model, train_loader, val_loader)"
   ]
  },
  {
   "cell_type": "code",
   "execution_count": 104,
   "metadata": {},
   "outputs": [],
   "source": [
    "# 定义NetRes Module, 只有一个selfmap\n",
    "class NetRes(nn.Module):\n",
    "    def __init__(self, n_chans1=32):\n",
    "        super().__init__()\n",
    "        self.n_chans1 = n_chans1\n",
    "        self.conv1 = nn.Conv2d(3, n_chans1, kernel_size=3, padding=1)\n",
    "        self.conv2 = nn.Conv2d(n_chans1, n_chans1 // 2, kernel_size=3,\n",
    "                               padding=1)\n",
    "        self.conv3 = nn.Conv2d(n_chans1 // 2, n_chans1 // 2,\n",
    "                               kernel_size=3, padding=1)\n",
    "        self.fc1 = nn.Linear(4 * 4 * n_chans1 // 2, 32)\n",
    "        self.fc2 = nn.Linear(32, 2)\n",
    "        \n",
    "    def forward(self, x):\n",
    "        out = F.max_pool2d(torch.relu(self.conv1(x)), 2)\n",
    "        out = F.max_pool2d(torch.relu(self.conv2(out)), 2)\n",
    "        out1 = out\n",
    "        out = F.max_pool2d(torch.relu(self.conv3(out)) + out1, 2)\n",
    "        out = out.view(-1, 4 * 4 * self.n_chans1 // 2)\n",
    "        out = torch.relu(self.fc1(out))\n",
    "        out = self.fc2(out)\n",
    "        return out"
   ]
  },
  {
   "cell_type": "code",
   "execution_count": 105,
   "metadata": {
    "tags": []
   },
   "outputs": [
    {
     "output_type": "stream",
     "name": "stdout",
     "text": "2020-08-04 17:08:31.588139 Epoch 1, Training loss 0.6650077472826478\n2020-08-04 17:08:42.687067 Epoch 10, Training loss 0.32934764767907987\n2020-08-04 17:08:54.774148 Epoch 20, Training loss 0.28633579089763056\n2020-08-04 17:09:06.986791 Epoch 30, Training loss 0.25540385922049264\n2020-08-04 17:09:19.224297 Epoch 40, Training loss 0.2282854876225921\n2020-08-04 17:09:31.317323 Epoch 50, Training loss 0.2022505075593663\n2020-08-04 17:09:43.112028 Epoch 60, Training loss 0.17629043741305922\n2020-08-04 17:09:55.091188 Epoch 70, Training loss 0.15070507236441988\n2020-08-04 17:10:07.182347 Epoch 80, Training loss 0.1258206173872492\n2020-08-04 17:10:19.274284 Epoch 90, Training loss 0.10219511750397409\n2020-08-04 17:10:31.176941 Epoch 100, Training loss 0.07788258713853967\nAccuracy train: 0.96\nAccuracy val: 0.89\n"
    }
   ],
   "source": [
    "model = NetRes(n_chans1=32).to(device=device)\n",
    "optimizer = optim.SGD(model.parameters(), lr=1e-2)\n",
    "loss_fn = nn.CrossEntropyLoss()\n",
    "\n",
    "# 训练NetRes Module\n",
    "training_loop(\n",
    "    n_epochs = 100,\n",
    "    optimizer = optimizer,\n",
    "    model = model,\n",
    "    loss_fn = loss_fn,\n",
    "    train_loader = train_loader,\n",
    ")\n",
    "\n",
    "# 验证NetRes Module\n",
    "all_acc_dict[\"res\"] = validate(model, train_loader, val_loader)"
   ]
  },
  {
   "cell_type": "code",
   "execution_count": 106,
   "metadata": {},
   "outputs": [],
   "source": [
    "# 定义残差块\n",
    "class ResBlock(nn.Module):\n",
    "    def __init__(self, n_chans):\n",
    "        super(ResBlock, self).__init__()\n",
    "        self.conv = nn.Conv2d(n_chans, n_chans, kernel_size=3,\n",
    "                              padding=1, bias=False)  # <1>\n",
    "        self.batch_norm = nn.BatchNorm2d(num_features=n_chans)\n",
    "        # kaiming_normal_: known as He initialization.\n",
    "        torch.nn.init.kaiming_normal_(self.conv.weight,\n",
    "                                      nonlinearity='relu')  # <2>\n",
    "        torch.nn.init.constant_(self.batch_norm.weight, 0.5)\n",
    "        torch.nn.init.zeros_(self.batch_norm.bias)\n",
    "\n",
    "    def forward(self, x):\n",
    "        out = self.conv(x)\n",
    "        out = self.batch_norm(out)\n",
    "        out = torch.relu(out)\n",
    "        return out + x"
   ]
  },
  {
   "cell_type": "code",
   "execution_count": 107,
   "metadata": {},
   "outputs": [],
   "source": [
    "# 定义NetResDeep Module, 可自定义残差块数量\n",
    "class NetResDeep(nn.Module):\n",
    "    def __init__(self, n_chans1=32, n_blocks=10):\n",
    "        super().__init__()\n",
    "        self.n_chans1 = n_chans1\n",
    "        self.conv1 = nn.Conv2d(3, n_chans1, kernel_size=3, padding=1)\n",
    "        self.resblocks = nn.Sequential(\n",
    "            *(n_blocks * [ResBlock(n_chans=n_chans1)]))\n",
    "        self.fc1 = nn.Linear(8 * 8 * n_chans1, 32)\n",
    "        self.fc2 = nn.Linear(32, 2)\n",
    "        \n",
    "    def forward(self, x):\n",
    "        out = F.max_pool2d(torch.relu(self.conv1(x)), 2)\n",
    "        out = self.resblocks(out)\n",
    "        out = F.max_pool2d(out, 2)\n",
    "        out = out.view(-1, 8 * 8 * self.n_chans1)\n",
    "        out = torch.relu(self.fc1(out))\n",
    "        out = self.fc2(out)\n",
    "        return out\n",
    "    \n"
   ]
  },
  {
   "cell_type": "code",
   "execution_count": 108,
   "metadata": {},
   "outputs": [],
   "source": [
    "model = NetResDeep(n_chans1=32, n_blocks=100).to(device=device)\n",
    "optimizer = optim.SGD(model.parameters(), lr=3e-3)\n",
    "loss_fn = nn.CrossEntropyLoss()\n",
    "\n",
    "# 训练NetResDeep Module\n",
    "training_loop(\n",
    "    n_epochs = 100,\n",
    "    optimizer = optimizer,\n",
    "    model = model,\n",
    "    loss_fn = loss_fn,\n",
    "    train_loader = train_loader,\n",
    ")\n",
    "\n",
    "# 验证NetResDeep Module\n",
    "all_acc_dict[\"res deep\"] = validate(model, train_loader, val_loader)"
   ]
  },
  {
   "cell_type": "code",
   "execution_count": 58,
   "metadata": {},
   "outputs": [
    {
     "data": {
      "image/png": "[encoded data removed]",
      "text/plain": [
       "<Figure size 432x288 with 1 Axes>"
      ]
     },
     "metadata": {
      "needs_background": "light"
     },
     "output_type": "display_data"
    }
   ],
   "source": [
    "trn_acc = [v['train'] for k, v in all_acc_dict.items()]\n",
    "val_acc = [v['val'] for k, v in all_acc_dict.items()]\n",
    "\n",
    "width =0.3\n",
    "plt.bar(np.arange(len(trn_acc)), trn_acc, width=width, label='train')\n",
    "plt.bar(np.arange(len(val_acc))+ width, val_acc, width=width, label='val')\n",
    "plt.xticks(np.arange(len(val_acc))+ width/2, list(all_acc_dict.keys()),\n",
    "           rotation=60)\n",
    "plt.ylabel('accuracy')\n",
    "plt.legend(loc='lower right')\n",
    "plt.ylim(0.7, 1)\n",
    "plt.savefig('accuracy_comparison.png', bbox_inches='tight')\n",
    "plt.show()\n"
   ]
  },
  {
   "cell_type": "code",
   "execution_count": null,
   "metadata": {},
   "outputs": [],
   "source": []
  }
 ],
 "metadata": {
  "celltoolbar": "Tags",
  "kernelspec": {
   "display_name": "Python 3.6.9 64-bit ('pytorch_env': conda)",
   "language": "python",
   "name": "python_defaultSpec_1596526266054"
  },
  "language_info": {
   "codemirror_mode": {
    "name": "ipython",
    "version": 3
   },
   "file_extension": ".py",
   "mimetype": "text/x-python",
   "name": "python",
   "nbconvert_exporter": "python",
   "pygments_lexer": "ipython3",
   "version": "3.6.9-final"
  }
 },
 "nbformat": 4,
 "nbformat_minor": 2
}
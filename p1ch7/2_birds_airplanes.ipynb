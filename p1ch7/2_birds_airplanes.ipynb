{
 "cells": [
  {
   "cell_type": "code",
   "execution_count": 2,
   "metadata": {},
   "outputs": [
    {
     "output_type": "execute_result",
     "data": {
      "text/plain": "<torch._C.Generator at 0x7f3c58ba8550>"
     },
     "metadata": {},
     "execution_count": 2
    }
   ],
   "source": [
    "# -----------Distinguishing birds from airplanes-----------\n",
    "%matplotlib inline\n",
    "from matplotlib import pyplot as plt\n",
    "import numpy as np\n",
    "import torch\n",
    "\n",
    "torch.set_printoptions(edgeitems=2)\n",
    "torch.manual_seed(123)"
   ]
  },
  {
   "cell_type": "code",
   "execution_count": 4,
   "metadata": {},
   "outputs": [],
   "source": [
    "class_names = ['airplane','automobile','bird','cat','deer',\n",
    "               'dog','frog','horse','ship','truck']"
   ]
  },
  {
   "cell_type": "code",
   "execution_count": 6,
   "metadata": {
    "tags": []
   },
   "outputs": [],
   "source": [
    "from torchvision import datasets, transforms\n",
    "data_path = '../data-unversioned/p1ch7/'\n",
    "cifar10 = datasets.CIFAR10(\n",
    "    data_path, train=True, download=False,\n",
    "    transform=transforms.Compose([\n",
    "        transforms.ToTensor(),\n",
    "        transforms.Normalize((0.4915, 0.4823, 0.4468),\n",
    "                             (0.2470, 0.2435, 0.2616))\n",
    "    ]))"
   ]
  },
  {
   "cell_type": "code",
   "execution_count": 8,
   "metadata": {},
   "outputs": [],
   "source": [
    "cifar10_val = datasets.CIFAR10(\n",
    "    data_path, train=False, download=False,\n",
    "    transform=transforms.Compose([\n",
    "        transforms.ToTensor(),\n",
    "        transforms.Normalize((0.4915, 0.4823, 0.4468),\n",
    "                             (0.2470, 0.2435, 0.2616))\n",
    "    ]))"
   ]
  },
  {
   "cell_type": "code",
   "execution_count": 10,
   "metadata": {},
   "outputs": [],
   "source": [
    "# the dataset is small, and we only need indexing and len to work on our dataset. It doesn’t actually have to be a subclass of torch.utils.data.dataset.Dataset!\n",
    "label_map = {0: 0, 2: 1}\n",
    "class_names = ['airplane', 'bird']\n",
    "cifar2 = [(img, label_map[label])\n",
    "          for img, label in cifar10 \n",
    "          if label in [0, 2]]\n",
    "cifar2_val = [(img, label_map[label])\n",
    "              for img, label in cifar10_val\n",
    "              if label in [0, 2]]\n",
    "# The cifar2 object satisfies the basic requirements for a Dataset—that is, __len__ and __getitem__ are defined"
   ]
  },
  {
   "cell_type": "code",
   "execution_count": 12,
   "metadata": {},
   "outputs": [],
   "source": [
    "import torch.nn as nn\n",
    "\n",
    "n_out = 2\n",
    "\n",
    "model = nn.Sequential(\n",
    "            nn.Linear(\n",
    "                3072,  # <1>\n",
    "                512,   # <2>\n",
    "            ),\n",
    "            nn.Tanh(),\n",
    "            nn.Linear(\n",
    "                512,   # <2>\n",
    "                n_out, # <3>\n",
    "            )\n",
    "        )"
   ]
  },
  {
   "cell_type": "code",
   "execution_count": 14,
   "metadata": {},
   "outputs": [],
   "source": [
    "def softmax(x):\n",
    "    return torch.exp(x) / torch.exp(x).sum()"
   ]
  },
  {
   "cell_type": "code",
   "execution_count": 16,
   "metadata": {},
   "outputs": [
    {
     "output_type": "execute_result",
     "data": {
      "text/plain": "tensor([0.0900, 0.2447, 0.6652])"
     },
     "metadata": {},
     "execution_count": 16
    }
   ],
   "source": [
    "x = torch.tensor([1.0, 2.0, 3.0])\n",
    "\n",
    "softmax(x)"
   ]
  },
  {
   "cell_type": "code",
   "execution_count": 18,
   "metadata": {},
   "outputs": [
    {
     "output_type": "execute_result",
     "data": {
      "text/plain": "tensor(1.)"
     },
     "metadata": {},
     "execution_count": 18
    }
   ],
   "source": [
    "softmax(x).sum()"
   ]
  },
  {
   "cell_type": "code",
   "execution_count": 20,
   "metadata": {},
   "outputs": [
    {
     "output_type": "execute_result",
     "data": {
      "text/plain": "tensor([[0.0900, 0.2447, 0.6652],\n        [0.0900, 0.2447, 0.6652]])"
     },
     "metadata": {},
     "execution_count": 20
    }
   ],
   "source": [
    "softmax = nn.Softmax(dim=1)\n",
    "\n",
    "x = torch.tensor([[1.0, 2.0, 3.0],\n",
    "                  [1.0, 2.0, 3.0]])\n",
    "\n",
    "softmax(x)"
   ]
  },
  {
   "cell_type": "code",
   "execution_count": 22,
   "metadata": {},
   "outputs": [],
   "source": [
    "model = nn.Sequential(\n",
    "            nn.Linear(3072, 512),\n",
    "            nn.Tanh(),\n",
    "            nn.Linear(512, 2),\n",
    "            nn.Softmax(dim=1))"
   ]
  },
  {
   "cell_type": "code",
   "execution_count": 26,
   "metadata": {
    "tags": []
   },
   "outputs": [
    {
     "output_type": "stream",
     "name": "stderr",
     "text": "Clipping input data to the valid range for imshow with RGB data ([0..1] for floats or [0..255] for integers).\ntorch.Size([3, 32, 32])\ntorch.Size([32, 32, 3])\nFalse\nTrue\n"
    },
    {
     "output_type": "display_data",
     "data": {
      "text/plain": "<Figure size 432x288 with 1 Axes>",
      "image/svg+xml": "<?xml version=\"1.0\" encoding=\"utf-8\" standalone=\"no\"?>\n<!DOCTYPE svg PUBLIC \"-//W3C//DTD SVG 1.1//EN\"\n  \"http://www.w3.org/Graphics/SVG/1.1/DTD/svg11.dtd\">\n<!-- Created with matplotlib (https://matplotlib.org/) -->\n<svg height=\"248.919844pt\" version=\"1.1\" viewBox=\"0 0 251.565 248.919844\" width=\"251.565pt\" xmlns=\"http://www.w3.org/2000/svg\" xmlns:xlink=\"http://www.w3.org/1999/xlink\">\n <defs>\n  <style type=\"text/css\">\n*{stroke-linecap:butt;stroke-linejoin:round;}\n  </style>\n </defs>\n <g id=\"figure_1\">\n  <g id=\"patch_1\">\n   <path d=\"M 0 248.919844 \nL 251.565 248.919844 \nL 251.565 0 \nL 0 0 \nz\n\" style=\"fill:none;\"/>\n  </g>\n  <g id=\"axes_1\">\n   <g id=\"patch_2\">\n    <path d=\"M 26.925 225.041719 \nL 244.365 225.041719 \nL 244.365 7.601719 \nL 26.925 7.601719 \nz\n\" style=\"fill:#ffffff;\"/>\n   </g>\n   <g clip-path=\"url(#p61c496a28a)\">\n    <image height=\"218\" id=\"imagef77cb4ee9d\" transform=\"scale(1 -1)translate(0 -218)\" width=\"218\" x=\"26.925\" xlink:href=\"data:image/png;base64,\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\" y=\"-7.041719\"/>\n   </g>\n   <g id=\"matplotlib.axis_1\">\n    <g id=\"xtick_1\">\n     <g id=\"line2d_1\">\n      <defs>\n       <path d=\"M 0 0 \nL 0 3.5 \n\" id=\"m80d0c7483c\" style=\"stroke:#000000;stroke-width:0.8;\"/>\n      </defs>\n      <g>\n       <use style=\"stroke:#000000;stroke-width:0.8;\" x=\"30.3225\" xlink:href=\"#m80d0c7483c\" y=\"225.041719\"/>\n      </g>\n     </g>\n     <g id=\"text_1\">\n      <!-- 0 -->\n      <defs>\n       <path d=\"M 31.78125 66.40625 \nQ 24.171875 66.40625 20.328125 58.90625 \nQ 16.5 51.421875 16.5 36.375 \nQ 16.5 21.390625 20.328125 13.890625 \nQ 24.171875 6.390625 31.78125 6.390625 \nQ 39.453125 6.390625 43.28125 13.890625 \nQ 47.125 21.390625 47.125 36.375 \nQ 47.125 51.421875 43.28125 58.90625 \nQ 39.453125 66.40625 31.78125 66.40625 \nz\nM 31.78125 74.21875 \nQ 44.046875 74.21875 50.515625 64.515625 \nQ 56.984375 54.828125 56.984375 36.375 \nQ 56.984375 17.96875 50.515625 8.265625 \nQ 44.046875 -1.421875 31.78125 -1.421875 \nQ 19.53125 -1.421875 13.0625 8.265625 \nQ 6.59375 17.96875 6.59375 36.375 \nQ 6.59375 54.828125 13.0625 64.515625 \nQ 19.53125 74.21875 31.78125 74.21875 \nz\n\" id=\"DejaVuSans-48\"/>\n      </defs>\n      <g transform=\"translate(27.14125 239.640156)scale(0.1 -0.1)\">\n       <use xlink:href=\"#DejaVuSans-48\"/>\n      </g>\n     </g>\n    </g>\n    <g id=\"xtick_2\">\n     <g id=\"line2d_2\">\n      <g>\n       <use style=\"stroke:#000000;stroke-width:0.8;\" x=\"64.2975\" xlink:href=\"#m80d0c7483c\" y=\"225.041719\"/>\n      </g>\n     </g>\n     <g id=\"text_2\">\n      <!-- 5 -->\n      <defs>\n       <path d=\"M 10.796875 72.90625 \nL 49.515625 72.90625 \nL 49.515625 64.59375 \nL 19.828125 64.59375 \nL 19.828125 46.734375 \nQ 21.96875 47.46875 24.109375 47.828125 \nQ 26.265625 48.1875 28.421875 48.1875 \nQ 40.625 48.1875 47.75 41.5 \nQ 54.890625 34.8125 54.890625 23.390625 \nQ 54.890625 11.625 47.5625 5.09375 \nQ 40.234375 -1.421875 26.90625 -1.421875 \nQ 22.3125 -1.421875 17.546875 -0.640625 \nQ 12.796875 0.140625 7.71875 1.703125 \nL 7.71875 11.625 \nQ 12.109375 9.234375 16.796875 8.0625 \nQ 21.484375 6.890625 26.703125 6.890625 \nQ 35.15625 6.890625 40.078125 11.328125 \nQ 45.015625 15.765625 45.015625 23.390625 \nQ 45.015625 31 40.078125 35.4375 \nQ 35.15625 39.890625 26.703125 39.890625 \nQ 22.75 39.890625 18.8125 39.015625 \nQ 14.890625 38.140625 10.796875 36.28125 \nz\n\" id=\"DejaVuSans-53\"/>\n      </defs>\n      <g transform=\"translate(61.11625 239.640156)scale(0.1 -0.1)\">\n       <use xlink:href=\"#DejaVuSans-53\"/>\n      </g>\n     </g>\n    </g>\n    <g id=\"xtick_3\">\n     <g id=\"line2d_3\">\n      <g>\n       <use style=\"stroke:#000000;stroke-width:0.8;\" x=\"98.2725\" xlink:href=\"#m80d0c7483c\" y=\"225.041719\"/>\n      </g>\n     </g>\n     <g id=\"text_3\">\n      <!-- 10 -->\n      <defs>\n       <path d=\"M 12.40625 8.296875 \nL 28.515625 8.296875 \nL 28.515625 63.921875 \nL 10.984375 60.40625 \nL 10.984375 69.390625 \nL 28.421875 72.90625 \nL 38.28125 72.90625 \nL 38.28125 8.296875 \nL 54.390625 8.296875 \nL 54.390625 0 \nL 12.40625 0 \nz\n\" id=\"DejaVuSans-49\"/>\n      </defs>\n      <g transform=\"translate(91.91 239.640156)scale(0.1 -0.1)\">\n       <use xlink:href=\"#DejaVuSans-49\"/>\n       <use x=\"63.623047\" xlink:href=\"#DejaVuSans-48\"/>\n      </g>\n     </g>\n    </g>\n    <g id=\"xtick_4\">\n     <g id=\"line2d_4\">\n      <g>\n       <use style=\"stroke:#000000;stroke-width:0.8;\" x=\"132.2475\" xlink:href=\"#m80d0c7483c\" y=\"225.041719\"/>\n      </g>\n     </g>\n     <g id=\"text_4\">\n      <!-- 15 -->\n      <g transform=\"translate(125.885 239.640156)scale(0.1 -0.1)\">\n       <use xlink:href=\"#DejaVuSans-49\"/>\n       <use x=\"63.623047\" xlink:href=\"#DejaVuSans-53\"/>\n      </g>\n     </g>\n    </g>\n    <g id=\"xtick_5\">\n     <g id=\"line2d_5\">\n      <g>\n       <use style=\"stroke:#000000;stroke-width:0.8;\" x=\"166.2225\" xlink:href=\"#m80d0c7483c\" y=\"225.041719\"/>\n      </g>\n     </g>\n     <g id=\"text_5\">\n      <!-- 20 -->\n      <defs>\n       <path d=\"M 19.1875 8.296875 \nL 53.609375 8.296875 \nL 53.609375 0 \nL 7.328125 0 \nL 7.328125 8.296875 \nQ 12.9375 14.109375 22.625 23.890625 \nQ 32.328125 33.6875 34.8125 36.53125 \nQ 39.546875 41.84375 41.421875 45.53125 \nQ 43.3125 49.21875 43.3125 52.78125 \nQ 43.3125 58.59375 39.234375 62.25 \nQ 35.15625 65.921875 28.609375 65.921875 \nQ 23.96875 65.921875 18.8125 64.3125 \nQ 13.671875 62.703125 7.8125 59.421875 \nL 7.8125 69.390625 \nQ 13.765625 71.78125 18.9375 73 \nQ 24.125 74.21875 28.421875 74.21875 \nQ 39.75 74.21875 46.484375 68.546875 \nQ 53.21875 62.890625 53.21875 53.421875 \nQ 53.21875 48.921875 51.53125 44.890625 \nQ 49.859375 40.875 45.40625 35.40625 \nQ 44.1875 33.984375 37.640625 27.21875 \nQ 31.109375 20.453125 19.1875 8.296875 \nz\n\" id=\"DejaVuSans-50\"/>\n      </defs>\n      <g transform=\"translate(159.86 239.640156)scale(0.1 -0.1)\">\n       <use xlink:href=\"#DejaVuSans-50\"/>\n       <use x=\"63.623047\" xlink:href=\"#DejaVuSans-48\"/>\n      </g>\n     </g>\n    </g>\n    <g id=\"xtick_6\">\n     <g id=\"line2d_6\">\n      <g>\n       <use style=\"stroke:#000000;stroke-width:0.8;\" x=\"200.1975\" xlink:href=\"#m80d0c7483c\" y=\"225.041719\"/>\n      </g>\n     </g>\n     <g id=\"text_6\">\n      <!-- 25 -->\n      <g transform=\"translate(193.835 239.640156)scale(0.1 -0.1)\">\n       <use xlink:href=\"#DejaVuSans-50\"/>\n       <use x=\"63.623047\" xlink:href=\"#DejaVuSans-53\"/>\n      </g>\n     </g>\n    </g>\n    <g id=\"xtick_7\">\n     <g id=\"line2d_7\">\n      <g>\n       <use style=\"stroke:#000000;stroke-width:0.8;\" x=\"234.1725\" xlink:href=\"#m80d0c7483c\" y=\"225.041719\"/>\n      </g>\n     </g>\n     <g id=\"text_7\">\n      <!-- 30 -->\n      <defs>\n       <path d=\"M 40.578125 39.3125 \nQ 47.65625 37.796875 51.625 33 \nQ 55.609375 28.21875 55.609375 21.1875 \nQ 55.609375 10.40625 48.1875 4.484375 \nQ 40.765625 -1.421875 27.09375 -1.421875 \nQ 22.515625 -1.421875 17.65625 -0.515625 \nQ 12.796875 0.390625 7.625 2.203125 \nL 7.625 11.71875 \nQ 11.71875 9.328125 16.59375 8.109375 \nQ 21.484375 6.890625 26.8125 6.890625 \nQ 36.078125 6.890625 40.9375 10.546875 \nQ 45.796875 14.203125 45.796875 21.1875 \nQ 45.796875 27.640625 41.28125 31.265625 \nQ 36.765625 34.90625 28.71875 34.90625 \nL 20.21875 34.90625 \nL 20.21875 43.015625 \nL 29.109375 43.015625 \nQ 36.375 43.015625 40.234375 45.921875 \nQ 44.09375 48.828125 44.09375 54.296875 \nQ 44.09375 59.90625 40.109375 62.90625 \nQ 36.140625 65.921875 28.71875 65.921875 \nQ 24.65625 65.921875 20.015625 65.03125 \nQ 15.375 64.15625 9.8125 62.3125 \nL 9.8125 71.09375 \nQ 15.4375 72.65625 20.34375 73.4375 \nQ 25.25 74.21875 29.59375 74.21875 \nQ 40.828125 74.21875 47.359375 69.109375 \nQ 53.90625 64.015625 53.90625 55.328125 \nQ 53.90625 49.265625 50.4375 45.09375 \nQ 46.96875 40.921875 40.578125 39.3125 \nz\n\" id=\"DejaVuSans-51\"/>\n      </defs>\n      <g transform=\"translate(227.81 239.640156)scale(0.1 -0.1)\">\n       <use xlink:href=\"#DejaVuSans-51\"/>\n       <use x=\"63.623047\" xlink:href=\"#DejaVuSans-48\"/>\n      </g>\n     </g>\n    </g>\n   </g>\n   <g id=\"matplotlib.axis_2\">\n    <g id=\"ytick_1\">\n     <g id=\"line2d_8\">\n      <defs>\n       <path d=\"M 0 0 \nL -3.5 0 \n\" id=\"m98033e451a\" style=\"stroke:#000000;stroke-width:0.8;\"/>\n      </defs>\n      <g>\n       <use style=\"stroke:#000000;stroke-width:0.8;\" x=\"26.925\" xlink:href=\"#m98033e451a\" y=\"10.999219\"/>\n      </g>\n     </g>\n     <g id=\"text_8\">\n      <!-- 0 -->\n      <g transform=\"translate(13.5625 14.798437)scale(0.1 -0.1)\">\n       <use xlink:href=\"#DejaVuSans-48\"/>\n      </g>\n     </g>\n    </g>\n    <g id=\"ytick_2\">\n     <g id=\"line2d_9\">\n      <g>\n       <use style=\"stroke:#000000;stroke-width:0.8;\" x=\"26.925\" xlink:href=\"#m98033e451a\" y=\"44.974219\"/>\n      </g>\n     </g>\n     <g id=\"text_9\">\n      <!-- 5 -->\n      <g transform=\"translate(13.5625 48.773437)scale(0.1 -0.1)\">\n       <use xlink:href=\"#DejaVuSans-53\"/>\n      </g>\n     </g>\n    </g>\n    <g id=\"ytick_3\">\n     <g id=\"line2d_10\">\n      <g>\n       <use style=\"stroke:#000000;stroke-width:0.8;\" x=\"26.925\" xlink:href=\"#m98033e451a\" y=\"78.949219\"/>\n      </g>\n     </g>\n     <g id=\"text_10\">\n      <!-- 10 -->\n      <g transform=\"translate(7.2 82.748437)scale(0.1 -0.1)\">\n       <use xlink:href=\"#DejaVuSans-49\"/>\n       <use x=\"63.623047\" xlink:href=\"#DejaVuSans-48\"/>\n      </g>\n     </g>\n    </g>\n    <g id=\"ytick_4\">\n     <g id=\"line2d_11\">\n      <g>\n       <use style=\"stroke:#000000;stroke-width:0.8;\" x=\"26.925\" xlink:href=\"#m98033e451a\" y=\"112.924219\"/>\n      </g>\n     </g>\n     <g id=\"text_11\">\n      <!-- 15 -->\n      <g transform=\"translate(7.2 116.723437)scale(0.1 -0.1)\">\n       <use xlink:href=\"#DejaVuSans-49\"/>\n       <use x=\"63.623047\" xlink:href=\"#DejaVuSans-53\"/>\n      </g>\n     </g>\n    </g>\n    <g id=\"ytick_5\">\n     <g id=\"line2d_12\">\n      <g>\n       <use style=\"stroke:#000000;stroke-width:0.8;\" x=\"26.925\" xlink:href=\"#m98033e451a\" y=\"146.899219\"/>\n      </g>\n     </g>\n     <g id=\"text_12\">\n      <!-- 20 -->\n      <g transform=\"translate(7.2 150.698437)scale(0.1 -0.1)\">\n       <use xlink:href=\"#DejaVuSans-50\"/>\n       <use x=\"63.623047\" xlink:href=\"#DejaVuSans-48\"/>\n      </g>\n     </g>\n    </g>\n    <g id=\"ytick_6\">\n     <g id=\"line2d_13\">\n      <g>\n       <use style=\"stroke:#000000;stroke-width:0.8;\" x=\"26.925\" xlink:href=\"#m98033e451a\" y=\"180.874219\"/>\n      </g>\n     </g>\n     <g id=\"text_13\">\n      <!-- 25 -->\n      <g transform=\"translate(7.2 184.673437)scale(0.1 -0.1)\">\n       <use xlink:href=\"#DejaVuSans-50\"/>\n       <use x=\"63.623047\" xlink:href=\"#DejaVuSans-53\"/>\n      </g>\n     </g>\n    </g>\n    <g id=\"ytick_7\">\n     <g id=\"line2d_14\">\n      <g>\n       <use style=\"stroke:#000000;stroke-width:0.8;\" x=\"26.925\" xlink:href=\"#m98033e451a\" y=\"214.849219\"/>\n      </g>\n     </g>\n     <g id=\"text_14\">\n      <!-- 30 -->\n      <g transform=\"translate(7.2 218.648437)scale(0.1 -0.1)\">\n       <use xlink:href=\"#DejaVuSans-51\"/>\n       <use x=\"63.623047\" xlink:href=\"#DejaVuSans-48\"/>\n      </g>\n     </g>\n    </g>\n   </g>\n   <g id=\"patch_3\">\n    <path d=\"M 26.925 225.041719 \nL 26.925 7.601719 \n\" style=\"fill:none;stroke:#000000;stroke-linecap:square;stroke-linejoin:miter;stroke-width:0.8;\"/>\n   </g>\n   <g id=\"patch_4\">\n    <path d=\"M 244.365 225.041719 \nL 244.365 7.601719 \n\" style=\"fill:none;stroke:#000000;stroke-linecap:square;stroke-linejoin:miter;stroke-width:0.8;\"/>\n   </g>\n   <g id=\"patch_5\">\n    <path d=\"M 26.925 225.041719 \nL 244.365 225.041719 \n\" style=\"fill:none;stroke:#000000;stroke-linecap:square;stroke-linejoin:miter;stroke-width:0.8;\"/>\n   </g>\n   <g id=\"patch_6\">\n    <path d=\"M 26.925 7.601719 \nL 244.365 7.601719 \n\" style=\"fill:none;stroke:#000000;stroke-linecap:square;stroke-linejoin:miter;stroke-width:0.8;\"/>\n   </g>\n  </g>\n </g>\n <defs>\n  <clipPath id=\"p61c496a28a\">\n   <rect height=\"217.44\" width=\"217.44\" x=\"26.925\" y=\"7.601719\"/>\n  </clipPath>\n </defs>\n</svg>\n",
      "image/png": "[encoded data removed]"
     },
     "metadata": {
      "needs_background": "light"
     }
    }
   ],
   "source": [
    "img, _ = cifar2[0]\n",
    "print(img.shape)\n",
    "print(img.permute(1, 2, 0).shape)\n",
    "print(img.requires_grad)\n",
    "\n",
    "plt.imshow(img.permute(1, 2, 0))\n",
    "plt.show()"
   ]
  },
  {
   "cell_type": "code",
   "execution_count": 14,
   "metadata": {
    "tags": []
   },
   "outputs": [
    {
     "output_type": "stream",
     "name": "stdout",
     "text": "torch.Size([1, 3072])\n"
    }
   ],
   "source": [
    "img_batch = img.view(-1).unsqueeze(0)\n",
    "print(img_batch.shape)"
   ]
  },
  {
   "cell_type": "code",
   "execution_count": 15,
   "metadata": {},
   "outputs": [
    {
     "output_type": "execute_result",
     "data": {
      "text/plain": "tensor([[0.4784, 0.5216]], grad_fn=<SoftmaxBackward>)"
     },
     "metadata": {},
     "execution_count": 15
    }
   ],
   "source": [
    "out = model(img_batch)\n",
    "out"
   ]
  },
  {
   "cell_type": "code",
   "execution_count": 16,
   "metadata": {},
   "outputs": [
    {
     "output_type": "execute_result",
     "data": {
      "text/plain": "tensor([1])"
     },
     "metadata": {},
     "execution_count": 16
    }
   ],
   "source": [
    "_, index = torch.max(out, dim=1)\n",
    "\n",
    "index"
   ]
  },
  {
   "cell_type": "code",
   "execution_count": 17,
   "metadata": {
    "tags": []
   },
   "outputs": [
    {
     "output_type": "stream",
     "name": "stdout",
     "text": "tensor([0.6000, 0.9000, 0.7000, 0.8000])\ntensor([[0.6000, 0.6000, 0.4000, 0.4000],\n        [0.9000, 0.9000, 0.1000, 0.1000],\n        [0.3000, 0.3000, 0.7000, 0.7000],\n        [0.2000, 0.2000, 0.8000, 0.8000]])\n"
    },
    {
     "output_type": "execute_result",
     "data": {
      "text/plain": "tensor([[1., 0.],\n        [1., 0.],\n        [0., 1.],\n        [0., 1.]])"
     },
     "metadata": {},
     "execution_count": 17
    }
   ],
   "source": [
    "out = torch.tensor([\n",
    "    [0.6, 0.4],\n",
    "    [0.9, 0.1],\n",
    "    [0.3, 0.7],\n",
    "    [0.2, 0.8],\n",
    "])\n",
    "class_index = torch.tensor([0, 0, 1, 1]).unsqueeze(1)\n",
    "print(out[[0, 1, 2, 3], [0, 0, 1, 1]])\n",
    "print(out[:, [0, 0, 1, 1]])\n",
    "\n",
    "truth = torch.zeros((4,2))\n",
    "truth.scatter_(dim=1, index=class_index, value=1.0)\n",
    "truth"
   ]
  },
  {
   "cell_type": "code",
   "execution_count": 18,
   "metadata": {},
   "outputs": [
    {
     "output_type": "execute_result",
     "data": {
      "text/plain": "tensor(0.1500)"
     },
     "metadata": {},
     "execution_count": 18
    }
   ],
   "source": [
    "def mse(out):\n",
    "    return ((out - truth) ** 2).sum(dim=1).mean()\n",
    "mse(out)"
   ]
  },
  {
   "cell_type": "code",
   "execution_count": 19,
   "metadata": {},
   "outputs": [
    {
     "output_type": "execute_result",
     "data": {
      "text/plain": "tensor([[0.6000],\n        [0.9000],\n        [0.7000],\n        [0.8000]])"
     },
     "metadata": {},
     "execution_count": 19
    }
   ],
   "source": [
    "out.gather(dim=1, index=class_index)"
   ]
  },
  {
   "cell_type": "code",
   "execution_count": 20,
   "metadata": {
    "tags": []
   },
   "outputs": [
    {
     "output_type": "stream",
     "name": "stdout",
     "text": "0.3024\n"
    },
    {
     "output_type": "execute_result",
     "data": {
      "text/plain": "tensor([0.3024])"
     },
     "metadata": {},
     "execution_count": 20
    }
   ],
   "source": [
    "def likelihood(out):\n",
    "    prod = 1.0\n",
    "    for x in out.gather(dim=1, index=class_index):\n",
    "        prod *= x\n",
    "    return prod\n",
    "\n",
    "print(0.6 * 0.9 * 0.7 * 0.8)\n",
    "likelihood(out)"
   ]
  },
  {
   "cell_type": "code",
   "execution_count": 21,
   "metadata": {},
   "outputs": [
    {
     "output_type": "execute_result",
     "data": {
      "text/plain": "tensor([1.1960])"
     },
     "metadata": {},
     "execution_count": 21
    }
   ],
   "source": [
    "# -----------negative log likelihood(NLL):\n",
    "# It has the expression NLL = - sum(log(out_i[c_i]))\n",
    "def neg_log_likelihood(out):\n",
    "    return -likelihood(out).log()\n",
    "\n",
    "neg_log_likelihood(out)"
   ]
  },
  {
   "cell_type": "code",
   "execution_count": 22,
   "metadata": {},
   "outputs": [
    {
     "output_type": "execute_result",
     "data": {
      "text/plain": "tensor([0.0750, 0.1500, 0.2500, 0.4750])"
     },
     "metadata": {},
     "execution_count": 22
    }
   ],
   "source": [
    "out0 = out.clone().detach()\n",
    "out0[0] = torch.tensor([0.9, 0.1]) # more right\n",
    "\n",
    "out2 = out.clone().detach()\n",
    "out2[0] = torch.tensor([0.4, 0.6]) # slightly wrong\n",
    "\n",
    "out3 = out.clone().detach()\n",
    "out3[0] = torch.tensor([0.1, 0.9]) # very wrong\n",
    "\n",
    "mse_comparison = torch.tensor([mse(o) for o in [out0, out, out2, out3]])\n",
    "mse_comparison"
   ]
  },
  {
   "cell_type": "code",
   "execution_count": 23,
   "metadata": {},
   "outputs": [
    {
     "output_type": "execute_result",
     "data": {
      "text/plain": "tensor([-50.0000,   0.0000,  66.6667, 216.6667])"
     },
     "metadata": {},
     "execution_count": 23
    }
   ],
   "source": [
    "# -----------MSE loss:\n",
    "# 在图7.11中，我们可以看到，当预测偏离目标时，交叉熵损失有一定的斜率（在低损耗角，为正确的分类分配了99.97％的预测概率），而在MSE，开始时就忽略了非常错误的预测，饱和会更早地发生，而且至关重要的是也是如此。 根本原因是，MSE的斜率太低，无法补偿针对错误预测的softmax函数的平坦度。 这就是为什么概率的MSE不适用于分类工作的原因。\n",
    "((mse_comparison / mse_comparison[1]) - 1) * 100"
   ]
  },
  {
   "cell_type": "code",
   "execution_count": 24,
   "metadata": {},
   "outputs": [
    {
     "output_type": "execute_result",
     "data": {
      "text/plain": "tensor([0.7905, 1.1960, 1.6015, 2.9878])"
     },
     "metadata": {},
     "execution_count": 24
    }
   ],
   "source": [
    "# NLL loss\n",
    "nll_comparison = torch.tensor([neg_log_likelihood(o) \n",
    "                               for o in [out0, out, out2, out3]])\n",
    "nll_comparison"
   ]
  },
  {
   "cell_type": "code",
   "execution_count": 25,
   "metadata": {},
   "outputs": [
    {
     "output_type": "execute_result",
     "data": {
      "text/plain": "tensor([-33.9016,   0.0000,  33.9016, 149.8121])"
     },
     "metadata": {},
     "execution_count": 25
    }
   ],
   "source": [
    "((nll_comparison / nll_comparison[1]) - 1) * 100"
   ]
  },
  {
   "cell_type": "code",
   "execution_count": 26,
   "metadata": {},
   "outputs": [
    {
     "output_type": "execute_result",
     "data": {
      "text/plain": "tensor([[0., 1.]])"
     },
     "metadata": {},
     "execution_count": 26
    }
   ],
   "source": [
    "softmax = nn.Softmax(dim=1)\n",
    "\n",
    "log_softmax = nn.LogSoftmax(dim=1)\n",
    "\n",
    "x = torch.tensor([[0.0, 104.0]])\n",
    "\n",
    "softmax(x)"
   ]
  },
  {
   "cell_type": "code",
   "execution_count": 27,
   "metadata": {},
   "outputs": [
    {
     "output_type": "execute_result",
     "data": {
      "text/plain": "tensor([[0., 1.]])"
     },
     "metadata": {},
     "execution_count": 27
    }
   ],
   "source": [
    "softmax = nn.Softmax(dim=1)\n",
    "\n",
    "log_softmax = nn.LogSoftmax(dim=1)\n",
    "\n",
    "x = torch.tensor([[0.0, 104.0]])\n",
    "\n",
    "softmax(x)"
   ]
  },
  {
   "cell_type": "code",
   "execution_count": 28,
   "metadata": {},
   "outputs": [
    {
     "output_type": "execute_result",
     "data": {
      "text/plain": "tensor([[-inf, 0.]])"
     },
     "metadata": {},
     "execution_count": 28
    }
   ],
   "source": [
    "torch.log(softmax(x))"
   ]
  },
  {
   "cell_type": "code",
   "execution_count": 29,
   "metadata": {},
   "outputs": [
    {
     "output_type": "execute_result",
     "data": {
      "text/plain": "tensor([[-104.,    0.]])"
     },
     "metadata": {},
     "execution_count": 29
    }
   ],
   "source": [
    "log_softmax(x)"
   ]
  },
  {
   "cell_type": "code",
   "execution_count": 30,
   "metadata": {},
   "outputs": [
    {
     "output_type": "execute_result",
     "data": {
      "text/plain": "tensor([[0., 1.]])"
     },
     "metadata": {},
     "execution_count": 30
    }
   ],
   "source": [
    "torch.exp(log_softmax(x))"
   ]
  },
  {
   "cell_type": "code",
   "execution_count": 31,
   "metadata": {},
   "outputs": [],
   "source": [
    "model = nn.Sequential(\n",
    "            nn.Linear(3072, 512),\n",
    "            nn.Tanh(),\n",
    "            nn.Linear(512, 2),\n",
    "            nn.LogSoftmax(dim=1))"
   ]
  },
  {
   "cell_type": "code",
   "execution_count": 32,
   "metadata": {},
   "outputs": [],
   "source": [
    "# -----------nn.NLLLoss：\n",
    "# it does not take probabilities but rather takes a tensor of log probabilities as input.\n",
    "# 它的输入约定背后有一个很好的理由：当概率接近零时，获取概率的对数是很棘手的。 解决方法是使用nn.LogSoftmax而不是nn.Softmax，这要使计算数值稳定。\n",
    "\n",
    "# -----------交叉熵计算：\n",
    "# logSoftmax(x) =\n",
    "#          [[x1_logsm_label1, x1_logsm_label2, ...],\n",
    "#                       ...,\n",
    "#           [xn_logsm_label1, xn_logsm_label2, ...]]\n",
    "# \n",
    "# target = [x1_true_label,\n",
    "#               ...,\n",
    "#           xn_true_label]\n",
    "# \n",
    "# out = nn.LogSoftmax(dim=1)(x)\n",
    "# out = nn.NLLLoss()(out, target)\n",
    "loss = nn.NLLLoss()"
   ]
  },
  {
   "cell_type": "code",
   "execution_count": 33,
   "metadata": {
    "tags": []
   },
   "outputs": [
    {
     "output_type": "stream",
     "name": "stdout",
     "text": "tensor([[-0.9211, -0.5077]], grad_fn=<LogSoftmaxBackward>) 1\n10000\n"
    },
    {
     "output_type": "execute_result",
     "data": {
      "text/plain": "tensor(0.5077, grad_fn=<NllLossBackward>)"
     },
     "metadata": {},
     "execution_count": 33
    }
   ],
   "source": [
    "img, label = cifar2[0]\n",
    "\n",
    "out = model(img.view(-1).unsqueeze(0))\n",
    "print(out, label)\n",
    "print(len(cifar2))\n",
    "\n",
    "loss(out, torch.tensor([label]))"
   ]
  },
  {
   "cell_type": "code",
   "execution_count": 41,
   "metadata": {
    "tags": []
   },
   "outputs": [
    {
     "output_type": "stream",
     "name": "stdout",
     "text": "Epoch: 0, Loss: 8.504663\nEpoch: 1, Loss: 4.863072\nEpoch: 2, Loss: 5.107162\nEpoch: 3, Loss: 9.041813\nEpoch: 4, Loss: 5.057918\nEpoch: 5, Loss: 10.196898\nEpoch: 6, Loss: 3.899864\nEpoch: 7, Loss: 6.083263\nEpoch: 8, Loss: 6.799435\nEpoch: 9, Loss: 11.753166\nEpoch: 10, Loss: 10.532894\nEpoch: 11, Loss: 2.975142\nEpoch: 12, Loss: 6.763713\nEpoch: 13, Loss: 4.038625\nEpoch: 14, Loss: 6.043227\nEpoch: 15, Loss: 0.972028\nEpoch: 16, Loss: 4.059655\nEpoch: 17, Loss: 3.632610\nEpoch: 18, Loss: 11.354353\nEpoch: 19, Loss: 8.461744\nEpoch: 20, Loss: 5.849610\nEpoch: 21, Loss: 0.040118\nEpoch: 22, Loss: 0.007063\nEpoch: 23, Loss: 8.363232\nEpoch: 24, Loss: 7.303123\nEpoch: 25, Loss: 0.876009\nEpoch: 26, Loss: 10.616013\nEpoch: 27, Loss: 1.394941\nEpoch: 28, Loss: 13.046523\nEpoch: 29, Loss: 9.538383\nEpoch: 30, Loss: 9.064582\n"
    },
    {
     "output_type": "error",
     "ename": "KeyboardInterrupt",
     "evalue": "",
     "traceback": [
      "\u001b[0;31m---------------------------------------------------------------------------\u001b[0m",
      "\u001b[0;31mKeyboardInterrupt\u001b[0m                         Traceback (most recent call last)",
      "\u001b[0;32m<ipython-input-41-a4af01c22870>\u001b[0m in \u001b[0;36m<module>\u001b[0;34m\u001b[0m\n\u001b[1;32m     31\u001b[0m \u001b[0;34m\u001b[0m\u001b[0m\n\u001b[1;32m     32\u001b[0m         \u001b[0moptimizer\u001b[0m\u001b[0;34m.\u001b[0m\u001b[0mzero_grad\u001b[0m\u001b[0;34m(\u001b[0m\u001b[0;34m)\u001b[0m\u001b[0;34m\u001b[0m\u001b[0;34m\u001b[0m\u001b[0m\n\u001b[0;32m---> 33\u001b[0;31m         \u001b[0mloss\u001b[0m\u001b[0;34m.\u001b[0m\u001b[0mbackward\u001b[0m\u001b[0;34m(\u001b[0m\u001b[0;34m)\u001b[0m\u001b[0;34m\u001b[0m\u001b[0;34m\u001b[0m\u001b[0m\n\u001b[0m\u001b[1;32m     34\u001b[0m         \u001b[0moptimizer\u001b[0m\u001b[0;34m.\u001b[0m\u001b[0mstep\u001b[0m\u001b[0;34m(\u001b[0m\u001b[0;34m)\u001b[0m\u001b[0;34m\u001b[0m\u001b[0;34m\u001b[0m\u001b[0m\n\u001b[1;32m     35\u001b[0m \u001b[0;34m\u001b[0m\u001b[0m\n",
      "\u001b[0;32m~/anaconda3/envs/pytorch_env/lib/python3.8/site-packages/torch/tensor.py\u001b[0m in \u001b[0;36mbackward\u001b[0;34m(self, gradient, retain_graph, create_graph)\u001b[0m\n\u001b[1;32m    196\u001b[0m                 \u001b[0mproducts\u001b[0m\u001b[0;34m.\u001b[0m \u001b[0mDefaults\u001b[0m \u001b[0mto\u001b[0m\u001b[0;31m \u001b[0m\u001b[0;31m`\u001b[0m\u001b[0;31m`\u001b[0m\u001b[0;32mFalse\u001b[0m\u001b[0;31m`\u001b[0m\u001b[0;31m`\u001b[0m\u001b[0;34m.\u001b[0m\u001b[0;34m\u001b[0m\u001b[0;34m\u001b[0m\u001b[0m\n\u001b[1;32m    197\u001b[0m         \"\"\"\n\u001b[0;32m--> 198\u001b[0;31m         \u001b[0mtorch\u001b[0m\u001b[0;34m.\u001b[0m\u001b[0mautograd\u001b[0m\u001b[0;34m.\u001b[0m\u001b[0mbackward\u001b[0m\u001b[0;34m(\u001b[0m\u001b[0mself\u001b[0m\u001b[0;34m,\u001b[0m \u001b[0mgradient\u001b[0m\u001b[0;34m,\u001b[0m \u001b[0mretain_graph\u001b[0m\u001b[0;34m,\u001b[0m \u001b[0mcreate_graph\u001b[0m\u001b[0;34m)\u001b[0m\u001b[0;34m\u001b[0m\u001b[0;34m\u001b[0m\u001b[0m\n\u001b[0m\u001b[1;32m    199\u001b[0m \u001b[0;34m\u001b[0m\u001b[0m\n\u001b[1;32m    200\u001b[0m     \u001b[0;32mdef\u001b[0m \u001b[0mregister_hook\u001b[0m\u001b[0;34m(\u001b[0m\u001b[0mself\u001b[0m\u001b[0;34m,\u001b[0m \u001b[0mhook\u001b[0m\u001b[0;34m)\u001b[0m\u001b[0;34m:\u001b[0m\u001b[0;34m\u001b[0m\u001b[0;34m\u001b[0m\u001b[0m\n",
      "\u001b[0;32m~/anaconda3/envs/pytorch_env/lib/python3.8/site-packages/torch/autograd/__init__.py\u001b[0m in \u001b[0;36mbackward\u001b[0;34m(tensors, grad_tensors, retain_graph, create_graph, grad_variables)\u001b[0m\n\u001b[1;32m     96\u001b[0m         \u001b[0mretain_graph\u001b[0m \u001b[0;34m=\u001b[0m \u001b[0mcreate_graph\u001b[0m\u001b[0;34m\u001b[0m\u001b[0;34m\u001b[0m\u001b[0m\n\u001b[1;32m     97\u001b[0m \u001b[0;34m\u001b[0m\u001b[0m\n\u001b[0;32m---> 98\u001b[0;31m     Variable._execution_engine.run_backward(\n\u001b[0m\u001b[1;32m     99\u001b[0m         \u001b[0mtensors\u001b[0m\u001b[0;34m,\u001b[0m \u001b[0mgrad_tensors\u001b[0m\u001b[0;34m,\u001b[0m \u001b[0mretain_graph\u001b[0m\u001b[0;34m,\u001b[0m \u001b[0mcreate_graph\u001b[0m\u001b[0;34m,\u001b[0m\u001b[0;34m\u001b[0m\u001b[0;34m\u001b[0m\u001b[0m\n\u001b[1;32m    100\u001b[0m         allow_unreachable=True)  # allow_unreachable flag\n",
      "\u001b[0;31mKeyboardInterrupt\u001b[0m: "
     ]
    }
   ],
   "source": [
    "import torch\n",
    "import torch.nn as nn\n",
    "import torch.optim as optim\n",
    "from torch.autograd import Variable\n",
    "\n",
    "\n",
    "model = nn.Sequential(\n",
    "            nn.Linear(3072, 512),\n",
    "            nn.Tanh(),\n",
    "            nn.Linear(512, 2),\n",
    "            nn.LogSoftmax(dim=1))\n",
    "\n",
    "model.cuda(4)\n",
    "\n",
    "learning_rate = 1e-2\n",
    "\n",
    "optimizer = optim.SGD(model.parameters(), lr=learning_rate)\n",
    "\n",
    "loss_fn = nn.NLLLoss().cuda(4)\n",
    "\n",
    "n_epochs = 100\n",
    "\n",
    "# -----------updating the model at each sample:\n",
    "# in this case we apply changes to parameters based on a very partial estimation of the gradient on a single sample.\n",
    "# However, what is a good direction for reducing the loss based on one sample might not be a good direction for others.\n",
    "for epoch in range(n_epochs):\n",
    "    for img, label in cifar2:\n",
    "        img, label = img.cuda(4), torch.tensor([label]).cuda(4)\n",
    "        out = model(img.view(-1).unsqueeze(0))\n",
    "        loss = loss_fn(out, label)\n",
    "                \n",
    "        optimizer.zero_grad()\n",
    "        loss.backward()\n",
    "        optimizer.step()\n",
    "    if epoch % 5 == 0:\n",
    "        print(\"Epoch: %d, Loss: %f\" % (epoch, float(loss)))\n"
   ]
  },
  {
   "cell_type": "code",
   "execution_count": 38,
   "metadata": {},
   "outputs": [],
   "source": [
    "train_loader = torch.utils.data.DataLoader(cifar2, batch_size=64,\n",
    "                                           shuffle=True)"
   ]
  },
  {
   "cell_type": "code",
   "execution_count": 43,
   "metadata": {
    "tags": []
   },
   "outputs": [
    {
     "output_type": "stream",
     "name": "stdout",
     "text": "Epoch: 0, Loss: 0.460739\nEpoch: 5, Loss: 0.479630\nEpoch: 10, Loss: 0.374415\nEpoch: 15, Loss: 0.160992\nEpoch: 20, Loss: 0.266349\nEpoch: 25, Loss: 0.402808\nEpoch: 30, Loss: 0.291886\nEpoch: 35, Loss: 0.151352\nEpoch: 40, Loss: 0.069002\nEpoch: 45, Loss: 0.115923\nEpoch: 50, Loss: 0.232727\nEpoch: 55, Loss: 0.077621\nEpoch: 60, Loss: 0.033185\nEpoch: 65, Loss: 0.090142\nEpoch: 70, Loss: 0.045739\nEpoch: 75, Loss: 0.014939\nEpoch: 80, Loss: 0.041031\nEpoch: 85, Loss: 0.011622\nEpoch: 90, Loss: 0.013821\nEpoch: 95, Loss: 0.011822\n"
    }
   ],
   "source": [
    "import torch\n",
    "import torch.nn as nn\n",
    "import torch.optim as optim\n",
    "\n",
    "# imgs is a tensor of size 64 × 3 × 32 × 32\n",
    "# -----------SGD(stochastic gradient descent):\n",
    "# SGD代表随机梯度下降，处理少量的小批量的shuffled数据。事实证明，在微型批处理上估计的梯度比在整个数据集上估计的梯度较差，但它有助于收敛并防止优化过程陷入其在过程中遇到的局部最小值。\n",
    "# 如图7.13所示，小批处理产生的梯度随机偏离理想轨迹，这就是我们要使用合理的小学习率的部分原因。\n",
    "# 在每个时期对数据集进行shuffle(即随机抽样)有助于确保在小批量上估计的梯度代表整个数据集上计算出的梯度。\n",
    "train_loader = torch.utils.data.DataLoader(cifar2, batch_size=64,\n",
    "                                           shuffle=True)\n",
    "\n",
    "model = nn.Sequential(\n",
    "            nn.Linear(3072, 128),\n",
    "            nn.Tanh(),\n",
    "            nn.Linear(128, 2),\n",
    "            nn.LogSoftmax(dim=1)).cuda(4)\n",
    "\n",
    "learning_rate = 1e-2\n",
    "\n",
    "optimizer = optim.SGD(model.parameters(), lr=learning_rate)\n",
    "\n",
    "loss_fn = nn.NLLLoss().cuda(4)\n",
    "\n",
    "n_epochs = 100\n",
    "\n",
    "for epoch in range(n_epochs):\n",
    "    for imgs, labels in train_loader:\n",
    "        imgs, labels = Variable(imgs.cuda(4)), Variable(labels.cuda(4))\n",
    "        outputs = model(imgs.view(imgs.shape[0], -1))\n",
    "        loss = loss_fn(outputs, labels)\n",
    "\n",
    "        optimizer.zero_grad()\n",
    "        loss.backward()\n",
    "        optimizer.step()\n",
    "    if epoch % 5 == 0:\n",
    "        print(\"Epoch: %d, Loss: %f\" % (epoch, float(loss)))"
   ]
  },
  {
   "cell_type": "code",
   "execution_count": 36,
   "metadata": {},
   "outputs": [
    {
     "name": "stdout",
     "output_type": "stream",
     "text": [
      "Epoch: 0, Loss: 0.732168\n",
      "Epoch: 1, Loss: 0.348352\n",
      "Epoch: 2, Loss: 0.318960\n",
      "Epoch: 3, Loss: 0.313264\n",
      "Epoch: 4, Loss: 0.378358\n",
      "Epoch: 5, Loss: 0.276529\n",
      "Epoch: 6, Loss: 0.443889\n",
      "Epoch: 7, Loss: 0.436946\n",
      "Epoch: 8, Loss: 0.324288\n",
      "Epoch: 9, Loss: 0.274647\n",
      "Epoch: 10, Loss: 0.291681\n",
      "Epoch: 11, Loss: 0.242894\n",
      "Epoch: 12, Loss: 0.301849\n",
      "Epoch: 13, Loss: 0.202063\n",
      "Epoch: 14, Loss: 0.389276\n",
      "Epoch: 15, Loss: 0.167129\n",
      "Epoch: 16, Loss: 0.135282\n",
      "Epoch: 17, Loss: 0.385485\n",
      "Epoch: 18, Loss: 0.453852\n",
      "Epoch: 19, Loss: 0.641304\n",
      "Epoch: 20, Loss: 0.287667\n",
      "Epoch: 21, Loss: 0.337029\n",
      "Epoch: 22, Loss: 0.393282\n",
      "Epoch: 23, Loss: 0.409480\n",
      "Epoch: 24, Loss: 0.138473\n",
      "Epoch: 25, Loss: 0.690729\n",
      "Epoch: 26, Loss: 0.572156\n",
      "Epoch: 27, Loss: 0.078534\n",
      "Epoch: 28, Loss: 0.324833\n",
      "Epoch: 29, Loss: 0.262829\n",
      "Epoch: 30, Loss: 0.430449\n",
      "Epoch: 31, Loss: 0.071872\n",
      "Epoch: 32, Loss: 0.058039\n",
      "Epoch: 33, Loss: 0.052903\n",
      "Epoch: 34, Loss: 0.065879\n",
      "Epoch: 35, Loss: 0.107696\n",
      "Epoch: 36, Loss: 0.305224\n",
      "Epoch: 37, Loss: 0.098637\n",
      "Epoch: 38, Loss: 0.139823\n",
      "Epoch: 39, Loss: 0.226455\n",
      "Epoch: 40, Loss: 0.117763\n",
      "Epoch: 41, Loss: 0.106498\n",
      "Epoch: 42, Loss: 0.086254\n",
      "Epoch: 43, Loss: 0.135652\n",
      "Epoch: 44, Loss: 0.070890\n",
      "Epoch: 45, Loss: 0.304346\n",
      "Epoch: 46, Loss: 0.016917\n",
      "Epoch: 47, Loss: 0.057929\n",
      "Epoch: 48, Loss: 0.131021\n",
      "Epoch: 49, Loss: 0.136299\n",
      "Epoch: 50, Loss: 0.048885\n",
      "Epoch: 51, Loss: 0.241048\n",
      "Epoch: 52, Loss: 0.092595\n",
      "Epoch: 53, Loss: 0.059137\n",
      "Epoch: 54, Loss: 0.047421\n",
      "Epoch: 55, Loss: 0.102036\n",
      "Epoch: 56, Loss: 0.023338\n",
      "Epoch: 57, Loss: 0.054306\n",
      "Epoch: 58, Loss: 0.073878\n",
      "Epoch: 59, Loss: 0.031387\n",
      "Epoch: 60, Loss: 0.039865\n",
      "Epoch: 61, Loss: 0.022344\n",
      "Epoch: 62, Loss: 0.052310\n",
      "Epoch: 63, Loss: 0.059688\n",
      "Epoch: 64, Loss: 0.023977\n",
      "Epoch: 65, Loss: 0.010632\n",
      "Epoch: 66, Loss: 0.039090\n",
      "Epoch: 67, Loss: 0.080844\n",
      "Epoch: 68, Loss: 0.029650\n",
      "Epoch: 69, Loss: 0.027038\n",
      "Epoch: 70, Loss: 0.028515\n",
      "Epoch: 71, Loss: 0.021998\n",
      "Epoch: 72, Loss: 0.014992\n",
      "Epoch: 73, Loss: 0.019659\n",
      "Epoch: 74, Loss: 0.025150\n",
      "Epoch: 75, Loss: 0.017384\n",
      "Epoch: 76, Loss: 0.013249\n",
      "Epoch: 77, Loss: 0.009451\n",
      "Epoch: 78, Loss: 0.034637\n",
      "Epoch: 79, Loss: 0.114242\n",
      "Epoch: 80, Loss: 0.019007\n",
      "Epoch: 81, Loss: 0.016319\n",
      "Epoch: 82, Loss: 0.027428\n",
      "Epoch: 83, Loss: 0.022366\n",
      "Epoch: 84, Loss: 0.022583\n",
      "Epoch: 85, Loss: 0.006275\n",
      "Epoch: 86, Loss: 0.011964\n",
      "Epoch: 87, Loss: 0.018711\n",
      "Epoch: 88, Loss: 0.019636\n",
      "Epoch: 89, Loss: 0.018975\n",
      "Epoch: 90, Loss: 0.023520\n",
      "Epoch: 91, Loss: 0.016398\n",
      "Epoch: 92, Loss: 0.006638\n",
      "Epoch: 93, Loss: 0.013305\n",
      "Epoch: 94, Loss: 0.017126\n",
      "Epoch: 95, Loss: 0.021641\n",
      "Epoch: 96, Loss: 0.036945\n",
      "Epoch: 97, Loss: 0.004735\n",
      "Epoch: 98, Loss: 0.016781\n",
      "Epoch: 99, Loss: 0.012039\n"
     ]
    }
   ],
   "source": [
    "import torch\n",
    "import torch.nn as nn\n",
    "import torch.optim as optim\n",
    "\n",
    "train_loader = torch.utils.data.DataLoader(cifar2, batch_size=64,\n",
    "                                           shuffle=True)\n",
    "\n",
    "model = nn.Sequential(\n",
    "            nn.Linear(3072, 512),\n",
    "            nn.Tanh(),\n",
    "            nn.Linear(512, 2),\n",
    "            nn.LogSoftmax(dim=1))\n",
    "\n",
    "learning_rate = 1e-2\n",
    "\n",
    "optimizer = optim.SGD(model.parameters(), lr=learning_rate)\n",
    "\n",
    "loss_fn = nn.NLLLoss()\n",
    "\n",
    "n_epochs = 100\n",
    "\n",
    "for epoch in range(n_epochs):\n",
    "    for imgs, labels in train_loader:\n",
    "        outputs = model(imgs.view(imgs.shape[0], -1))\n",
    "        loss = loss_fn(outputs, labels)\n",
    "\n",
    "        optimizer.zero_grad()\n",
    "        loss.backward()\n",
    "        optimizer.step()\n",
    "\n",
    "    print(\"Epoch: %d, Loss: %f\" % (epoch, float(loss)))"
   ]
  },
  {
   "cell_type": "code",
   "execution_count": 37,
   "metadata": {},
   "outputs": [
    {
     "name": "stdout",
     "output_type": "stream",
     "text": [
      "Accuracy: 0.997700\n"
     ]
    }
   ],
   "source": [
    "train_loader = torch.utils.data.DataLoader(cifar2, batch_size=64,\n",
    "                                           shuffle=False)\n",
    "\n",
    "correct = 0\n",
    "total = 0\n",
    "\n",
    "with torch.no_grad():\n",
    "    for imgs, labels in train_loader:\n",
    "        outputs = model(imgs.view(imgs.shape[0], -1))\n",
    "        _, predicted = torch.max(outputs, dim=1)\n",
    "        total += labels.shape[0]\n",
    "        correct += int((predicted == labels).sum())\n",
    "        \n",
    "print(\"Accuracy: %f\" % (correct / total))"
   ]
  },
  {
   "cell_type": "code",
   "execution_count": 38,
   "metadata": {},
   "outputs": [
    {
     "name": "stdout",
     "output_type": "stream",
     "text": [
      "Accuracy: 0.821000\n"
     ]
    }
   ],
   "source": [
    "val_loader = torch.utils.data.DataLoader(cifar2_val, batch_size=64,\n",
    "                                         shuffle=False)\n",
    "\n",
    "correct = 0\n",
    "total = 0\n",
    "\n",
    "with torch.no_grad():\n",
    "    for imgs, labels in val_loader:\n",
    "        outputs = model(imgs.view(imgs.shape[0], -1))\n",
    "        _, predicted = torch.max(outputs, dim=1)\n",
    "        total += labels.shape[0]\n",
    "        correct += int((predicted == labels).sum())\n",
    "        \n",
    "print(\"Accuracy: %f\" % (correct / total))"
   ]
  },
  {
   "cell_type": "code",
   "execution_count": 39,
   "metadata": {},
   "outputs": [],
   "source": [
    "# 在这里，我们尝试在输出端更平缓地逐渐减少特征数量，希望中间层能够在越来越短的中间输出中更好地压缩信息。\n",
    "model = nn.Sequential(\n",
    "            nn.Linear(3072, 1024),\n",
    "            nn.Tanh(),\n",
    "            nn.Linear(1024, 512),\n",
    "            nn.Tanh(),\n",
    "            nn.Linear(512, 128),\n",
    "            nn.Tanh(),\n",
    "            nn.Linear(128, 2),\n",
    "            nn.LogSoftmax(dim=1))"
   ]
  },
  {
   "cell_type": "code",
   "execution_count": 40,
   "metadata": {},
   "outputs": [],
   "source": [
    "# The combination of nn.LogSoftmax and nn.NLLLoss is equivalent to using nn.CrossEntropyLoss. \n",
    "model = nn.Sequential(\n",
    "            nn.Linear(3072, 1024),\n",
    "            nn.Tanh(),\n",
    "            nn.Linear(1024, 512),\n",
    "            nn.Tanh(),\n",
    "            nn.Linear(512, 128),\n",
    "            nn.Tanh(),\n",
    "            nn.Linear(128, 2))\n",
    "\n",
    "loss_fn = nn.CrossEntropyLoss()"
   ]
  },
  {
   "cell_type": "code",
   "execution_count": 41,
   "metadata": {},
   "outputs": [
    {
     "name": "stdout",
     "output_type": "stream",
     "text": [
      "Epoch: 0, Loss: 0.641261\n",
      "Epoch: 1, Loss: 0.525149\n",
      "Epoch: 2, Loss: 0.466143\n",
      "Epoch: 3, Loss: 0.451913\n",
      "Epoch: 4, Loss: 0.343860\n",
      "Epoch: 5, Loss: 0.309738\n",
      "Epoch: 6, Loss: 0.485261\n",
      "Epoch: 7, Loss: 0.283789\n",
      "Epoch: 8, Loss: 0.301561\n",
      "Epoch: 9, Loss: 0.408200\n",
      "Epoch: 10, Loss: 0.346715\n",
      "Epoch: 11, Loss: 0.358134\n",
      "Epoch: 12, Loss: 0.388485\n",
      "Epoch: 13, Loss: 0.378096\n",
      "Epoch: 14, Loss: 0.518019\n",
      "Epoch: 15, Loss: 0.359279\n",
      "Epoch: 16, Loss: 0.420371\n",
      "Epoch: 17, Loss: 0.366249\n",
      "Epoch: 18, Loss: 0.282639\n",
      "Epoch: 19, Loss: 0.468854\n",
      "Epoch: 20, Loss: 0.467920\n",
      "Epoch: 21, Loss: 0.237441\n",
      "Epoch: 22, Loss: 0.243472\n",
      "Epoch: 23, Loss: 0.566929\n",
      "Epoch: 24, Loss: 0.316143\n",
      "Epoch: 25, Loss: 0.336322\n",
      "Epoch: 26, Loss: 0.473064\n",
      "Epoch: 27, Loss: 0.407040\n",
      "Epoch: 28, Loss: 0.252989\n",
      "Epoch: 29, Loss: 0.195740\n",
      "Epoch: 30, Loss: 0.663084\n",
      "Epoch: 31, Loss: 0.659899\n",
      "Epoch: 32, Loss: 0.285113\n",
      "Epoch: 33, Loss: 0.212042\n",
      "Epoch: 34, Loss: 0.324017\n",
      "Epoch: 35, Loss: 0.097063\n",
      "Epoch: 36, Loss: 0.181754\n",
      "Epoch: 37, Loss: 0.091362\n",
      "Epoch: 38, Loss: 0.069348\n",
      "Epoch: 39, Loss: 0.085656\n",
      "Epoch: 40, Loss: 0.163399\n",
      "Epoch: 41, Loss: 0.064912\n",
      "Epoch: 42, Loss: 0.046740\n",
      "Epoch: 43, Loss: 0.029891\n",
      "Epoch: 44, Loss: 0.018157\n",
      "Epoch: 45, Loss: 0.103532\n",
      "Epoch: 46, Loss: 0.161911\n",
      "Epoch: 47, Loss: 0.238185\n",
      "Epoch: 48, Loss: 0.081116\n",
      "Epoch: 49, Loss: 0.040988\n",
      "Epoch: 50, Loss: 0.008668\n",
      "Epoch: 51, Loss: 0.012557\n",
      "Epoch: 52, Loss: 0.015967\n",
      "Epoch: 53, Loss: 0.020964\n",
      "Epoch: 54, Loss: 0.023478\n",
      "Epoch: 55, Loss: 0.012850\n",
      "Epoch: 56, Loss: 0.054703\n",
      "Epoch: 57, Loss: 0.014922\n",
      "Epoch: 58, Loss: 0.045488\n",
      "Epoch: 59, Loss: 0.122221\n",
      "Epoch: 60, Loss: 0.028012\n",
      "Epoch: 61, Loss: 0.029533\n",
      "Epoch: 62, Loss: 0.004758\n",
      "Epoch: 63, Loss: 0.080409\n",
      "Epoch: 64, Loss: 0.005409\n",
      "Epoch: 65, Loss: 0.020399\n",
      "Epoch: 66, Loss: 0.008184\n",
      "Epoch: 67, Loss: 0.013888\n",
      "Epoch: 68, Loss: 0.002199\n",
      "Epoch: 69, Loss: 0.001918\n",
      "Epoch: 70, Loss: 0.018765\n",
      "Epoch: 71, Loss: 0.004223\n",
      "Epoch: 72, Loss: 0.001795\n",
      "Epoch: 73, Loss: 0.102238\n",
      "Epoch: 74, Loss: 0.002482\n",
      "Epoch: 75, Loss: 0.005807\n",
      "Epoch: 76, Loss: 0.001742\n",
      "Epoch: 77, Loss: 0.012760\n",
      "Epoch: 78, Loss: 0.017469\n",
      "Epoch: 79, Loss: 0.002849\n",
      "Epoch: 80, Loss: 0.001452\n",
      "Epoch: 81, Loss: 0.002740\n",
      "Epoch: 82, Loss: 0.003317\n",
      "Epoch: 83, Loss: 0.002066\n",
      "Epoch: 84, Loss: 0.001952\n",
      "Epoch: 85, Loss: 0.010757\n",
      "Epoch: 86, Loss: 0.004866\n",
      "Epoch: 87, Loss: 0.003957\n",
      "Epoch: 88, Loss: 0.001295\n",
      "Epoch: 89, Loss: 0.004410\n",
      "Epoch: 90, Loss: 0.002952\n",
      "Epoch: 91, Loss: 0.000676\n",
      "Epoch: 92, Loss: 0.001835\n",
      "Epoch: 93, Loss: 0.000739\n",
      "Epoch: 94, Loss: 0.001102\n",
      "Epoch: 95, Loss: 0.000792\n",
      "Epoch: 96, Loss: 0.000515\n",
      "Epoch: 97, Loss: 0.001548\n",
      "Epoch: 98, Loss: 0.026913\n",
      "Epoch: 99, Loss: 0.000140\n"
     ]
    }
   ],
   "source": [
    "import torch\n",
    "import torch.nn as nn\n",
    "import torch.optim as optim\n",
    "\n",
    "train_loader = torch.utils.data.DataLoader(cifar2, batch_size=64,\n",
    "                                           shuffle=True)\n",
    "\n",
    "model = nn.Sequential(\n",
    "            nn.Linear(3072, 1024),\n",
    "            nn.Tanh(),\n",
    "            nn.Linear(1024, 512),\n",
    "            nn.Tanh(),\n",
    "            nn.Linear(512, 128),\n",
    "            nn.Tanh(),\n",
    "            nn.Linear(128, 2))\n",
    "\n",
    "learning_rate = 1e-2\n",
    "\n",
    "optimizer = optim.SGD(model.parameters(), lr=learning_rate)\n",
    "\n",
    "loss_fn = nn.CrossEntropyLoss()\n",
    "\n",
    "n_epochs = 100\n",
    "\n",
    "for epoch in range(n_epochs):\n",
    "    for imgs, labels in train_loader:\n",
    "        outputs = model(imgs.view(imgs.shape[0], -1))\n",
    "        loss = loss_fn(outputs, labels)\n",
    "\n",
    "        optimizer.zero_grad()\n",
    "        loss.backward()\n",
    "        optimizer.step()\n",
    "\n",
    "    print(\"Epoch: %d, Loss: %f\" % (epoch, float(loss)))"
   ]
  },
  {
   "cell_type": "code",
   "execution_count": 42,
   "metadata": {},
   "outputs": [
    {
     "name": "stdout",
     "output_type": "stream",
     "text": [
      "Accuracy: 0.999700\n"
     ]
    }
   ],
   "source": [
    "# 在验证集上对已训练的model进行验证：过拟合\n",
    "train_loader = torch.utils.data.DataLoader(cifar2, batch_size=64,\n",
    "                                           shuffle=False)\n",
    "\n",
    "correct = 0\n",
    "total = 0\n",
    "\n",
    "with torch.no_grad():\n",
    "    for imgs, labels in train_loader:\n",
    "        outputs = model(imgs.view(imgs.shape[0], -1))\n",
    "        _, predicted = torch.max(outputs, dim=1)\n",
    "        total += labels.shape[0]\n",
    "        correct += int((predicted == labels).sum())\n",
    "        \n",
    "print(\"Accuracy: %f\" % (correct / total))"
   ]
  },
  {
   "cell_type": "code",
   "execution_count": 43,
   "metadata": {},
   "outputs": [
    {
     "name": "stdout",
     "output_type": "stream",
     "text": [
      "Accuracy: 0.801000\n"
     ]
    }
   ],
   "source": [
    "# 在验证集上对已训练的model进行验证：过拟合\n",
    "val_loader = torch.utils.data.DataLoader(cifar2_val, batch_size=64,\n",
    "                                         shuffle=False)\n",
    "\n",
    "correct = 0\n",
    "total = 0\n",
    "\n",
    "with torch.no_grad():\n",
    "    for imgs, labels in val_loader:\n",
    "        outputs = model(imgs.view(imgs.shape[0], -1))\n",
    "        _, predicted = torch.max(outputs, dim=1)\n",
    "        total += labels.shape[0]\n",
    "        correct += int((predicted == labels).sum())\n",
    "        \n",
    "print(\"Accuracy: %f\" % (correct / total))"
   ]
  },
  {
   "cell_type": "code",
   "execution_count": 44,
   "metadata": {},
   "outputs": [
    {
     "data": {
      "text/plain": [
       "3737474"
      ]
     },
     "execution_count": 44,
     "metadata": {},
     "output_type": "execute_result"
    }
   ],
   "source": [
    "# numel()：返回数组中元素的个数\n",
    "sum([p.numel() for p in model.parameters()])"
   ]
  },
  {
   "cell_type": "code",
   "execution_count": 45,
   "metadata": {},
   "outputs": [
    {
     "data": {
      "text/plain": [
       "3737474"
      ]
     },
     "execution_count": 45,
     "metadata": {},
     "output_type": "execute_result"
    }
   ],
   "source": [
    "#  We might want to differentiate the number of trainable parameters from the overall model size. \n",
    "sum([p.numel() for p in model.parameters() if p.requires_grad == True])"
   ]
  },
  {
   "cell_type": "code",
   "execution_count": 46,
   "metadata": {},
   "outputs": [
    {
     "data": {
      "text/plain": [
       "1574402"
      ]
     },
     "execution_count": 46,
     "metadata": {},
     "output_type": "execute_result"
    }
   ],
   "source": [
    "first_model = nn.Sequential(\n",
    "                nn.Linear(3072, 512),\n",
    "                nn.Tanh(),\n",
    "                nn.Linear(512, 2),\n",
    "                nn.LogSoftmax(dim=1))\n",
    "\n",
    "sum([p.numel() for p in first_model.parameters()])"
   ]
  },
  {
   "cell_type": "code",
   "execution_count": 47,
   "metadata": {},
   "outputs": [
    {
     "data": {
      "text/plain": [
       "1573376"
      ]
     },
     "execution_count": 47,
     "metadata": {},
     "output_type": "execute_result"
    }
   ],
   "source": [
    "sum([p.numel() for p in nn.Linear(3072, 512).parameters()])"
   ]
  },
  {
   "cell_type": "code",
   "execution_count": 48,
   "metadata": {},
   "outputs": [
    {
     "data": {
      "text/plain": [
       "3146752"
      ]
     },
     "execution_count": 48,
     "metadata": {},
     "output_type": "execute_result"
    }
   ],
   "source": [
    "sum([p.numel() for p in nn.Linear(3072, 1024).parameters()])"
   ]
  },
  {
   "cell_type": "code",
   "execution_count": 52,
   "metadata": {
    "tags": []
   },
   "outputs": [
    {
     "output_type": "stream",
     "name": "stdout",
     "text": "3146752\n"
    },
    {
     "output_type": "execute_result",
     "data": {
      "text/plain": "(torch.Size([1024, 3072]), torch.Size([1024]))"
     },
     "metadata": {},
     "execution_count": 52
    }
   ],
   "source": [
    "linear = nn.Linear(3072, 1024)\n",
    "print(1024 * (3072 + 1))\n",
    "linear.weight.shape, linear.bias.shape"
   ]
  },
  {
   "cell_type": "code",
   "execution_count": 54,
   "metadata": {},
   "outputs": [],
   "source": [
    "# -----------The limits of going fully connected:\n",
    "# 1. a fully connected network is not translation invariant. \n",
    "# 2. We would then have to augment the dataset—that is, apply random translations(torchvision.transforms) to images during training—so the network would have a chance to see Spitfires all over the image, and we would need to do this for every image in the dataset.\n",
    "# 3. However, this data augmentation strategy comes at a cost: the number of hidden features—that is, of parameters—must be large enough to store the information about all of these translated replicas.\n",
    "# 4. it was better at memorizing the training set than it was at generalizing properties of birds and airplanes: we have both too many parameters (making it easier for the model to memorize the training set) but no position independence (making it harder to generalize)\n",
    "conv = nn.Conv2d(3, 16, kernel_size=3, padding=1)\n",
    "# -----------Summarizing, by switching to convolutions, we get:\n",
    "# 1. Local operations on neighborhoods\n",
    "# 2. Translation invariance\n",
    "# 3. Models with a lot fewer parameters"
   ]
  },
  {
   "cell_type": "code",
   "execution_count": 55,
   "metadata": {},
   "outputs": [
    {
     "output_type": "execute_result",
     "data": {
      "text/plain": "torch.Size([16, 3, 3, 3])"
     },
     "metadata": {},
     "execution_count": 55
    }
   ],
   "source": [
    "conv.weight.shape"
   ]
  },
  {
   "cell_type": "code",
   "execution_count": 56,
   "metadata": {},
   "outputs": [
    {
     "output_type": "execute_result",
     "data": {
      "text/plain": "torch.Size([16])"
     },
     "metadata": {},
     "execution_count": 56
    }
   ],
   "source": [
    "conv.bias.shape"
   ]
  },
  {
   "cell_type": "code",
   "execution_count": 57,
   "metadata": {},
   "outputs": [],
   "source": [
    "img, _ = cifar2[0]\n",
    "\n",
    "output = conv(img.unsqueeze(0))"
   ]
  },
  {
   "cell_type": "code",
   "execution_count": 58,
   "metadata": {},
   "outputs": [
    {
     "output_type": "execute_result",
     "data": {
      "text/plain": "(torch.Size([1, 3, 32, 32]), torch.Size([1, 16, 32, 32]))"
     },
     "metadata": {},
     "execution_count": 58
    }
   ],
   "source": [
    "img.unsqueeze(0).shape, output.shape"
   ]
  },
  {
   "cell_type": "code",
   "execution_count": 59,
   "metadata": {
    "tags": []
   },
   "outputs": [
    {
     "output_type": "stream",
     "name": "stderr",
     "text": "Clipping input data to the valid range for imshow with RGB data ([0..1] for floats or [0..255] for integers).\n"
    },
    {
     "output_type": "display_data",
     "data": {
      "text/plain": "<Figure size 432x288 with 1 Axes>",
      "image/svg+xml": "<?xml version=\"1.0\" encoding=\"utf-8\" standalone=\"no\"?>\n<!DOCTYPE svg PUBLIC \"-//W3C//DTD SVG 1.1//EN\"\n  \"http://www.w3.org/Graphics/SVG/1.1/DTD/svg11.dtd\">\n<!-- Created with matplotlib (https://matplotlib.org/) -->\n<svg height=\"248.919844pt\" version=\"1.1\" viewBox=\"0 0 251.565 248.919844\" width=\"251.565pt\" xmlns=\"http://www.w3.org/2000/svg\" xmlns:xlink=\"http://www.w3.org/1999/xlink\">\n <defs>\n  <style type=\"text/css\">\n*{stroke-linecap:butt;stroke-linejoin:round;}\n  </style>\n </defs>\n <g id=\"figure_1\">\n  <g id=\"patch_1\">\n   <path d=\"M 0 248.919844 \nL 251.565 248.919844 \nL 251.565 0 \nL 0 0 \nz\n\" style=\"fill:none;\"/>\n  </g>\n  <g id=\"axes_1\">\n   <g id=\"patch_2\">\n    <path d=\"M 26.925 225.041719 \nL 244.365 225.041719 \nL 244.365 7.601719 \nL 26.925 7.601719 \nz\n\" style=\"fill:#ffffff;\"/>\n   </g>\n   <g clip-path=\"url(#p9b9768ee2d)\">\n    <image height=\"218\" id=\"imagea1612b90ed\" transform=\"scale(1 -1)translate(0 -218)\" width=\"218\" x=\"26.925\" xlink:href=\"data:image/png;base64,\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\" y=\"-7.041719\"/>\n   </g>\n   <g id=\"matplotlib.axis_1\">\n    <g id=\"xtick_1\">\n     <g id=\"line2d_1\">\n      <defs>\n       <path d=\"M 0 0 \nL 0 3.5 \n\" id=\"me2cbe0cd25\" style=\"stroke:#000000;stroke-width:0.8;\"/>\n      </defs>\n      <g>\n       <use style=\"stroke:#000000;stroke-width:0.8;\" x=\"30.3225\" xlink:href=\"#me2cbe0cd25\" y=\"225.041719\"/>\n      </g>\n     </g>\n     <g id=\"text_1\">\n      <!-- 0 -->\n      <defs>\n       <path d=\"M 31.78125 66.40625 \nQ 24.171875 66.40625 20.328125 58.90625 \nQ 16.5 51.421875 16.5 36.375 \nQ 16.5 21.390625 20.328125 13.890625 \nQ 24.171875 6.390625 31.78125 6.390625 \nQ 39.453125 6.390625 43.28125 13.890625 \nQ 47.125 21.390625 47.125 36.375 \nQ 47.125 51.421875 43.28125 58.90625 \nQ 39.453125 66.40625 31.78125 66.40625 \nz\nM 31.78125 74.21875 \nQ 44.046875 74.21875 50.515625 64.515625 \nQ 56.984375 54.828125 56.984375 36.375 \nQ 56.984375 17.96875 50.515625 8.265625 \nQ 44.046875 -1.421875 31.78125 -1.421875 \nQ 19.53125 -1.421875 13.0625 8.265625 \nQ 6.59375 17.96875 6.59375 36.375 \nQ 6.59375 54.828125 13.0625 64.515625 \nQ 19.53125 74.21875 31.78125 74.21875 \nz\n\" id=\"DejaVuSans-48\"/>\n      </defs>\n      <g transform=\"translate(27.14125 239.640156)scale(0.1 -0.1)\">\n       <use xlink:href=\"#DejaVuSans-48\"/>\n      </g>\n     </g>\n    </g>\n    <g id=\"xtick_2\">\n     <g id=\"line2d_2\">\n      <g>\n       <use style=\"stroke:#000000;stroke-width:0.8;\" x=\"64.2975\" xlink:href=\"#me2cbe0cd25\" y=\"225.041719\"/>\n      </g>\n     </g>\n     <g id=\"text_2\">\n      <!-- 5 -->\n      <defs>\n       <path d=\"M 10.796875 72.90625 \nL 49.515625 72.90625 \nL 49.515625 64.59375 \nL 19.828125 64.59375 \nL 19.828125 46.734375 \nQ 21.96875 47.46875 24.109375 47.828125 \nQ 26.265625 48.1875 28.421875 48.1875 \nQ 40.625 48.1875 47.75 41.5 \nQ 54.890625 34.8125 54.890625 23.390625 \nQ 54.890625 11.625 47.5625 5.09375 \nQ 40.234375 -1.421875 26.90625 -1.421875 \nQ 22.3125 -1.421875 17.546875 -0.640625 \nQ 12.796875 0.140625 7.71875 1.703125 \nL 7.71875 11.625 \nQ 12.109375 9.234375 16.796875 8.0625 \nQ 21.484375 6.890625 26.703125 6.890625 \nQ 35.15625 6.890625 40.078125 11.328125 \nQ 45.015625 15.765625 45.015625 23.390625 \nQ 45.015625 31 40.078125 35.4375 \nQ 35.15625 39.890625 26.703125 39.890625 \nQ 22.75 39.890625 18.8125 39.015625 \nQ 14.890625 38.140625 10.796875 36.28125 \nz\n\" id=\"DejaVuSans-53\"/>\n      </defs>\n      <g transform=\"translate(61.11625 239.640156)scale(0.1 -0.1)\">\n       <use xlink:href=\"#DejaVuSans-53\"/>\n      </g>\n     </g>\n    </g>\n    <g id=\"xtick_3\">\n     <g id=\"line2d_3\">\n      <g>\n       <use style=\"stroke:#000000;stroke-width:0.8;\" x=\"98.2725\" xlink:href=\"#me2cbe0cd25\" y=\"225.041719\"/>\n      </g>\n     </g>\n     <g id=\"text_3\">\n      <!-- 10 -->\n      <defs>\n       <path d=\"M 12.40625 8.296875 \nL 28.515625 8.296875 \nL 28.515625 63.921875 \nL 10.984375 60.40625 \nL 10.984375 69.390625 \nL 28.421875 72.90625 \nL 38.28125 72.90625 \nL 38.28125 8.296875 \nL 54.390625 8.296875 \nL 54.390625 0 \nL 12.40625 0 \nz\n\" id=\"DejaVuSans-49\"/>\n      </defs>\n      <g transform=\"translate(91.91 239.640156)scale(0.1 -0.1)\">\n       <use xlink:href=\"#DejaVuSans-49\"/>\n       <use x=\"63.623047\" xlink:href=\"#DejaVuSans-48\"/>\n      </g>\n     </g>\n    </g>\n    <g id=\"xtick_4\">\n     <g id=\"line2d_4\">\n      <g>\n       <use style=\"stroke:#000000;stroke-width:0.8;\" x=\"132.2475\" xlink:href=\"#me2cbe0cd25\" y=\"225.041719\"/>\n      </g>\n     </g>\n     <g id=\"text_4\">\n      <!-- 15 -->\n      <g transform=\"translate(125.885 239.640156)scale(0.1 -0.1)\">\n       <use xlink:href=\"#DejaVuSans-49\"/>\n       <use x=\"63.623047\" xlink:href=\"#DejaVuSans-53\"/>\n      </g>\n     </g>\n    </g>\n    <g id=\"xtick_5\">\n     <g id=\"line2d_5\">\n      <g>\n       <use style=\"stroke:#000000;stroke-width:0.8;\" x=\"166.2225\" xlink:href=\"#me2cbe0cd25\" y=\"225.041719\"/>\n      </g>\n     </g>\n     <g id=\"text_5\">\n      <!-- 20 -->\n      <defs>\n       <path d=\"M 19.1875 8.296875 \nL 53.609375 8.296875 \nL 53.609375 0 \nL 7.328125 0 \nL 7.328125 8.296875 \nQ 12.9375 14.109375 22.625 23.890625 \nQ 32.328125 33.6875 34.8125 36.53125 \nQ 39.546875 41.84375 41.421875 45.53125 \nQ 43.3125 49.21875 43.3125 52.78125 \nQ 43.3125 58.59375 39.234375 62.25 \nQ 35.15625 65.921875 28.609375 65.921875 \nQ 23.96875 65.921875 18.8125 64.3125 \nQ 13.671875 62.703125 7.8125 59.421875 \nL 7.8125 69.390625 \nQ 13.765625 71.78125 18.9375 73 \nQ 24.125 74.21875 28.421875 74.21875 \nQ 39.75 74.21875 46.484375 68.546875 \nQ 53.21875 62.890625 53.21875 53.421875 \nQ 53.21875 48.921875 51.53125 44.890625 \nQ 49.859375 40.875 45.40625 35.40625 \nQ 44.1875 33.984375 37.640625 27.21875 \nQ 31.109375 20.453125 19.1875 8.296875 \nz\n\" id=\"DejaVuSans-50\"/>\n      </defs>\n      <g transform=\"translate(159.86 239.640156)scale(0.1 -0.1)\">\n       <use xlink:href=\"#DejaVuSans-50\"/>\n       <use x=\"63.623047\" xlink:href=\"#DejaVuSans-48\"/>\n      </g>\n     </g>\n    </g>\n    <g id=\"xtick_6\">\n     <g id=\"line2d_6\">\n      <g>\n       <use style=\"stroke:#000000;stroke-width:0.8;\" x=\"200.1975\" xlink:href=\"#me2cbe0cd25\" y=\"225.041719\"/>\n      </g>\n     </g>\n     <g id=\"text_6\">\n      <!-- 25 -->\n      <g transform=\"translate(193.835 239.640156)scale(0.1 -0.1)\">\n       <use xlink:href=\"#DejaVuSans-50\"/>\n       <use x=\"63.623047\" xlink:href=\"#DejaVuSans-53\"/>\n      </g>\n     </g>\n    </g>\n    <g id=\"xtick_7\">\n     <g id=\"line2d_7\">\n      <g>\n       <use style=\"stroke:#000000;stroke-width:0.8;\" x=\"234.1725\" xlink:href=\"#me2cbe0cd25\" y=\"225.041719\"/>\n      </g>\n     </g>\n     <g id=\"text_7\">\n      <!-- 30 -->\n      <defs>\n       <path d=\"M 40.578125 39.3125 \nQ 47.65625 37.796875 51.625 33 \nQ 55.609375 28.21875 55.609375 21.1875 \nQ 55.609375 10.40625 48.1875 4.484375 \nQ 40.765625 -1.421875 27.09375 -1.421875 \nQ 22.515625 -1.421875 17.65625 -0.515625 \nQ 12.796875 0.390625 7.625 2.203125 \nL 7.625 11.71875 \nQ 11.71875 9.328125 16.59375 8.109375 \nQ 21.484375 6.890625 26.8125 6.890625 \nQ 36.078125 6.890625 40.9375 10.546875 \nQ 45.796875 14.203125 45.796875 21.1875 \nQ 45.796875 27.640625 41.28125 31.265625 \nQ 36.765625 34.90625 28.71875 34.90625 \nL 20.21875 34.90625 \nL 20.21875 43.015625 \nL 29.109375 43.015625 \nQ 36.375 43.015625 40.234375 45.921875 \nQ 44.09375 48.828125 44.09375 54.296875 \nQ 44.09375 59.90625 40.109375 62.90625 \nQ 36.140625 65.921875 28.71875 65.921875 \nQ 24.65625 65.921875 20.015625 65.03125 \nQ 15.375 64.15625 9.8125 62.3125 \nL 9.8125 71.09375 \nQ 15.4375 72.65625 20.34375 73.4375 \nQ 25.25 74.21875 29.59375 74.21875 \nQ 40.828125 74.21875 47.359375 69.109375 \nQ 53.90625 64.015625 53.90625 55.328125 \nQ 53.90625 49.265625 50.4375 45.09375 \nQ 46.96875 40.921875 40.578125 39.3125 \nz\n\" id=\"DejaVuSans-51\"/>\n      </defs>\n      <g transform=\"translate(227.81 239.640156)scale(0.1 -0.1)\">\n       <use xlink:href=\"#DejaVuSans-51\"/>\n       <use x=\"63.623047\" xlink:href=\"#DejaVuSans-48\"/>\n      </g>\n     </g>\n    </g>\n   </g>\n   <g id=\"matplotlib.axis_2\">\n    <g id=\"ytick_1\">\n     <g id=\"line2d_8\">\n      <defs>\n       <path d=\"M 0 0 \nL -3.5 0 \n\" id=\"m713a041b34\" style=\"stroke:#000000;stroke-width:0.8;\"/>\n      </defs>\n      <g>\n       <use style=\"stroke:#000000;stroke-width:0.8;\" x=\"26.925\" xlink:href=\"#m713a041b34\" y=\"10.999219\"/>\n      </g>\n     </g>\n     <g id=\"text_8\">\n      <!-- 0 -->\n      <g transform=\"translate(13.5625 14.798437)scale(0.1 -0.1)\">\n       <use xlink:href=\"#DejaVuSans-48\"/>\n      </g>\n     </g>\n    </g>\n    <g id=\"ytick_2\">\n     <g id=\"line2d_9\">\n      <g>\n       <use style=\"stroke:#000000;stroke-width:0.8;\" x=\"26.925\" xlink:href=\"#m713a041b34\" y=\"44.974219\"/>\n      </g>\n     </g>\n     <g id=\"text_9\">\n      <!-- 5 -->\n      <g transform=\"translate(13.5625 48.773437)scale(0.1 -0.1)\">\n       <use xlink:href=\"#DejaVuSans-53\"/>\n      </g>\n     </g>\n    </g>\n    <g id=\"ytick_3\">\n     <g id=\"line2d_10\">\n      <g>\n       <use style=\"stroke:#000000;stroke-width:0.8;\" x=\"26.925\" xlink:href=\"#m713a041b34\" y=\"78.949219\"/>\n      </g>\n     </g>\n     <g id=\"text_10\">\n      <!-- 10 -->\n      <g transform=\"translate(7.2 82.748437)scale(0.1 -0.1)\">\n       <use xlink:href=\"#DejaVuSans-49\"/>\n       <use x=\"63.623047\" xlink:href=\"#DejaVuSans-48\"/>\n      </g>\n     </g>\n    </g>\n    <g id=\"ytick_4\">\n     <g id=\"line2d_11\">\n      <g>\n       <use style=\"stroke:#000000;stroke-width:0.8;\" x=\"26.925\" xlink:href=\"#m713a041b34\" y=\"112.924219\"/>\n      </g>\n     </g>\n     <g id=\"text_11\">\n      <!-- 15 -->\n      <g transform=\"translate(7.2 116.723437)scale(0.1 -0.1)\">\n       <use xlink:href=\"#DejaVuSans-49\"/>\n       <use x=\"63.623047\" xlink:href=\"#DejaVuSans-53\"/>\n      </g>\n     </g>\n    </g>\n    <g id=\"ytick_5\">\n     <g id=\"line2d_12\">\n      <g>\n       <use style=\"stroke:#000000;stroke-width:0.8;\" x=\"26.925\" xlink:href=\"#m713a041b34\" y=\"146.899219\"/>\n      </g>\n     </g>\n     <g id=\"text_12\">\n      <!-- 20 -->\n      <g transform=\"translate(7.2 150.698437)scale(0.1 -0.1)\">\n       <use xlink:href=\"#DejaVuSans-50\"/>\n       <use x=\"63.623047\" xlink:href=\"#DejaVuSans-48\"/>\n      </g>\n     </g>\n    </g>\n    <g id=\"ytick_6\">\n     <g id=\"line2d_13\">\n      <g>\n       <use style=\"stroke:#000000;stroke-width:0.8;\" x=\"26.925\" xlink:href=\"#m713a041b34\" y=\"180.874219\"/>\n      </g>\n     </g>\n     <g id=\"text_13\">\n      <!-- 25 -->\n      <g transform=\"translate(7.2 184.673437)scale(0.1 -0.1)\">\n       <use xlink:href=\"#DejaVuSans-50\"/>\n       <use x=\"63.623047\" xlink:href=\"#DejaVuSans-53\"/>\n      </g>\n     </g>\n    </g>\n    <g id=\"ytick_7\">\n     <g id=\"line2d_14\">\n      <g>\n       <use style=\"stroke:#000000;stroke-width:0.8;\" x=\"26.925\" xlink:href=\"#m713a041b34\" y=\"214.849219\"/>\n      </g>\n     </g>\n     <g id=\"text_14\">\n      <!-- 30 -->\n      <g transform=\"translate(7.2 218.648437)scale(0.1 -0.1)\">\n       <use xlink:href=\"#DejaVuSans-51\"/>\n       <use x=\"63.623047\" xlink:href=\"#DejaVuSans-48\"/>\n      </g>\n     </g>\n    </g>\n   </g>\n   <g id=\"patch_3\">\n    <path d=\"M 26.925 225.041719 \nL 26.925 7.601719 \n\" style=\"fill:none;stroke:#000000;stroke-linecap:square;stroke-linejoin:miter;stroke-width:0.8;\"/>\n   </g>\n   <g id=\"patch_4\">\n    <path d=\"M 244.365 225.041719 \nL 244.365 7.601719 \n\" style=\"fill:none;stroke:#000000;stroke-linecap:square;stroke-linejoin:miter;stroke-width:0.8;\"/>\n   </g>\n   <g id=\"patch_5\">\n    <path d=\"M 26.925 225.041719 \nL 244.365 225.041719 \n\" style=\"fill:none;stroke:#000000;stroke-linecap:square;stroke-linejoin:miter;stroke-width:0.8;\"/>\n   </g>\n   <g id=\"patch_6\">\n    <path d=\"M 26.925 7.601719 \nL 244.365 7.601719 \n\" style=\"fill:none;stroke:#000000;stroke-linecap:square;stroke-linejoin:miter;stroke-width:0.8;\"/>\n   </g>\n  </g>\n </g>\n <defs>\n  <clipPath id=\"p9b9768ee2d\">\n   <rect height=\"217.44\" width=\"217.44\" x=\"26.925\" y=\"7.601719\"/>\n  </clipPath>\n </defs>\n</svg>\n",
      "image/png": "[encoded data removed]"
     },
     "metadata": {
      "needs_background": "light"
     }
    }
   ],
   "source": [
    "plt.imshow(img.permute(1, 2, 0), cmap='gray')\n",
    "plt.show()"
   ]
  },
  {
   "cell_type": "code",
   "execution_count": 60,
   "metadata": {},
   "outputs": [
    {
     "output_type": "display_data",
     "data": {
      "text/plain": "<Figure size 432x288 with 1 Axes>",
      "image/svg+xml": "<?xml version=\"1.0\" encoding=\"utf-8\" standalone=\"no\"?>\n<!DOCTYPE svg PUBLIC \"-//W3C//DTD SVG 1.1//EN\"\n  \"http://www.w3.org/Graphics/SVG/1.1/DTD/svg11.dtd\">\n<!-- Created with matplotlib (https://matplotlib.org/) -->\n<svg height=\"248.919844pt\" version=\"1.1\" viewBox=\"0 0 251.565 248.919844\" width=\"251.565pt\" xmlns=\"http://www.w3.org/2000/svg\" xmlns:xlink=\"http://www.w3.org/1999/xlink\">\n <defs>\n  <style type=\"text/css\">\n*{stroke-linecap:butt;stroke-linejoin:round;}\n  </style>\n </defs>\n <g id=\"figure_1\">\n  <g id=\"patch_1\">\n   <path d=\"M 0 248.919844 \nL 251.565 248.919844 \nL 251.565 0 \nL 0 0 \nz\n\" style=\"fill:none;\"/>\n  </g>\n  <g id=\"axes_1\">\n   <g id=\"patch_2\">\n    <path d=\"M 26.925 225.041719 \nL 244.365 225.041719 \nL 244.365 7.601719 \nL 26.925 7.601719 \nz\n\" style=\"fill:#ffffff;\"/>\n   </g>\n   <g clip-path=\"url(#pdc9cc1f7d0)\">\n    <image height=\"218\" id=\"image831b2a958c\" transform=\"scale(1 -1)translate(0 -218)\" width=\"218\" x=\"26.925\" xlink:href=\"data:image/png;base64,\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\" y=\"-7.041719\"/>\n   </g>\n   <g id=\"matplotlib.axis_1\">\n    <g id=\"xtick_1\">\n     <g id=\"line2d_1\">\n      <defs>\n       <path d=\"M 0 0 \nL 0 3.5 \n\" id=\"mf0e037dca4\" style=\"stroke:#000000;stroke-width:0.8;\"/>\n      </defs>\n      <g>\n       <use style=\"stroke:#000000;stroke-width:0.8;\" x=\"30.3225\" xlink:href=\"#mf0e037dca4\" y=\"225.041719\"/>\n      </g>\n     </g>\n     <g id=\"text_1\">\n      <!-- 0 -->\n      <defs>\n       <path d=\"M 31.78125 66.40625 \nQ 24.171875 66.40625 20.328125 58.90625 \nQ 16.5 51.421875 16.5 36.375 \nQ 16.5 21.390625 20.328125 13.890625 \nQ 24.171875 6.390625 31.78125 6.390625 \nQ 39.453125 6.390625 43.28125 13.890625 \nQ 47.125 21.390625 47.125 36.375 \nQ 47.125 51.421875 43.28125 58.90625 \nQ 39.453125 66.40625 31.78125 66.40625 \nz\nM 31.78125 74.21875 \nQ 44.046875 74.21875 50.515625 64.515625 \nQ 56.984375 54.828125 56.984375 36.375 \nQ 56.984375 17.96875 50.515625 8.265625 \nQ 44.046875 -1.421875 31.78125 -1.421875 \nQ 19.53125 -1.421875 13.0625 8.265625 \nQ 6.59375 17.96875 6.59375 36.375 \nQ 6.59375 54.828125 13.0625 64.515625 \nQ 19.53125 74.21875 31.78125 74.21875 \nz\n\" id=\"DejaVuSans-48\"/>\n      </defs>\n      <g transform=\"translate(27.14125 239.640156)scale(0.1 -0.1)\">\n       <use xlink:href=\"#DejaVuSans-48\"/>\n      </g>\n     </g>\n    </g>\n    <g id=\"xtick_2\">\n     <g id=\"line2d_2\">\n      <g>\n       <use style=\"stroke:#000000;stroke-width:0.8;\" x=\"64.2975\" xlink:href=\"#mf0e037dca4\" y=\"225.041719\"/>\n      </g>\n     </g>\n     <g id=\"text_2\">\n      <!-- 5 -->\n      <defs>\n       <path d=\"M 10.796875 72.90625 \nL 49.515625 72.90625 \nL 49.515625 64.59375 \nL 19.828125 64.59375 \nL 19.828125 46.734375 \nQ 21.96875 47.46875 24.109375 47.828125 \nQ 26.265625 48.1875 28.421875 48.1875 \nQ 40.625 48.1875 47.75 41.5 \nQ 54.890625 34.8125 54.890625 23.390625 \nQ 54.890625 11.625 47.5625 5.09375 \nQ 40.234375 -1.421875 26.90625 -1.421875 \nQ 22.3125 -1.421875 17.546875 -0.640625 \nQ 12.796875 0.140625 7.71875 1.703125 \nL 7.71875 11.625 \nQ 12.109375 9.234375 16.796875 8.0625 \nQ 21.484375 6.890625 26.703125 6.890625 \nQ 35.15625 6.890625 40.078125 11.328125 \nQ 45.015625 15.765625 45.015625 23.390625 \nQ 45.015625 31 40.078125 35.4375 \nQ 35.15625 39.890625 26.703125 39.890625 \nQ 22.75 39.890625 18.8125 39.015625 \nQ 14.890625 38.140625 10.796875 36.28125 \nz\n\" id=\"DejaVuSans-53\"/>\n      </defs>\n      <g transform=\"translate(61.11625 239.640156)scale(0.1 -0.1)\">\n       <use xlink:href=\"#DejaVuSans-53\"/>\n      </g>\n     </g>\n    </g>\n    <g id=\"xtick_3\">\n     <g id=\"line2d_3\">\n      <g>\n       <use style=\"stroke:#000000;stroke-width:0.8;\" x=\"98.2725\" xlink:href=\"#mf0e037dca4\" y=\"225.041719\"/>\n      </g>\n     </g>\n     <g id=\"text_3\">\n      <!-- 10 -->\n      <defs>\n       <path d=\"M 12.40625 8.296875 \nL 28.515625 8.296875 \nL 28.515625 63.921875 \nL 10.984375 60.40625 \nL 10.984375 69.390625 \nL 28.421875 72.90625 \nL 38.28125 72.90625 \nL 38.28125 8.296875 \nL 54.390625 8.296875 \nL 54.390625 0 \nL 12.40625 0 \nz\n\" id=\"DejaVuSans-49\"/>\n      </defs>\n      <g transform=\"translate(91.91 239.640156)scale(0.1 -0.1)\">\n       <use xlink:href=\"#DejaVuSans-49\"/>\n       <use x=\"63.623047\" xlink:href=\"#DejaVuSans-48\"/>\n      </g>\n     </g>\n    </g>\n    <g id=\"xtick_4\">\n     <g id=\"line2d_4\">\n      <g>\n       <use style=\"stroke:#000000;stroke-width:0.8;\" x=\"132.2475\" xlink:href=\"#mf0e037dca4\" y=\"225.041719\"/>\n      </g>\n     </g>\n     <g id=\"text_4\">\n      <!-- 15 -->\n      <g transform=\"translate(125.885 239.640156)scale(0.1 -0.1)\">\n       <use xlink:href=\"#DejaVuSans-49\"/>\n       <use x=\"63.623047\" xlink:href=\"#DejaVuSans-53\"/>\n      </g>\n     </g>\n    </g>\n    <g id=\"xtick_5\">\n     <g id=\"line2d_5\">\n      <g>\n       <use style=\"stroke:#000000;stroke-width:0.8;\" x=\"166.2225\" xlink:href=\"#mf0e037dca4\" y=\"225.041719\"/>\n      </g>\n     </g>\n     <g id=\"text_5\">\n      <!-- 20 -->\n      <defs>\n       <path d=\"M 19.1875 8.296875 \nL 53.609375 8.296875 \nL 53.609375 0 \nL 7.328125 0 \nL 7.328125 8.296875 \nQ 12.9375 14.109375 22.625 23.890625 \nQ 32.328125 33.6875 34.8125 36.53125 \nQ 39.546875 41.84375 41.421875 45.53125 \nQ 43.3125 49.21875 43.3125 52.78125 \nQ 43.3125 58.59375 39.234375 62.25 \nQ 35.15625 65.921875 28.609375 65.921875 \nQ 23.96875 65.921875 18.8125 64.3125 \nQ 13.671875 62.703125 7.8125 59.421875 \nL 7.8125 69.390625 \nQ 13.765625 71.78125 18.9375 73 \nQ 24.125 74.21875 28.421875 74.21875 \nQ 39.75 74.21875 46.484375 68.546875 \nQ 53.21875 62.890625 53.21875 53.421875 \nQ 53.21875 48.921875 51.53125 44.890625 \nQ 49.859375 40.875 45.40625 35.40625 \nQ 44.1875 33.984375 37.640625 27.21875 \nQ 31.109375 20.453125 19.1875 8.296875 \nz\n\" id=\"DejaVuSans-50\"/>\n      </defs>\n      <g transform=\"translate(159.86 239.640156)scale(0.1 -0.1)\">\n       <use xlink:href=\"#DejaVuSans-50\"/>\n       <use x=\"63.623047\" xlink:href=\"#DejaVuSans-48\"/>\n      </g>\n     </g>\n    </g>\n    <g id=\"xtick_6\">\n     <g id=\"line2d_6\">\n      <g>\n       <use style=\"stroke:#000000;stroke-width:0.8;\" x=\"200.1975\" xlink:href=\"#mf0e037dca4\" y=\"225.041719\"/>\n      </g>\n     </g>\n     <g id=\"text_6\">\n      <!-- 25 -->\n      <g transform=\"translate(193.835 239.640156)scale(0.1 -0.1)\">\n       <use xlink:href=\"#DejaVuSans-50\"/>\n       <use x=\"63.623047\" xlink:href=\"#DejaVuSans-53\"/>\n      </g>\n     </g>\n    </g>\n    <g id=\"xtick_7\">\n     <g id=\"line2d_7\">\n      <g>\n       <use style=\"stroke:#000000;stroke-width:0.8;\" x=\"234.1725\" xlink:href=\"#mf0e037dca4\" y=\"225.041719\"/>\n      </g>\n     </g>\n     <g id=\"text_7\">\n      <!-- 30 -->\n      <defs>\n       <path d=\"M 40.578125 39.3125 \nQ 47.65625 37.796875 51.625 33 \nQ 55.609375 28.21875 55.609375 21.1875 \nQ 55.609375 10.40625 48.1875 4.484375 \nQ 40.765625 -1.421875 27.09375 -1.421875 \nQ 22.515625 -1.421875 17.65625 -0.515625 \nQ 12.796875 0.390625 7.625 2.203125 \nL 7.625 11.71875 \nQ 11.71875 9.328125 16.59375 8.109375 \nQ 21.484375 6.890625 26.8125 6.890625 \nQ 36.078125 6.890625 40.9375 10.546875 \nQ 45.796875 14.203125 45.796875 21.1875 \nQ 45.796875 27.640625 41.28125 31.265625 \nQ 36.765625 34.90625 28.71875 34.90625 \nL 20.21875 34.90625 \nL 20.21875 43.015625 \nL 29.109375 43.015625 \nQ 36.375 43.015625 40.234375 45.921875 \nQ 44.09375 48.828125 44.09375 54.296875 \nQ 44.09375 59.90625 40.109375 62.90625 \nQ 36.140625 65.921875 28.71875 65.921875 \nQ 24.65625 65.921875 20.015625 65.03125 \nQ 15.375 64.15625 9.8125 62.3125 \nL 9.8125 71.09375 \nQ 15.4375 72.65625 20.34375 73.4375 \nQ 25.25 74.21875 29.59375 74.21875 \nQ 40.828125 74.21875 47.359375 69.109375 \nQ 53.90625 64.015625 53.90625 55.328125 \nQ 53.90625 49.265625 50.4375 45.09375 \nQ 46.96875 40.921875 40.578125 39.3125 \nz\n\" id=\"DejaVuSans-51\"/>\n      </defs>\n      <g transform=\"translate(227.81 239.640156)scale(0.1 -0.1)\">\n       <use xlink:href=\"#DejaVuSans-51\"/>\n       <use x=\"63.623047\" xlink:href=\"#DejaVuSans-48\"/>\n      </g>\n     </g>\n    </g>\n   </g>\n   <g id=\"matplotlib.axis_2\">\n    <g id=\"ytick_1\">\n     <g id=\"line2d_8\">\n      <defs>\n       <path d=\"M 0 0 \nL -3.5 0 \n\" id=\"me2faa0922b\" style=\"stroke:#000000;stroke-width:0.8;\"/>\n      </defs>\n      <g>\n       <use style=\"stroke:#000000;stroke-width:0.8;\" x=\"26.925\" xlink:href=\"#me2faa0922b\" y=\"10.999219\"/>\n      </g>\n     </g>\n     <g id=\"text_8\">\n      <!-- 0 -->\n      <g transform=\"translate(13.5625 14.798437)scale(0.1 -0.1)\">\n       <use xlink:href=\"#DejaVuSans-48\"/>\n      </g>\n     </g>\n    </g>\n    <g id=\"ytick_2\">\n     <g id=\"line2d_9\">\n      <g>\n       <use style=\"stroke:#000000;stroke-width:0.8;\" x=\"26.925\" xlink:href=\"#me2faa0922b\" y=\"44.974219\"/>\n      </g>\n     </g>\n     <g id=\"text_9\">\n      <!-- 5 -->\n      <g transform=\"translate(13.5625 48.773437)scale(0.1 -0.1)\">\n       <use xlink:href=\"#DejaVuSans-53\"/>\n      </g>\n     </g>\n    </g>\n    <g id=\"ytick_3\">\n     <g id=\"line2d_10\">\n      <g>\n       <use style=\"stroke:#000000;stroke-width:0.8;\" x=\"26.925\" xlink:href=\"#me2faa0922b\" y=\"78.949219\"/>\n      </g>\n     </g>\n     <g id=\"text_10\">\n      <!-- 10 -->\n      <g transform=\"translate(7.2 82.748437)scale(0.1 -0.1)\">\n       <use xlink:href=\"#DejaVuSans-49\"/>\n       <use x=\"63.623047\" xlink:href=\"#DejaVuSans-48\"/>\n      </g>\n     </g>\n    </g>\n    <g id=\"ytick_4\">\n     <g id=\"line2d_11\">\n      <g>\n       <use style=\"stroke:#000000;stroke-width:0.8;\" x=\"26.925\" xlink:href=\"#me2faa0922b\" y=\"112.924219\"/>\n      </g>\n     </g>\n     <g id=\"text_11\">\n      <!-- 15 -->\n      <g transform=\"translate(7.2 116.723437)scale(0.1 -0.1)\">\n       <use xlink:href=\"#DejaVuSans-49\"/>\n       <use x=\"63.623047\" xlink:href=\"#DejaVuSans-53\"/>\n      </g>\n     </g>\n    </g>\n    <g id=\"ytick_5\">\n     <g id=\"line2d_12\">\n      <g>\n       <use style=\"stroke:#000000;stroke-width:0.8;\" x=\"26.925\" xlink:href=\"#me2faa0922b\" y=\"146.899219\"/>\n      </g>\n     </g>\n     <g id=\"text_12\">\n      <!-- 20 -->\n      <g transform=\"translate(7.2 150.698437)scale(0.1 -0.1)\">\n       <use xlink:href=\"#DejaVuSans-50\"/>\n       <use x=\"63.623047\" xlink:href=\"#DejaVuSans-48\"/>\n      </g>\n     </g>\n    </g>\n    <g id=\"ytick_6\">\n     <g id=\"line2d_13\">\n      <g>\n       <use style=\"stroke:#000000;stroke-width:0.8;\" x=\"26.925\" xlink:href=\"#me2faa0922b\" y=\"180.874219\"/>\n      </g>\n     </g>\n     <g id=\"text_13\">\n      <!-- 25 -->\n      <g transform=\"translate(7.2 184.673437)scale(0.1 -0.1)\">\n       <use xlink:href=\"#DejaVuSans-50\"/>\n       <use x=\"63.623047\" xlink:href=\"#DejaVuSans-53\"/>\n      </g>\n     </g>\n    </g>\n    <g id=\"ytick_7\">\n     <g id=\"line2d_14\">\n      <g>\n       <use style=\"stroke:#000000;stroke-width:0.8;\" x=\"26.925\" xlink:href=\"#me2faa0922b\" y=\"214.849219\"/>\n      </g>\n     </g>\n     <g id=\"text_14\">\n      <!-- 30 -->\n      <g transform=\"translate(7.2 218.648437)scale(0.1 -0.1)\">\n       <use xlink:href=\"#DejaVuSans-51\"/>\n       <use x=\"63.623047\" xlink:href=\"#DejaVuSans-48\"/>\n      </g>\n     </g>\n    </g>\n   </g>\n   <g id=\"patch_3\">\n    <path d=\"M 26.925 225.041719 \nL 26.925 7.601719 \n\" style=\"fill:none;stroke:#000000;stroke-linecap:square;stroke-linejoin:miter;stroke-width:0.8;\"/>\n   </g>\n   <g id=\"patch_4\">\n    <path d=\"M 244.365 225.041719 \nL 244.365 7.601719 \n\" style=\"fill:none;stroke:#000000;stroke-linecap:square;stroke-linejoin:miter;stroke-width:0.8;\"/>\n   </g>\n   <g id=\"patch_5\">\n    <path d=\"M 26.925 225.041719 \nL 244.365 225.041719 \n\" style=\"fill:none;stroke:#000000;stroke-linecap:square;stroke-linejoin:miter;stroke-width:0.8;\"/>\n   </g>\n   <g id=\"patch_6\">\n    <path d=\"M 26.925 7.601719 \nL 244.365 7.601719 \n\" style=\"fill:none;stroke:#000000;stroke-linecap:square;stroke-linejoin:miter;stroke-width:0.8;\"/>\n   </g>\n  </g>\n </g>\n <defs>\n  <clipPath id=\"pdc9cc1f7d0\">\n   <rect height=\"217.44\" width=\"217.44\" x=\"26.925\" y=\"7.601719\"/>\n  </clipPath>\n </defs>\n</svg>\n",
      "image/png": "[encoded data removed]"
     },
     "metadata": {
      "needs_background": "light"
     }
    },
    {
     "output_type": "execute_result",
     "data": {
      "text/plain": "torch.Tensor"
     },
     "metadata": {},
     "execution_count": 60
    }
   ],
   "source": [
    "plt.imshow(output[0, 0].detach(), cmap='gray')\n",
    "plt.show()\n",
    "type(output[0, 0].detach())"
   ]
  },
  {
   "cell_type": "code",
   "execution_count": 57,
   "metadata": {},
   "outputs": [
    {
     "data": {
      "text/plain": [
       "torch.Size([1, 16, 30, 30])"
      ]
     },
     "execution_count": 57,
     "metadata": {},
     "output_type": "execute_result"
    }
   ],
   "source": [
    "output.shape"
   ]
  },
  {
   "cell_type": "code",
   "execution_count": 13,
   "metadata": {},
   "outputs": [],
   "source": [
    "conv = nn.Conv2d(3, 1, kernel_size=3, padding=1)"
   ]
  },
  {
   "cell_type": "code",
   "execution_count": 14,
   "metadata": {},
   "outputs": [
    {
     "output_type": "execute_result",
     "data": {
      "text/plain": "torch.Size([1, 1, 32, 32])"
     },
     "metadata": {},
     "execution_count": 14
    }
   ],
   "source": [
    "output = conv(img.unsqueeze(0))\n",
    "\n",
    "output.shape"
   ]
  },
  {
   "cell_type": "code",
   "execution_count": 15,
   "metadata": {
    "tags": []
   },
   "outputs": [],
   "source": [
    "# Disabling gradient calculation is useful for inference, when you are sure that you will not call method:Tensor.backward(). It will reduce memory consumption for computations that would otherwise have requires_grad=True.\n",
    "# why it will reduce memory consumption?\n",
    "# In this mode, the result of every computation will have requires_grad=False, even when the inputs have requires_grad=True.\n",
    "with torch.no_grad():\n",
    "    conv.bias.zero_()"
   ]
  },
  {
   "cell_type": "code",
   "execution_count": 16,
   "metadata": {},
   "outputs": [],
   "source": [
    "with torch.no_grad():\n",
    "    # set weights to a constant value so that each pixel in the output gets \n",
    "    # the mean of its neighbors. \n",
    "    conv.weight.fill_(1.0 / 9.0)"
   ]
  },
  {
   "cell_type": "code",
   "execution_count": 19,
   "metadata": {
    "tags": []
   },
   "outputs": [
    {
     "output_type": "stream",
     "name": "stdout",
     "text": "tensor([[ 0.1996, -0.0273,  ..., -0.5446, -0.4305],\n        [ 0.3406,  0.1158,  ..., -0.9808, -0.8079],\n        ...,\n        [ 0.5163,  0.6754,  ..., -1.1325, -0.5512],\n        [ 0.4821,  0.6350,  ..., -0.7778, -0.3840]])\n"
    },
    {
     "output_type": "display_data",
     "data": {
      "text/plain": "<Figure size 432x288 with 1 Axes>",
      "image/svg+xml": "<?xml version=\"1.0\" encoding=\"utf-8\" standalone=\"no\"?>\n<!DOCTYPE svg PUBLIC \"-//W3C//DTD SVG 1.1//EN\"\n  \"http://www.w3.org/Graphics/SVG/1.1/DTD/svg11.dtd\">\n<!-- Created with matplotlib (https://matplotlib.org/) -->\n<svg height=\"248.919844pt\" version=\"1.1\" viewBox=\"0 0 251.565 248.919844\" width=\"251.565pt\" xmlns=\"http://www.w3.org/2000/svg\" xmlns:xlink=\"http://www.w3.org/1999/xlink\">\n <defs>\n  <style type=\"text/css\">\n*{stroke-linecap:butt;stroke-linejoin:round;}\n  </style>\n </defs>\n <g id=\"figure_1\">\n  <g id=\"patch_1\">\n   <path d=\"M 0 248.919844 \nL 251.565 248.919844 \nL 251.565 0 \nL 0 0 \nz\n\" style=\"fill:none;\"/>\n  </g>\n  <g id=\"axes_1\">\n   <g id=\"patch_2\">\n    <path d=\"M 26.925 225.041719 \nL 244.365 225.041719 \nL 244.365 7.601719 \nL 26.925 7.601719 \nz\n\" style=\"fill:#ffffff;\"/>\n   </g>\n   <g clip-path=\"url(#p16764a9a9f)\">\n    <image height=\"218\" id=\"imagec2bc358683\" transform=\"scale(1 -1)translate(0 -218)\" width=\"218\" x=\"26.925\" xlink:href=\"data:image/png;base64,\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\" y=\"-7.041719\"/>\n   </g>\n   <g id=\"matplotlib.axis_1\">\n    <g id=\"xtick_1\">\n     <g id=\"line2d_1\">\n      <defs>\n       <path d=\"M 0 0 \nL 0 3.5 \n\" id=\"m0e6892b67f\" style=\"stroke:#000000;stroke-width:0.8;\"/>\n      </defs>\n      <g>\n       <use style=\"stroke:#000000;stroke-width:0.8;\" x=\"30.3225\" xlink:href=\"#m0e6892b67f\" y=\"225.041719\"/>\n      </g>\n     </g>\n     <g id=\"text_1\">\n      <!-- 0 -->\n      <defs>\n       <path d=\"M 31.78125 66.40625 \nQ 24.171875 66.40625 20.328125 58.90625 \nQ 16.5 51.421875 16.5 36.375 \nQ 16.5 21.390625 20.328125 13.890625 \nQ 24.171875 6.390625 31.78125 6.390625 \nQ 39.453125 6.390625 43.28125 13.890625 \nQ 47.125 21.390625 47.125 36.375 \nQ 47.125 51.421875 43.28125 58.90625 \nQ 39.453125 66.40625 31.78125 66.40625 \nz\nM 31.78125 74.21875 \nQ 44.046875 74.21875 50.515625 64.515625 \nQ 56.984375 54.828125 56.984375 36.375 \nQ 56.984375 17.96875 50.515625 8.265625 \nQ 44.046875 -1.421875 31.78125 -1.421875 \nQ 19.53125 -1.421875 13.0625 8.265625 \nQ 6.59375 17.96875 6.59375 36.375 \nQ 6.59375 54.828125 13.0625 64.515625 \nQ 19.53125 74.21875 31.78125 74.21875 \nz\n\" id=\"DejaVuSans-48\"/>\n      </defs>\n      <g transform=\"translate(27.14125 239.640156)scale(0.1 -0.1)\">\n       <use xlink:href=\"#DejaVuSans-48\"/>\n      </g>\n     </g>\n    </g>\n    <g id=\"xtick_2\">\n     <g id=\"line2d_2\">\n      <g>\n       <use style=\"stroke:#000000;stroke-width:0.8;\" x=\"64.2975\" xlink:href=\"#m0e6892b67f\" y=\"225.041719\"/>\n      </g>\n     </g>\n     <g id=\"text_2\">\n      <!-- 5 -->\n      <defs>\n       <path d=\"M 10.796875 72.90625 \nL 49.515625 72.90625 \nL 49.515625 64.59375 \nL 19.828125 64.59375 \nL 19.828125 46.734375 \nQ 21.96875 47.46875 24.109375 47.828125 \nQ 26.265625 48.1875 28.421875 48.1875 \nQ 40.625 48.1875 47.75 41.5 \nQ 54.890625 34.8125 54.890625 23.390625 \nQ 54.890625 11.625 47.5625 5.09375 \nQ 40.234375 -1.421875 26.90625 -1.421875 \nQ 22.3125 -1.421875 17.546875 -0.640625 \nQ 12.796875 0.140625 7.71875 1.703125 \nL 7.71875 11.625 \nQ 12.109375 9.234375 16.796875 8.0625 \nQ 21.484375 6.890625 26.703125 6.890625 \nQ 35.15625 6.890625 40.078125 11.328125 \nQ 45.015625 15.765625 45.015625 23.390625 \nQ 45.015625 31 40.078125 35.4375 \nQ 35.15625 39.890625 26.703125 39.890625 \nQ 22.75 39.890625 18.8125 39.015625 \nQ 14.890625 38.140625 10.796875 36.28125 \nz\n\" id=\"DejaVuSans-53\"/>\n      </defs>\n      <g transform=\"translate(61.11625 239.640156)scale(0.1 -0.1)\">\n       <use xlink:href=\"#DejaVuSans-53\"/>\n      </g>\n     </g>\n    </g>\n    <g id=\"xtick_3\">\n     <g id=\"line2d_3\">\n      <g>\n       <use style=\"stroke:#000000;stroke-width:0.8;\" x=\"98.2725\" xlink:href=\"#m0e6892b67f\" y=\"225.041719\"/>\n      </g>\n     </g>\n     <g id=\"text_3\">\n      <!-- 10 -->\n      <defs>\n       <path d=\"M 12.40625 8.296875 \nL 28.515625 8.296875 \nL 28.515625 63.921875 \nL 10.984375 60.40625 \nL 10.984375 69.390625 \nL 28.421875 72.90625 \nL 38.28125 72.90625 \nL 38.28125 8.296875 \nL 54.390625 8.296875 \nL 54.390625 0 \nL 12.40625 0 \nz\n\" id=\"DejaVuSans-49\"/>\n      </defs>\n      <g transform=\"translate(91.91 239.640156)scale(0.1 -0.1)\">\n       <use xlink:href=\"#DejaVuSans-49\"/>\n       <use x=\"63.623047\" xlink:href=\"#DejaVuSans-48\"/>\n      </g>\n     </g>\n    </g>\n    <g id=\"xtick_4\">\n     <g id=\"line2d_4\">\n      <g>\n       <use style=\"stroke:#000000;stroke-width:0.8;\" x=\"132.2475\" xlink:href=\"#m0e6892b67f\" y=\"225.041719\"/>\n      </g>\n     </g>\n     <g id=\"text_4\">\n      <!-- 15 -->\n      <g transform=\"translate(125.885 239.640156)scale(0.1 -0.1)\">\n       <use xlink:href=\"#DejaVuSans-49\"/>\n       <use x=\"63.623047\" xlink:href=\"#DejaVuSans-53\"/>\n      </g>\n     </g>\n    </g>\n    <g id=\"xtick_5\">\n     <g id=\"line2d_5\">\n      <g>\n       <use style=\"stroke:#000000;stroke-width:0.8;\" x=\"166.2225\" xlink:href=\"#m0e6892b67f\" y=\"225.041719\"/>\n      </g>\n     </g>\n     <g id=\"text_5\">\n      <!-- 20 -->\n      <defs>\n       <path d=\"M 19.1875 8.296875 \nL 53.609375 8.296875 \nL 53.609375 0 \nL 7.328125 0 \nL 7.328125 8.296875 \nQ 12.9375 14.109375 22.625 23.890625 \nQ 32.328125 33.6875 34.8125 36.53125 \nQ 39.546875 41.84375 41.421875 45.53125 \nQ 43.3125 49.21875 43.3125 52.78125 \nQ 43.3125 58.59375 39.234375 62.25 \nQ 35.15625 65.921875 28.609375 65.921875 \nQ 23.96875 65.921875 18.8125 64.3125 \nQ 13.671875 62.703125 7.8125 59.421875 \nL 7.8125 69.390625 \nQ 13.765625 71.78125 18.9375 73 \nQ 24.125 74.21875 28.421875 74.21875 \nQ 39.75 74.21875 46.484375 68.546875 \nQ 53.21875 62.890625 53.21875 53.421875 \nQ 53.21875 48.921875 51.53125 44.890625 \nQ 49.859375 40.875 45.40625 35.40625 \nQ 44.1875 33.984375 37.640625 27.21875 \nQ 31.109375 20.453125 19.1875 8.296875 \nz\n\" id=\"DejaVuSans-50\"/>\n      </defs>\n      <g transform=\"translate(159.86 239.640156)scale(0.1 -0.1)\">\n       <use xlink:href=\"#DejaVuSans-50\"/>\n       <use x=\"63.623047\" xlink:href=\"#DejaVuSans-48\"/>\n      </g>\n     </g>\n    </g>\n    <g id=\"xtick_6\">\n     <g id=\"line2d_6\">\n      <g>\n       <use style=\"stroke:#000000;stroke-width:0.8;\" x=\"200.1975\" xlink:href=\"#m0e6892b67f\" y=\"225.041719\"/>\n      </g>\n     </g>\n     <g id=\"text_6\">\n      <!-- 25 -->\n      <g transform=\"translate(193.835 239.640156)scale(0.1 -0.1)\">\n       <use xlink:href=\"#DejaVuSans-50\"/>\n       <use x=\"63.623047\" xlink:href=\"#DejaVuSans-53\"/>\n      </g>\n     </g>\n    </g>\n    <g id=\"xtick_7\">\n     <g id=\"line2d_7\">\n      <g>\n       <use style=\"stroke:#000000;stroke-width:0.8;\" x=\"234.1725\" xlink:href=\"#m0e6892b67f\" y=\"225.041719\"/>\n      </g>\n     </g>\n     <g id=\"text_7\">\n      <!-- 30 -->\n      <defs>\n       <path d=\"M 40.578125 39.3125 \nQ 47.65625 37.796875 51.625 33 \nQ 55.609375 28.21875 55.609375 21.1875 \nQ 55.609375 10.40625 48.1875 4.484375 \nQ 40.765625 -1.421875 27.09375 -1.421875 \nQ 22.515625 -1.421875 17.65625 -0.515625 \nQ 12.796875 0.390625 7.625 2.203125 \nL 7.625 11.71875 \nQ 11.71875 9.328125 16.59375 8.109375 \nQ 21.484375 6.890625 26.8125 6.890625 \nQ 36.078125 6.890625 40.9375 10.546875 \nQ 45.796875 14.203125 45.796875 21.1875 \nQ 45.796875 27.640625 41.28125 31.265625 \nQ 36.765625 34.90625 28.71875 34.90625 \nL 20.21875 34.90625 \nL 20.21875 43.015625 \nL 29.109375 43.015625 \nQ 36.375 43.015625 40.234375 45.921875 \nQ 44.09375 48.828125 44.09375 54.296875 \nQ 44.09375 59.90625 40.109375 62.90625 \nQ 36.140625 65.921875 28.71875 65.921875 \nQ 24.65625 65.921875 20.015625 65.03125 \nQ 15.375 64.15625 9.8125 62.3125 \nL 9.8125 71.09375 \nQ 15.4375 72.65625 20.34375 73.4375 \nQ 25.25 74.21875 29.59375 74.21875 \nQ 40.828125 74.21875 47.359375 69.109375 \nQ 53.90625 64.015625 53.90625 55.328125 \nQ 53.90625 49.265625 50.4375 45.09375 \nQ 46.96875 40.921875 40.578125 39.3125 \nz\n\" id=\"DejaVuSans-51\"/>\n      </defs>\n      <g transform=\"translate(227.81 239.640156)scale(0.1 -0.1)\">\n       <use xlink:href=\"#DejaVuSans-51\"/>\n       <use x=\"63.623047\" xlink:href=\"#DejaVuSans-48\"/>\n      </g>\n     </g>\n    </g>\n   </g>\n   <g id=\"matplotlib.axis_2\">\n    <g id=\"ytick_1\">\n     <g id=\"line2d_8\">\n      <defs>\n       <path d=\"M 0 0 \nL -3.5 0 \n\" id=\"ma5e41b77c4\" style=\"stroke:#000000;stroke-width:0.8;\"/>\n      </defs>\n      <g>\n       <use style=\"stroke:#000000;stroke-width:0.8;\" x=\"26.925\" xlink:href=\"#ma5e41b77c4\" y=\"10.999219\"/>\n      </g>\n     </g>\n     <g id=\"text_8\">\n      <!-- 0 -->\n      <g transform=\"translate(13.5625 14.798437)scale(0.1 -0.1)\">\n       <use xlink:href=\"#DejaVuSans-48\"/>\n      </g>\n     </g>\n    </g>\n    <g id=\"ytick_2\">\n     <g id=\"line2d_9\">\n      <g>\n       <use style=\"stroke:#000000;stroke-width:0.8;\" x=\"26.925\" xlink:href=\"#ma5e41b77c4\" y=\"44.974219\"/>\n      </g>\n     </g>\n     <g id=\"text_9\">\n      <!-- 5 -->\n      <g transform=\"translate(13.5625 48.773437)scale(0.1 -0.1)\">\n       <use xlink:href=\"#DejaVuSans-53\"/>\n      </g>\n     </g>\n    </g>\n    <g id=\"ytick_3\">\n     <g id=\"line2d_10\">\n      <g>\n       <use style=\"stroke:#000000;stroke-width:0.8;\" x=\"26.925\" xlink:href=\"#ma5e41b77c4\" y=\"78.949219\"/>\n      </g>\n     </g>\n     <g id=\"text_10\">\n      <!-- 10 -->\n      <g transform=\"translate(7.2 82.748437)scale(0.1 -0.1)\">\n       <use xlink:href=\"#DejaVuSans-49\"/>\n       <use x=\"63.623047\" xlink:href=\"#DejaVuSans-48\"/>\n      </g>\n     </g>\n    </g>\n    <g id=\"ytick_4\">\n     <g id=\"line2d_11\">\n      <g>\n       <use style=\"stroke:#000000;stroke-width:0.8;\" x=\"26.925\" xlink:href=\"#ma5e41b77c4\" y=\"112.924219\"/>\n      </g>\n     </g>\n     <g id=\"text_11\">\n      <!-- 15 -->\n      <g transform=\"translate(7.2 116.723437)scale(0.1 -0.1)\">\n       <use xlink:href=\"#DejaVuSans-49\"/>\n       <use x=\"63.623047\" xlink:href=\"#DejaVuSans-53\"/>\n      </g>\n     </g>\n    </g>\n    <g id=\"ytick_5\">\n     <g id=\"line2d_12\">\n      <g>\n       <use style=\"stroke:#000000;stroke-width:0.8;\" x=\"26.925\" xlink:href=\"#ma5e41b77c4\" y=\"146.899219\"/>\n      </g>\n     </g>\n     <g id=\"text_12\">\n      <!-- 20 -->\n      <g transform=\"translate(7.2 150.698437)scale(0.1 -0.1)\">\n       <use xlink:href=\"#DejaVuSans-50\"/>\n       <use x=\"63.623047\" xlink:href=\"#DejaVuSans-48\"/>\n      </g>\n     </g>\n    </g>\n    <g id=\"ytick_6\">\n     <g id=\"line2d_13\">\n      <g>\n       <use style=\"stroke:#000000;stroke-width:0.8;\" x=\"26.925\" xlink:href=\"#ma5e41b77c4\" y=\"180.874219\"/>\n      </g>\n     </g>\n     <g id=\"text_13\">\n      <!-- 25 -->\n      <g transform=\"translate(7.2 184.673437)scale(0.1 -0.1)\">\n       <use xlink:href=\"#DejaVuSans-50\"/>\n       <use x=\"63.623047\" xlink:href=\"#DejaVuSans-53\"/>\n      </g>\n     </g>\n    </g>\n    <g id=\"ytick_7\">\n     <g id=\"line2d_14\">\n      <g>\n       <use style=\"stroke:#000000;stroke-width:0.8;\" x=\"26.925\" xlink:href=\"#ma5e41b77c4\" y=\"214.849219\"/>\n      </g>\n     </g>\n     <g id=\"text_14\">\n      <!-- 30 -->\n      <g transform=\"translate(7.2 218.648437)scale(0.1 -0.1)\">\n       <use xlink:href=\"#DejaVuSans-51\"/>\n       <use x=\"63.623047\" xlink:href=\"#DejaVuSans-48\"/>\n      </g>\n     </g>\n    </g>\n   </g>\n   <g id=\"patch_3\">\n    <path d=\"M 26.925 225.041719 \nL 26.925 7.601719 \n\" style=\"fill:none;stroke:#000000;stroke-linecap:square;stroke-linejoin:miter;stroke-width:0.8;\"/>\n   </g>\n   <g id=\"patch_4\">\n    <path d=\"M 244.365 225.041719 \nL 244.365 7.601719 \n\" style=\"fill:none;stroke:#000000;stroke-linecap:square;stroke-linejoin:miter;stroke-width:0.8;\"/>\n   </g>\n   <g id=\"patch_5\">\n    <path d=\"M 26.925 225.041719 \nL 244.365 225.041719 \n\" style=\"fill:none;stroke:#000000;stroke-linecap:square;stroke-linejoin:miter;stroke-width:0.8;\"/>\n   </g>\n   <g id=\"patch_6\">\n    <path d=\"M 26.925 7.601719 \nL 244.365 7.601719 \n\" style=\"fill:none;stroke:#000000;stroke-linecap:square;stroke-linejoin:miter;stroke-width:0.8;\"/>\n   </g>\n  </g>\n </g>\n <defs>\n  <clipPath id=\"p16764a9a9f\">\n   <rect height=\"217.44\" width=\"217.44\" x=\"26.925\" y=\"7.601719\"/>\n  </clipPath>\n </defs>\n</svg>\n",
      "image/png": "[encoded data removed]"
     },
     "metadata": {
      "needs_background": "light"
     }
    }
   ],
   "source": [
    "# the filter produces a blurred version of the image\n",
    "# 输出的每个像素点都是原图像中相邻9个像素的平均值\n",
    "output = conv(img.unsqueeze(0))\n",
    "plt.imshow(output[0, 0].detach(), cmap='gray')\n",
    "print(output[0, 0].detach())\n",
    "plt.show()"
   ]
  },
  {
   "cell_type": "code",
   "execution_count": 63,
   "metadata": {
    "tags": []
   },
   "outputs": [
    {
     "output_type": "stream",
     "name": "stdout",
     "text": "torch.Size([1, 3, 3, 3])\ntensor([[-1., -1., -1.],\n        [-1., -1., -1.],\n        [-1., -1., -1.]], device='cuda:4', requires_grad=True)\n"
    }
   ],
   "source": [
    "conv = nn.Conv2d(3, 1, kernel_size=3, padding=1).cuda(4)\n",
    "print(conv.weight.shape)\n",
    "\n",
    "# 如果不用torch.no_grad()包裹，会得到grad_fn=<CopySlices>的跟踪\n",
    "with torch.no_grad():\n",
    "    # an edge-detection kernel: the kernel highlights the vertical edge \n",
    "    # between two horizontally adjacent regions.\n",
    "    conv.weight[:, :] = torch.tensor([[-1.0, 0.0, 1.0],\n",
    "                                   [-1.0, 0.0, 1.0],\n",
    "                                   [-1.0, 0.0, 1.0]])\n",
    "    conv.bias.zero_()\n",
    "    print(conv.bias)\n",
    "    print(conv.weight[0, 0])\n",
    "\n",
    "    print(conv.weight[0, 0].detach())\n",
    "\n",
    "    output = conv(img.unsqueeze(0))\n",
    "    print(output.requires_grad == True)\n"
   ]
  },
  {
   "cell_type": "code",
   "execution_count": 64,
   "metadata": {},
   "outputs": [
    {
     "data": {
      "image/png": "[encoded data removed]",
      "text/plain": [
       "<Figure size 432x288 with 1 Axes>"
      ]
     },
     "metadata": {
      "needs_background": "light"
     },
     "output_type": "display_data"
    }
   ],
   "source": [
    "# 边缘加深\n",
    "output = conv(img.unsqueeze(0))\n",
    "plt.imshow(output[0, 0].detach(), cmap='gray')\n",
    "plt.show()"
   ]
  },
  {
   "cell_type": "code",
   "execution_count": 28,
   "metadata": {},
   "outputs": [],
   "source": [
    "pool = nn.MaxPool2d(2)"
   ]
  },
  {
   "cell_type": "code",
   "execution_count": 29,
   "metadata": {
    "tags": []
   },
   "outputs": [
    {
     "output_type": "stream",
     "name": "stdout",
     "text": "torch.Size([3, 32, 32])\n"
    },
    {
     "output_type": "execute_result",
     "data": {
      "text/plain": "torch.Size([1, 3, 16, 16])"
     },
     "metadata": {},
     "execution_count": 29
    }
   ],
   "source": [
    "print(img.shape)\n",
    "\n",
    "output = pool(img.unsqueeze(0))\n",
    "\n",
    "output.shape"
   ]
  },
  {
   "cell_type": "code",
   "execution_count": 31,
   "metadata": {},
   "outputs": [],
   "source": [
    "model = nn.Sequential(\n",
    "            nn.Conv2d(3, 16, kernel_size=3, padding=1),\n",
    "            nn.Tanh(),\n",
    "            nn.MaxPool2d(2),\n",
    "            nn.Conv2d(16, 8, kernel_size=3, padding=1),\n",
    "            nn.Tanh(),\n",
    "            nn.MaxPool2d(2))"
   ]
  },
  {
   "cell_type": "code",
   "execution_count": 36,
   "metadata": {},
   "outputs": [],
   "source": [
    "model = nn.Sequential(\n",
    "            nn.Conv2d(3, 16, kernel_size=3, padding=1),\n",
    "            nn.Tanh(),\n",
    "            nn.MaxPool2d(2),\n",
    "            nn.Conv2d(16, 8, kernel_size=3, padding=1),\n",
    "            nn.Tanh(),\n",
    "            nn.MaxPool2d(2),\n",
    "            \n",
    "            nn.Flatten(), # WARNING: something missing here\n",
    "            nn.Linear(512, 32),\n",
    "            nn.Tanh(),\n",
    "            nn.Linear(32, 2))"
   ]
  },
  {
   "cell_type": "code",
   "execution_count": 37,
   "metadata": {},
   "outputs": [
    {
     "output_type": "execute_result",
     "data": {
      "text/plain": "18090"
     },
     "metadata": {},
     "execution_count": 37
    }
   ],
   "source": [
    "sum([p.numel() for p in model.parameters()])"
   ]
  },
  {
   "cell_type": "code",
   "execution_count": 38,
   "metadata": {},
   "outputs": [
    {
     "output_type": "execute_result",
     "data": {
      "text/plain": "tensor([[-0.0164, -0.0193]], grad_fn=<AddmmBackward>)"
     },
     "metadata": {},
     "execution_count": 38
    }
   ],
   "source": [
    "model(img.unsqueeze(0))"
   ]
  },
  {
   "cell_type": "code",
   "execution_count": 39,
   "metadata": {},
   "outputs": [],
   "source": [
    "class Net(nn.Module):\n",
    "    def __init__(self):\n",
    "        super(Net, self).__init__()\n",
    "        self.conv1 = nn.Conv2d(3, 16, kernel_size=3, padding=1)\n",
    "        self.act1 = nn.Tanh()\n",
    "        self.pool1 = nn.MaxPool2d(2)\n",
    "        self.conv2 = nn.Conv2d(16, 8, kernel_size=3, padding=1)\n",
    "        self.act2 = nn.Tanh()\n",
    "        self.pool2 = nn.MaxPool2d(2)\n",
    "        self.fc1 = nn.Linear(8 * 8 * 8, 32)\n",
    "        self.act4 = nn.Tanh()\n",
    "        self.fc2 = nn.Linear(32, 2)\n",
    "\n",
    "    def forward(self, x):\n",
    "        out = self.pool1(self.act1(self.conv1(x)))\n",
    "        out = self.pool2(self.act2(self.conv2(out)))\n",
    "        out = out.view(-1, 8 * 8 * 8)\n",
    "        # out = out.view(x.shape[0]， -1)\n",
    "        out = self.act4(self.fc1(out))\n",
    "        out = self.fc2(out)\n",
    "        return out"
   ]
  },
  {
   "cell_type": "code",
   "execution_count": 48,
   "metadata": {
    "tags": []
   },
   "outputs": [
    {
     "output_type": "stream",
     "name": "stdout",
     "text": "conv1.weight\nconv1.bias\nconv2.weight\nconv2.bias\nfc1.weight\nfc1.bias\nfc2.weight\nfc2.bias\n"
    }
   ],
   "source": [
    "model = Net()\n",
    "for name, param in model.named_parameters():\n",
    "    print(name)"
   ]
  },
  {
   "cell_type": "code",
   "execution_count": 54,
   "metadata": {
    "tags": []
   },
   "outputs": [
    {
     "output_type": "stream",
     "name": "stdout",
     "text": "18090\n16416\n66\nfc params' numel:  16482\nconv params' numel:  1608\n"
    }
   ],
   "source": [
    "model = Net()\n",
    "\n",
    "print(sum([p.numel() for p in model.parameters()]))\n",
    "print(sum([p.numel() for p in model.fc1.parameters()]))\n",
    "print(sum([p.numel() for p in model.fc2.parameters()]))\n",
    "\n",
    "print(\"fc params' numel: \", sum([p.numel() for name, p in model.named_parameters() if 'fc' in name]))\n",
    "print(\"conv params' numel: \", sum([p.numel() for name, p in model.named_parameters() if 'fc' not in name]))"
   ]
  },
  {
   "cell_type": "code",
   "execution_count": null,
   "metadata": {},
   "outputs": [],
   "source": [
    "import torch.nn.functional as F\n",
    "\n",
    "class Net(nn.Module):\n",
    "    def __init__(self):\n",
    "        super(Net, self).__init__()\n",
    "        self.conv1 = nn.Conv2d(3, 16, kernel_size=3, padding=1)\n",
    "        self.conv2 = nn.Conv2d(16, 8, kernel_size=3, padding=1)\n",
    "        self.fc1 = nn.Linear(8 * 8 * 8, 32)\n",
    "        self.fc2 = nn.Linear(32, 2)\n",
    "        \n",
    "    def forward(self, x):\n",
    "        out = F.max_pool2d(torch.tanh(self.conv1(x)), 2)\n",
    "        out = F.max_pool2d(torch.tanh(self.conv2(out)), 2)\n",
    "        out = out.view(-1, 8 * 8 * 8)\n",
    "        out = torch.tanh(self.fc1(out))\n",
    "        out = self.fc2(out)\n",
    "        return out"
   ]
  },
  {
   "cell_type": "code",
   "execution_count": 12,
   "metadata": {},
   "outputs": [
    {
     "output_type": "execute_result",
     "data": {
      "text/plain": "18090"
     },
     "metadata": {},
     "execution_count": 12
    }
   ],
   "source": [
    "model = Net()\n",
    "sum([p.numel() for p in model.parameters()])\n",
    "# model(img.unsqueeze(0))"
   ]
  },
  {
   "cell_type": "code",
   "execution_count": 14,
   "metadata": {
    "tags": []
   },
   "outputs": [
    {
     "output_type": "stream",
     "name": "stdout",
     "text": "Epoch: 0, Loss: 0.678978\nEpoch: 10, Loss: 0.231676\nEpoch: 20, Loss: 0.514590\nEpoch: 30, Loss: 0.109054\nEpoch: 40, Loss: 0.180477\nEpoch: 50, Loss: 0.376109\nEpoch: 60, Loss: 0.112484\nEpoch: 70, Loss: 0.027833\nEpoch: 80, Loss: 0.109177\nEpoch: 90, Loss: 0.175938\n"
    }
   ],
   "source": [
    "import torch\n",
    "import torch.nn as nn\n",
    "import torch.nn.functional as F\n",
    "from torch.autograd import Variable\n",
    "import torch.optim as optim\n",
    "\n",
    "# os.environ[\"CUDA_VISIBLE_DEVICES\"] = \"4\"\n",
    "\n",
    "train_loader = torch.utils.data.DataLoader(cifar2, batch_size=64,\n",
    "                                           shuffle=True)\n",
    "\n",
    "class Net(nn.Module):\n",
    "    def __init__(self):\n",
    "        super(Net, self).__init__()\n",
    "        self.conv1 = nn.Conv2d(3, 16, kernel_size=3, padding=1)\n",
    "        self.conv2 = nn.Conv2d(16, 8, kernel_size=3, padding=1)\n",
    "        self.fc1 = nn.Linear(8 * 8 * 8, 32)\n",
    "        self.fc2 = nn.Linear(32, 2)\n",
    "        \n",
    "    def forward(self, x):\n",
    "        out = F.max_pool2d(torch.relu(self.conv1(x)), 2)\n",
    "        out = F.max_pool2d(torch.relu(self.conv2(out)), 2)\n",
    "        out = out.view(-1, 8 * 8 * 8)\n",
    "        out = torch.tanh(self.fc1(out))\n",
    "        out = self.fc2(out)\n",
    "        return out\n",
    "    \n",
    "model = Net().cuda(4)\n",
    "\n",
    "learning_rate = 1e-2\n",
    "\n",
    "optimizer = optim.SGD(model.parameters(), lr=learning_rate)\n",
    "\n",
    "loss_fn = nn.CrossEntropyLoss().cuda(4)\n",
    "\n",
    "n_epochs = 100\n",
    "\n",
    "for epoch in range(n_epochs):\n",
    "    for imgs, labels in train_loader:\n",
    "        imgs, labels = Variable(imgs.cuda(4)), Variable(labels.cuda(4))\n",
    "        outputs = model(imgs)\n",
    "        loss = loss_fn(outputs, labels)\n",
    "                \n",
    "        optimizer.zero_grad()\n",
    "        loss.backward()\n",
    "        optimizer.step()\n",
    "    if epoch == 0 or epoch % 10 == 0:\n",
    "        print(\"Epoch: %d, Loss: %f\" % (epoch, float(loss)))"
   ]
  },
  {
   "cell_type": "code",
   "execution_count": 17,
   "metadata": {
    "tags": []
   },
   "outputs": [
    {
     "output_type": "stream",
     "name": "stdout",
     "text": "Accuracy: 0.883900\n"
    }
   ],
   "source": [
    "train_loader = torch.utils.data.DataLoader(cifar2, batch_size=64,\n",
    "                                           shuffle=False)\n",
    "\n",
    "correct = 0\n",
    "total = 0\n",
    "\n",
    "with torch.no_grad():\n",
    "    for imgs, labels in train_loader:\n",
    "        imgs, labels = Variable(imgs.cuda(4)), Variable(labels.cuda(4))\n",
    "        outputs = model(imgs)\n",
    "        _, predicted = torch.max(outputs, dim=1)\n",
    "        total += labels.shape[0]\n",
    "        correct += int((predicted == labels).sum())\n",
    "        \n",
    "print(\"Accuracy: %f\" % (correct / total))"
   ]
  },
  {
   "cell_type": "code",
   "execution_count": 19,
   "metadata": {
    "tags": []
   },
   "outputs": [
    {
     "output_type": "stream",
     "name": "stdout",
     "text": "Accuracy: 0.855500\n"
    }
   ],
   "source": [
    "val_loader = torch.utils.data.DataLoader(cifar2_val, batch_size=64,\n",
    "                                         shuffle=False)\n",
    "\n",
    "correct = 0\n",
    "total = 0\n",
    "\n",
    "with torch.no_grad():\n",
    "    for imgs, labels in val_loader:\n",
    "        imgs, labels = Variable(imgs.cuda(4)), Variable(labels.cuda(4))\n",
    "        outputs = model(imgs)\n",
    "        _, predicted = torch.max(outputs, dim=1)\n",
    "        total += labels.shape[0]\n",
    "        correct += int((predicted == labels).sum())\n",
    "        \n",
    "print(\"Accuracy: %f\" % (correct / total))"
   ]
  },
  {
   "cell_type": "code",
   "execution_count": 1,
   "metadata": {},
   "outputs": [
    {
     "output_type": "execute_result",
     "data": {
      "text/plain": "18090"
     },
     "metadata": {},
     "execution_count": 1
    }
   ],
   "source": [
    "import torch\n",
    "import torch.nn as nn\n",
    "import torch.nn.functional as F\n",
    "\n",
    "class Net(nn.Module):\n",
    "    def __init__(self):\n",
    "        super(Net, self).__init__()\n",
    "        self.conv1 = nn.Conv2d(3, 16, kernel_size=3, padding=1)\n",
    "        self.conv2 = nn.Conv2d(16, 8, kernel_size=3, padding=1)\n",
    "        self.fc1 = nn.Linear(8 * 8 * 8, 32)\n",
    "        self.fc2 = nn.Linear(32, 2)\n",
    "        \n",
    "    def forward(self, x):\n",
    "        out = F.max_pool2d(torch.relu(self.conv1(x)), 2)\n",
    "        out = F.max_pool2d(torch.relu(self.conv2(out)), 2)\n",
    "        out = out.view(-1, 8 * 8 * 8)\n",
    "        out = torch.tanh(self.fc1(out))\n",
    "        out = self.fc2(out)\n",
    "        return out\n",
    "    \n",
    "model = Net()\n",
    "sum([p.numel() for p in model.parameters()])"
   ]
  },
  {
   "cell_type": "code",
   "execution_count": 19,
   "metadata": {},
   "outputs": [
    {
     "output_type": "execute_result",
     "data": {
      "text/plain": "tensor([[ 0.1292, -0.1504]], grad_fn=<AddmmBackward>)"
     },
     "metadata": {},
     "execution_count": 19
    }
   ],
   "source": [
    "\n",
    "model = nn.Sequential(\n",
    "            nn.Conv2d(3, 16, kernel_size=3, padding=1),\n",
    "            nn.Tanh(),\n",
    "            nn.MaxPool2d(2),\n",
    "            nn.Conv2d(16, 8, kernel_size=3, padding=1),\n",
    "            nn.Tanh(),\n",
    "            nn.MaxPool2d(2),\n",
    "            nn.Flatten(),\n",
    "            nn.Linear(8*8*8, 32),\n",
    "            nn.Tanh(),\n",
    "            nn.Linear(32, 2))\n",
    "\n",
    "model(img.unsqueeze(0))"
   ]
  },
  {
   "cell_type": "code",
   "execution_count": null,
   "metadata": {},
   "outputs": [],
   "source": []
  }
 ],
 "metadata": {
  "kernelspec": {
   "display_name": "Python 3.8.2 64-bit ('pytorch_env': conda)",
   "language": "python",
   "name": "python_defaultSpec_1596604080820"
  },
  "language_info": {
   "codemirror_mode": {
    "name": "ipython",
    "version": 3
   },
   "file_extension": ".py",
   "mimetype": "text/x-python",
   "name": "python",
   "nbconvert_exporter": "python",
   "pygments_lexer": "ipython3",
   "version": "3.8.2-final"
  }
 },
 "nbformat": 4,
 "nbformat_minor": 2
}